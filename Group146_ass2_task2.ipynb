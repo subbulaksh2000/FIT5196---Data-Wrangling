{
  "nbformat": 4,
  "nbformat_minor": 0,
  "metadata": {
    "colab": {
      "provenance": [],
      "toc_visible": true
    },
    "kernelspec": {
      "name": "python3",
      "display_name": "Python 3"
    },
    "language_info": {
      "name": "python"
    }
  },
  "cells": [
    {
      "cell_type": "markdown",
      "source": [
        "<div class=\"alert alert-block alert-danger\">\n",
        "    \n",
        "## Table of Contents\n",
        "\n",
        "</div>    \n",
        "\n",
        "[1. Dirty Data](#dirty) <br>\n",
        "[1.1. Data Loading](#load) <br>\n",
        "[1.2. Data Exploration](#explore) <br>\n",
        "[1.3. Column wise inspection](#inspect) <br>\n",
        "$\\;\\;\\;\\;$[1.3.1. Date](#date) <br>\n",
        "$\\;\\;\\;\\;$[1.3.2. Geographical Coordinates](#cood) <br>\n",
        "$\\;\\;\\;\\;$[1.3.3. Warehouse Names](#warehouse) <br>\n",
        "$\\;\\;\\;\\;$[1.3.4. Shopping Cart](#cart) <br>\n",
        "$\\;\\;\\;\\;$[1.3.5. Order Price](#price) <br>\n",
        "$\\;\\;\\;\\;$[1.3.6. is_expedited_delivery](#expedite) <br>\n",
        "$\\;\\;\\;\\;$[1.3.7. Season](#expedite) <br>\n",
        "$\\;\\;\\;\\;$[1.3.8. Order total](#total) <br>\n",
        "[2. Corrections](#correction) <br>"
      ],
      "metadata": {
        "id": "Mj0LMDCCcKM6"
      }
    },
    {
      "cell_type": "code",
      "source": [
        "from google.colab import drive\n",
        "drive.mount('/content/drive')"
      ],
      "metadata": {
        "id": "cn2YZW_baiB7",
        "colab": {
          "base_uri": "https://localhost:8080/"
        },
        "outputId": "717f10d8-536e-4331-8a96-ea2ec4fcddd0"
      },
      "execution_count": null,
      "outputs": [
        {
          "output_type": "stream",
          "name": "stdout",
          "text": [
            "Drive already mounted at /content/drive; to attempt to forcibly remount, call drive.mount(\"/content/drive\", force_remount=True).\n"
          ]
        }
      ]
    },
    {
      "cell_type": "markdown",
      "source": [
        "# Importing Libraries"
      ],
      "metadata": {
        "id": "3kAkciYhSDRe"
      }
    },
    {
      "cell_type": "markdown",
      "source": [
        "* Pandas: Used for data manipulation, loading, and preprocessing, including handling missing values and data cleaning.\n",
        "* numpy: Utilized for numerical operations and handling arrays for data manipulation.\n",
        "* StandardScaler and MinMaxScaler (sklearn.preprocessing): These are used to scale features, either by standardizing them to have zero mean and unit variance (StandardScaler) or by normalizing them to a range (MinMaxScaler).\n",
        "* matplotlib.pyplot: A plotting library for creating static, animated, and interactive visualizations to explore and present data insights.\n",
        "* seaborn: Built on top of matplotlib, used for creating visually appealing and informative statistical graphics.\n",
        "* train_test_split (sklearn.model_selection): Splits the dataset into training and test sets to ensure model evaluation on unseen data.\n",
        "* LinearRegression (sklearn.linear_model): Implements the linear regression algorithm to model the relationship between independent variables and the target variable.\n",
        "* mean_squared_error and r2_score (sklearn.metrics): These metrics evaluate the model's performance by measuring prediction error (MSE) and the goodness of fit (R² score).\n",
        "\n"
      ],
      "metadata": {
        "id": "s9D8Qu0eVIkp"
      }
    },
    {
      "cell_type": "code",
      "source": [
        "import pandas as pd\n",
        "import numpy as np\n",
        "from sklearn.preprocessing import StandardScaler, MinMaxScaler\n",
        "import matplotlib.pyplot as plt\n",
        "import seaborn as sns\n",
        "from sklearn.model_selection import train_test_split\n",
        "from sklearn.linear_model import LinearRegression\n",
        "from sklearn.metrics import mean_squared_error, r2_score\n"
      ],
      "metadata": {
        "id": "cGoTp_b-qMQS"
      },
      "execution_count": null,
      "outputs": []
    },
    {
      "cell_type": "markdown",
      "source": [
        "# Data Loading and Cleaning"
      ],
      "metadata": {
        "id": "31DAQsdITBSj"
      }
    },
    {
      "cell_type": "markdown",
      "source": [
        "The dataset, which included details about different suburbs, was imported into a pandas DataFrame from an Excel file. To make sure the data was in the right format for analysis, a number of columns needed to be cleaned and standardized before any analysis could begin.\n",
        "\n",
        "* The Dataset is being loaded: The read_excel() function, which enables smooth reading of Excel files, was used to read the dataset into a pandas DataFrame. The shared Google Drive location was used to access the file.\n",
        "\n",
        "* It is necessary to clean the 'aus_born_perc' column: The column aus_born_perc displays the proportion of individuals who were born in Australia. Initially, this column had percentage signs (%), which are not suitable for use in numerical computations. The column was converted to a numeric type using pd.to_numeric() after the % sign was removed using str.replace(). This translation ensures that the percentage values can be used in subsequent research, including modeling or the calculation of descriptive statistics.\n",
        "\n",
        "* 'Median_income' and'median_house_price' are cleaned Columns: At first, there were dollar signs ($) and commas in the median_income and median_house_price columns, which are incompatible with numerical operations. The str.replace() function's regular expression was used to eliminate these symbols. pd.to_numeric() was then used to transform the resultant strings into numeric values. Meaningful comparisons and studies of income and house prices across various suburbs are made possible by this transformation.\n",
        "\n",
        "* Displaying the Cleaned Data: To ensure that the data was properly formatted and prepared for additional analysis, the head() function was used to display the first few rows of the DataFrame following cleaning.\n",
        "\n",
        "By performing these cleaning steps, the dataset was standardized, enabling accurate and efficient analysis. These transformations are essential for ensuring that the data can be utilized for statistical analysis or machine learning tasks without encountering errors due to data formatting issues."
      ],
      "metadata": {
        "id": "FMmgom3MLT_D"
      }
    },
    {
      "cell_type": "code",
      "execution_count": null,
      "metadata": {
        "colab": {
          "base_uri": "https://localhost:8080/",
          "height": 206
        },
        "id": "yAedRGZXZ6Pq",
        "outputId": "5256cb37-9a30-4252-a38c-e5263727e688"
      },
      "outputs": [
        {
          "output_type": "execute_result",
          "data": {
            "text/plain": [
              "       suburb  number_of_houses  number_of_units   municipality  \\\n",
              "0  ABBOTSFORD              2304             4706          Yarra   \n",
              "1  ABERFELDIE              1410              453  Moonee Valley   \n",
              "2   ALBANVALE              1897              138       Brimbank   \n",
              "3      ALBION              1389             1392       Brimbank   \n",
              "4  ALPHINGTON              1729             1099        Darebin   \n",
              "\n",
              "   aus_born_perc  median_income  median_house_price  population  \n",
              "0             68           1797             1299400        4025  \n",
              "1             81           1571             1926600       22442  \n",
              "2             46            907              594200       54005  \n",
              "3             52            929              739100       30677  \n",
              "4             73           1538             1729600        9227  "
            ],
            "text/html": [
              "\n",
              "  <div id=\"df-db447441-2939-4f84-bf3a-8e79861ec778\" class=\"colab-df-container\">\n",
              "    <div>\n",
              "<style scoped>\n",
              "    .dataframe tbody tr th:only-of-type {\n",
              "        vertical-align: middle;\n",
              "    }\n",
              "\n",
              "    .dataframe tbody tr th {\n",
              "        vertical-align: top;\n",
              "    }\n",
              "\n",
              "    .dataframe thead th {\n",
              "        text-align: right;\n",
              "    }\n",
              "</style>\n",
              "<table border=\"1\" class=\"dataframe\">\n",
              "  <thead>\n",
              "    <tr style=\"text-align: right;\">\n",
              "      <th></th>\n",
              "      <th>suburb</th>\n",
              "      <th>number_of_houses</th>\n",
              "      <th>number_of_units</th>\n",
              "      <th>municipality</th>\n",
              "      <th>aus_born_perc</th>\n",
              "      <th>median_income</th>\n",
              "      <th>median_house_price</th>\n",
              "      <th>population</th>\n",
              "    </tr>\n",
              "  </thead>\n",
              "  <tbody>\n",
              "    <tr>\n",
              "      <th>0</th>\n",
              "      <td>ABBOTSFORD</td>\n",
              "      <td>2304</td>\n",
              "      <td>4706</td>\n",
              "      <td>Yarra</td>\n",
              "      <td>68</td>\n",
              "      <td>1797</td>\n",
              "      <td>1299400</td>\n",
              "      <td>4025</td>\n",
              "    </tr>\n",
              "    <tr>\n",
              "      <th>1</th>\n",
              "      <td>ABERFELDIE</td>\n",
              "      <td>1410</td>\n",
              "      <td>453</td>\n",
              "      <td>Moonee Valley</td>\n",
              "      <td>81</td>\n",
              "      <td>1571</td>\n",
              "      <td>1926600</td>\n",
              "      <td>22442</td>\n",
              "    </tr>\n",
              "    <tr>\n",
              "      <th>2</th>\n",
              "      <td>ALBANVALE</td>\n",
              "      <td>1897</td>\n",
              "      <td>138</td>\n",
              "      <td>Brimbank</td>\n",
              "      <td>46</td>\n",
              "      <td>907</td>\n",
              "      <td>594200</td>\n",
              "      <td>54005</td>\n",
              "    </tr>\n",
              "    <tr>\n",
              "      <th>3</th>\n",
              "      <td>ALBION</td>\n",
              "      <td>1389</td>\n",
              "      <td>1392</td>\n",
              "      <td>Brimbank</td>\n",
              "      <td>52</td>\n",
              "      <td>929</td>\n",
              "      <td>739100</td>\n",
              "      <td>30677</td>\n",
              "    </tr>\n",
              "    <tr>\n",
              "      <th>4</th>\n",
              "      <td>ALPHINGTON</td>\n",
              "      <td>1729</td>\n",
              "      <td>1099</td>\n",
              "      <td>Darebin</td>\n",
              "      <td>73</td>\n",
              "      <td>1538</td>\n",
              "      <td>1729600</td>\n",
              "      <td>9227</td>\n",
              "    </tr>\n",
              "  </tbody>\n",
              "</table>\n",
              "</div>\n",
              "    <div class=\"colab-df-buttons\">\n",
              "\n",
              "  <div class=\"colab-df-container\">\n",
              "    <button class=\"colab-df-convert\" onclick=\"convertToInteractive('df-db447441-2939-4f84-bf3a-8e79861ec778')\"\n",
              "            title=\"Convert this dataframe to an interactive table.\"\n",
              "            style=\"display:none;\">\n",
              "\n",
              "  <svg xmlns=\"http://www.w3.org/2000/svg\" height=\"24px\" viewBox=\"0 -960 960 960\">\n",
              "    <path d=\"M120-120v-720h720v720H120Zm60-500h600v-160H180v160Zm220 220h160v-160H400v160Zm0 220h160v-160H400v160ZM180-400h160v-160H180v160Zm440 0h160v-160H620v160ZM180-180h160v-160H180v160Zm440 0h160v-160H620v160Z\"/>\n",
              "  </svg>\n",
              "    </button>\n",
              "\n",
              "  <style>\n",
              "    .colab-df-container {\n",
              "      display:flex;\n",
              "      gap: 12px;\n",
              "    }\n",
              "\n",
              "    .colab-df-convert {\n",
              "      background-color: #E8F0FE;\n",
              "      border: none;\n",
              "      border-radius: 50%;\n",
              "      cursor: pointer;\n",
              "      display: none;\n",
              "      fill: #1967D2;\n",
              "      height: 32px;\n",
              "      padding: 0 0 0 0;\n",
              "      width: 32px;\n",
              "    }\n",
              "\n",
              "    .colab-df-convert:hover {\n",
              "      background-color: #E2EBFA;\n",
              "      box-shadow: 0px 1px 2px rgba(60, 64, 67, 0.3), 0px 1px 3px 1px rgba(60, 64, 67, 0.15);\n",
              "      fill: #174EA6;\n",
              "    }\n",
              "\n",
              "    .colab-df-buttons div {\n",
              "      margin-bottom: 4px;\n",
              "    }\n",
              "\n",
              "    [theme=dark] .colab-df-convert {\n",
              "      background-color: #3B4455;\n",
              "      fill: #D2E3FC;\n",
              "    }\n",
              "\n",
              "    [theme=dark] .colab-df-convert:hover {\n",
              "      background-color: #434B5C;\n",
              "      box-shadow: 0px 1px 3px 1px rgba(0, 0, 0, 0.15);\n",
              "      filter: drop-shadow(0px 1px 2px rgba(0, 0, 0, 0.3));\n",
              "      fill: #FFFFFF;\n",
              "    }\n",
              "  </style>\n",
              "\n",
              "    <script>\n",
              "      const buttonEl =\n",
              "        document.querySelector('#df-db447441-2939-4f84-bf3a-8e79861ec778 button.colab-df-convert');\n",
              "      buttonEl.style.display =\n",
              "        google.colab.kernel.accessAllowed ? 'block' : 'none';\n",
              "\n",
              "      async function convertToInteractive(key) {\n",
              "        const element = document.querySelector('#df-db447441-2939-4f84-bf3a-8e79861ec778');\n",
              "        const dataTable =\n",
              "          await google.colab.kernel.invokeFunction('convertToInteractive',\n",
              "                                                    [key], {});\n",
              "        if (!dataTable) return;\n",
              "\n",
              "        const docLinkHtml = 'Like what you see? Visit the ' +\n",
              "          '<a target=\"_blank\" href=https://colab.research.google.com/notebooks/data_table.ipynb>data table notebook</a>'\n",
              "          + ' to learn more about interactive tables.';\n",
              "        element.innerHTML = '';\n",
              "        dataTable['output_type'] = 'display_data';\n",
              "        await google.colab.output.renderOutput(dataTable, element);\n",
              "        const docLink = document.createElement('div');\n",
              "        docLink.innerHTML = docLinkHtml;\n",
              "        element.appendChild(docLink);\n",
              "      }\n",
              "    </script>\n",
              "  </div>\n",
              "\n",
              "\n",
              "<div id=\"df-4ef74400-81d9-470c-a93c-78382692776a\">\n",
              "  <button class=\"colab-df-quickchart\" onclick=\"quickchart('df-4ef74400-81d9-470c-a93c-78382692776a')\"\n",
              "            title=\"Suggest charts\"\n",
              "            style=\"display:none;\">\n",
              "\n",
              "<svg xmlns=\"http://www.w3.org/2000/svg\" height=\"24px\"viewBox=\"0 0 24 24\"\n",
              "     width=\"24px\">\n",
              "    <g>\n",
              "        <path d=\"M19 3H5c-1.1 0-2 .9-2 2v14c0 1.1.9 2 2 2h14c1.1 0 2-.9 2-2V5c0-1.1-.9-2-2-2zM9 17H7v-7h2v7zm4 0h-2V7h2v10zm4 0h-2v-4h2v4z\"/>\n",
              "    </g>\n",
              "</svg>\n",
              "  </button>\n",
              "\n",
              "<style>\n",
              "  .colab-df-quickchart {\n",
              "      --bg-color: #E8F0FE;\n",
              "      --fill-color: #1967D2;\n",
              "      --hover-bg-color: #E2EBFA;\n",
              "      --hover-fill-color: #174EA6;\n",
              "      --disabled-fill-color: #AAA;\n",
              "      --disabled-bg-color: #DDD;\n",
              "  }\n",
              "\n",
              "  [theme=dark] .colab-df-quickchart {\n",
              "      --bg-color: #3B4455;\n",
              "      --fill-color: #D2E3FC;\n",
              "      --hover-bg-color: #434B5C;\n",
              "      --hover-fill-color: #FFFFFF;\n",
              "      --disabled-bg-color: #3B4455;\n",
              "      --disabled-fill-color: #666;\n",
              "  }\n",
              "\n",
              "  .colab-df-quickchart {\n",
              "    background-color: var(--bg-color);\n",
              "    border: none;\n",
              "    border-radius: 50%;\n",
              "    cursor: pointer;\n",
              "    display: none;\n",
              "    fill: var(--fill-color);\n",
              "    height: 32px;\n",
              "    padding: 0;\n",
              "    width: 32px;\n",
              "  }\n",
              "\n",
              "  .colab-df-quickchart:hover {\n",
              "    background-color: var(--hover-bg-color);\n",
              "    box-shadow: 0 1px 2px rgba(60, 64, 67, 0.3), 0 1px 3px 1px rgba(60, 64, 67, 0.15);\n",
              "    fill: var(--button-hover-fill-color);\n",
              "  }\n",
              "\n",
              "  .colab-df-quickchart-complete:disabled,\n",
              "  .colab-df-quickchart-complete:disabled:hover {\n",
              "    background-color: var(--disabled-bg-color);\n",
              "    fill: var(--disabled-fill-color);\n",
              "    box-shadow: none;\n",
              "  }\n",
              "\n",
              "  .colab-df-spinner {\n",
              "    border: 2px solid var(--fill-color);\n",
              "    border-color: transparent;\n",
              "    border-bottom-color: var(--fill-color);\n",
              "    animation:\n",
              "      spin 1s steps(1) infinite;\n",
              "  }\n",
              "\n",
              "  @keyframes spin {\n",
              "    0% {\n",
              "      border-color: transparent;\n",
              "      border-bottom-color: var(--fill-color);\n",
              "      border-left-color: var(--fill-color);\n",
              "    }\n",
              "    20% {\n",
              "      border-color: transparent;\n",
              "      border-left-color: var(--fill-color);\n",
              "      border-top-color: var(--fill-color);\n",
              "    }\n",
              "    30% {\n",
              "      border-color: transparent;\n",
              "      border-left-color: var(--fill-color);\n",
              "      border-top-color: var(--fill-color);\n",
              "      border-right-color: var(--fill-color);\n",
              "    }\n",
              "    40% {\n",
              "      border-color: transparent;\n",
              "      border-right-color: var(--fill-color);\n",
              "      border-top-color: var(--fill-color);\n",
              "    }\n",
              "    60% {\n",
              "      border-color: transparent;\n",
              "      border-right-color: var(--fill-color);\n",
              "    }\n",
              "    80% {\n",
              "      border-color: transparent;\n",
              "      border-right-color: var(--fill-color);\n",
              "      border-bottom-color: var(--fill-color);\n",
              "    }\n",
              "    90% {\n",
              "      border-color: transparent;\n",
              "      border-bottom-color: var(--fill-color);\n",
              "    }\n",
              "  }\n",
              "</style>\n",
              "\n",
              "  <script>\n",
              "    async function quickchart(key) {\n",
              "      const quickchartButtonEl =\n",
              "        document.querySelector('#' + key + ' button');\n",
              "      quickchartButtonEl.disabled = true;  // To prevent multiple clicks.\n",
              "      quickchartButtonEl.classList.add('colab-df-spinner');\n",
              "      try {\n",
              "        const charts = await google.colab.kernel.invokeFunction(\n",
              "            'suggestCharts', [key], {});\n",
              "      } catch (error) {\n",
              "        console.error('Error during call to suggestCharts:', error);\n",
              "      }\n",
              "      quickchartButtonEl.classList.remove('colab-df-spinner');\n",
              "      quickchartButtonEl.classList.add('colab-df-quickchart-complete');\n",
              "    }\n",
              "    (() => {\n",
              "      let quickchartButtonEl =\n",
              "        document.querySelector('#df-4ef74400-81d9-470c-a93c-78382692776a button');\n",
              "      quickchartButtonEl.style.display =\n",
              "        google.colab.kernel.accessAllowed ? 'block' : 'none';\n",
              "    })();\n",
              "  </script>\n",
              "</div>\n",
              "\n",
              "    </div>\n",
              "  </div>\n"
            ],
            "application/vnd.google.colaboratory.intrinsic+json": {
              "type": "dataframe",
              "variable_name": "suburb_info_df",
              "summary": "{\n  \"name\": \"suburb_info_df\",\n  \"rows\": 202,\n  \"fields\": [\n    {\n      \"column\": \"suburb\",\n      \"properties\": {\n        \"dtype\": \"string\",\n        \"num_unique_values\": 202,\n        \"samples\": [\n          \"HALLAM\",\n          \"BAYSWATER\",\n          \"BRUNSWICK\"\n        ],\n        \"semantic_type\": \"\",\n        \"description\": \"\"\n      }\n    },\n    {\n      \"column\": \"number_of_houses\",\n      \"properties\": {\n        \"dtype\": \"number\",\n        \"std\": 3400,\n        \"min\": 283,\n        \"max\": 23338,\n        \"num_unique_values\": 198,\n        \"samples\": [\n          7575,\n          9761,\n          3026\n        ],\n        \"semantic_type\": \"\",\n        \"description\": \"\"\n      }\n    },\n    {\n      \"column\": \"number_of_units\",\n      \"properties\": {\n        \"dtype\": \"number\",\n        \"std\": 3132,\n        \"min\": 60,\n        \"max\": 24380,\n        \"num_unique_values\": 197,\n        \"samples\": [\n          1636,\n          1578,\n          1874\n        ],\n        \"semantic_type\": \"\",\n        \"description\": \"\"\n      }\n    },\n    {\n      \"column\": \"municipality\",\n      \"properties\": {\n        \"dtype\": \"category\",\n        \"num_unique_values\": 28,\n        \"samples\": [\n          \"Port Phillip\",\n          \"Casey\",\n          \"Hume\"\n        ],\n        \"semantic_type\": \"\",\n        \"description\": \"\"\n      }\n    },\n    {\n      \"column\": \"aus_born_perc\",\n      \"properties\": {\n        \"dtype\": \"number\",\n        \"std\": 10,\n        \"min\": 36,\n        \"max\": 88,\n        \"num_unique_values\": 40,\n        \"samples\": [\n          69,\n          56,\n          58\n        ],\n        \"semantic_type\": \"\",\n        \"description\": \"\"\n      }\n    },\n    {\n      \"column\": \"median_income\",\n      \"properties\": {\n        \"dtype\": \"number\",\n        \"std\": 317,\n        \"min\": 633,\n        \"max\": 2352,\n        \"num_unique_values\": 129,\n        \"samples\": [\n          1356,\n          1663,\n          1179\n        ],\n        \"semantic_type\": \"\",\n        \"description\": \"\"\n      }\n    },\n    {\n      \"column\": \"median_house_price\",\n      \"properties\": {\n        \"dtype\": \"number\",\n        \"std\": 471680,\n        \"min\": 507200,\n        \"max\": 2875800,\n        \"num_unique_values\": 201,\n        \"samples\": [\n          724000,\n          865500,\n          1265800\n        ],\n        \"semantic_type\": \"\",\n        \"description\": \"\"\n      }\n    },\n    {\n      \"column\": \"population\",\n      \"properties\": {\n        \"dtype\": \"number\",\n        \"std\": 9604,\n        \"min\": 170,\n        \"max\": 54005,\n        \"num_unique_values\": 135,\n        \"samples\": [\n          12017,\n          9007,\n          6692\n        ],\n        \"semantic_type\": \"\",\n        \"description\": \"\"\n      }\n    }\n  ]\n}"
            }
          },
          "metadata": {},
          "execution_count": 4
        }
      ],
      "source": [
        "# Load the dataset\n",
        "file_path = '/content/drive/Shareddrives/FIT5196_S2_2024/GroupAssessment2/suburb_info.xlsx'\n",
        "suburb_info_df = pd.read_excel(file_path)\n",
        "\n",
        "# Cleaning 'aus_born_perc' column by removing '%' and converting to numeric\n",
        "suburb_info_df['aus_born_perc'] = pd.to_numeric(suburb_info_df['aus_born_perc'].str.replace('%', ''))\n",
        "\n",
        "# Cleaning 'median_income' and 'median_house_price' columns by removing '$' and commas, then converting to numeric\n",
        "suburb_info_df['median_income'] = pd.to_numeric(suburb_info_df['median_income'].str.replace('[$,]', '', regex=True))\n",
        "suburb_info_df['median_house_price'] = pd.to_numeric(suburb_info_df['median_house_price'].str.replace('[$,]', '', regex=True))\n",
        "\n",
        "# Display the cleaned data\n",
        "suburb_info_df.head()"
      ]
    },
    {
      "cell_type": "code",
      "source": [
        "# summarize statistics for numerical columns in the suburb_info_df DataFrame\n",
        "suburb_info_df.describe()"
      ],
      "metadata": {
        "colab": {
          "base_uri": "https://localhost:8080/",
          "height": 300
        },
        "id": "mqOaOhti0cAs",
        "outputId": "afd9c541-e9e3-43ee-e3ac-3317efc176fa"
      },
      "execution_count": null,
      "outputs": [
        {
          "output_type": "execute_result",
          "data": {
            "text/plain": [
              "       number_of_houses  number_of_units  aus_born_perc  median_income  \\\n",
              "count        202.000000       202.000000     202.000000     202.000000   \n",
              "mean        4155.767327      2480.410891      68.366337    1387.935644   \n",
              "std         3400.864988      3132.684712      10.761293     317.841321   \n",
              "min          283.000000        60.000000      36.000000     633.000000   \n",
              "25%         1973.500000       620.500000      62.000000    1182.250000   \n",
              "50%         3256.500000      1603.000000      70.000000    1393.000000   \n",
              "75%         5518.500000      3089.000000      77.000000    1560.000000   \n",
              "max        23338.000000     24380.000000      88.000000    2352.000000   \n",
              "\n",
              "       median_house_price    population  \n",
              "count        2.020000e+02    202.000000  \n",
              "mean         1.218817e+06  18659.311881  \n",
              "std          4.716807e+05   9604.187282  \n",
              "min          5.072000e+05    170.000000  \n",
              "25%          8.706750e+05  12063.000000  \n",
              "50%          1.134500e+06  17583.000000  \n",
              "75%          1.467550e+06  24045.000000  \n",
              "max          2.875800e+06  54005.000000  "
            ],
            "text/html": [
              "\n",
              "  <div id=\"df-968dbe82-6a8a-4ec2-8f01-5ec0ad25a8a5\" class=\"colab-df-container\">\n",
              "    <div>\n",
              "<style scoped>\n",
              "    .dataframe tbody tr th:only-of-type {\n",
              "        vertical-align: middle;\n",
              "    }\n",
              "\n",
              "    .dataframe tbody tr th {\n",
              "        vertical-align: top;\n",
              "    }\n",
              "\n",
              "    .dataframe thead th {\n",
              "        text-align: right;\n",
              "    }\n",
              "</style>\n",
              "<table border=\"1\" class=\"dataframe\">\n",
              "  <thead>\n",
              "    <tr style=\"text-align: right;\">\n",
              "      <th></th>\n",
              "      <th>number_of_houses</th>\n",
              "      <th>number_of_units</th>\n",
              "      <th>aus_born_perc</th>\n",
              "      <th>median_income</th>\n",
              "      <th>median_house_price</th>\n",
              "      <th>population</th>\n",
              "    </tr>\n",
              "  </thead>\n",
              "  <tbody>\n",
              "    <tr>\n",
              "      <th>count</th>\n",
              "      <td>202.000000</td>\n",
              "      <td>202.000000</td>\n",
              "      <td>202.000000</td>\n",
              "      <td>202.000000</td>\n",
              "      <td>2.020000e+02</td>\n",
              "      <td>202.000000</td>\n",
              "    </tr>\n",
              "    <tr>\n",
              "      <th>mean</th>\n",
              "      <td>4155.767327</td>\n",
              "      <td>2480.410891</td>\n",
              "      <td>68.366337</td>\n",
              "      <td>1387.935644</td>\n",
              "      <td>1.218817e+06</td>\n",
              "      <td>18659.311881</td>\n",
              "    </tr>\n",
              "    <tr>\n",
              "      <th>std</th>\n",
              "      <td>3400.864988</td>\n",
              "      <td>3132.684712</td>\n",
              "      <td>10.761293</td>\n",
              "      <td>317.841321</td>\n",
              "      <td>4.716807e+05</td>\n",
              "      <td>9604.187282</td>\n",
              "    </tr>\n",
              "    <tr>\n",
              "      <th>min</th>\n",
              "      <td>283.000000</td>\n",
              "      <td>60.000000</td>\n",
              "      <td>36.000000</td>\n",
              "      <td>633.000000</td>\n",
              "      <td>5.072000e+05</td>\n",
              "      <td>170.000000</td>\n",
              "    </tr>\n",
              "    <tr>\n",
              "      <th>25%</th>\n",
              "      <td>1973.500000</td>\n",
              "      <td>620.500000</td>\n",
              "      <td>62.000000</td>\n",
              "      <td>1182.250000</td>\n",
              "      <td>8.706750e+05</td>\n",
              "      <td>12063.000000</td>\n",
              "    </tr>\n",
              "    <tr>\n",
              "      <th>50%</th>\n",
              "      <td>3256.500000</td>\n",
              "      <td>1603.000000</td>\n",
              "      <td>70.000000</td>\n",
              "      <td>1393.000000</td>\n",
              "      <td>1.134500e+06</td>\n",
              "      <td>17583.000000</td>\n",
              "    </tr>\n",
              "    <tr>\n",
              "      <th>75%</th>\n",
              "      <td>5518.500000</td>\n",
              "      <td>3089.000000</td>\n",
              "      <td>77.000000</td>\n",
              "      <td>1560.000000</td>\n",
              "      <td>1.467550e+06</td>\n",
              "      <td>24045.000000</td>\n",
              "    </tr>\n",
              "    <tr>\n",
              "      <th>max</th>\n",
              "      <td>23338.000000</td>\n",
              "      <td>24380.000000</td>\n",
              "      <td>88.000000</td>\n",
              "      <td>2352.000000</td>\n",
              "      <td>2.875800e+06</td>\n",
              "      <td>54005.000000</td>\n",
              "    </tr>\n",
              "  </tbody>\n",
              "</table>\n",
              "</div>\n",
              "    <div class=\"colab-df-buttons\">\n",
              "\n",
              "  <div class=\"colab-df-container\">\n",
              "    <button class=\"colab-df-convert\" onclick=\"convertToInteractive('df-968dbe82-6a8a-4ec2-8f01-5ec0ad25a8a5')\"\n",
              "            title=\"Convert this dataframe to an interactive table.\"\n",
              "            style=\"display:none;\">\n",
              "\n",
              "  <svg xmlns=\"http://www.w3.org/2000/svg\" height=\"24px\" viewBox=\"0 -960 960 960\">\n",
              "    <path d=\"M120-120v-720h720v720H120Zm60-500h600v-160H180v160Zm220 220h160v-160H400v160Zm0 220h160v-160H400v160ZM180-400h160v-160H180v160Zm440 0h160v-160H620v160ZM180-180h160v-160H180v160Zm440 0h160v-160H620v160Z\"/>\n",
              "  </svg>\n",
              "    </button>\n",
              "\n",
              "  <style>\n",
              "    .colab-df-container {\n",
              "      display:flex;\n",
              "      gap: 12px;\n",
              "    }\n",
              "\n",
              "    .colab-df-convert {\n",
              "      background-color: #E8F0FE;\n",
              "      border: none;\n",
              "      border-radius: 50%;\n",
              "      cursor: pointer;\n",
              "      display: none;\n",
              "      fill: #1967D2;\n",
              "      height: 32px;\n",
              "      padding: 0 0 0 0;\n",
              "      width: 32px;\n",
              "    }\n",
              "\n",
              "    .colab-df-convert:hover {\n",
              "      background-color: #E2EBFA;\n",
              "      box-shadow: 0px 1px 2px rgba(60, 64, 67, 0.3), 0px 1px 3px 1px rgba(60, 64, 67, 0.15);\n",
              "      fill: #174EA6;\n",
              "    }\n",
              "\n",
              "    .colab-df-buttons div {\n",
              "      margin-bottom: 4px;\n",
              "    }\n",
              "\n",
              "    [theme=dark] .colab-df-convert {\n",
              "      background-color: #3B4455;\n",
              "      fill: #D2E3FC;\n",
              "    }\n",
              "\n",
              "    [theme=dark] .colab-df-convert:hover {\n",
              "      background-color: #434B5C;\n",
              "      box-shadow: 0px 1px 3px 1px rgba(0, 0, 0, 0.15);\n",
              "      filter: drop-shadow(0px 1px 2px rgba(0, 0, 0, 0.3));\n",
              "      fill: #FFFFFF;\n",
              "    }\n",
              "  </style>\n",
              "\n",
              "    <script>\n",
              "      const buttonEl =\n",
              "        document.querySelector('#df-968dbe82-6a8a-4ec2-8f01-5ec0ad25a8a5 button.colab-df-convert');\n",
              "      buttonEl.style.display =\n",
              "        google.colab.kernel.accessAllowed ? 'block' : 'none';\n",
              "\n",
              "      async function convertToInteractive(key) {\n",
              "        const element = document.querySelector('#df-968dbe82-6a8a-4ec2-8f01-5ec0ad25a8a5');\n",
              "        const dataTable =\n",
              "          await google.colab.kernel.invokeFunction('convertToInteractive',\n",
              "                                                    [key], {});\n",
              "        if (!dataTable) return;\n",
              "\n",
              "        const docLinkHtml = 'Like what you see? Visit the ' +\n",
              "          '<a target=\"_blank\" href=https://colab.research.google.com/notebooks/data_table.ipynb>data table notebook</a>'\n",
              "          + ' to learn more about interactive tables.';\n",
              "        element.innerHTML = '';\n",
              "        dataTable['output_type'] = 'display_data';\n",
              "        await google.colab.output.renderOutput(dataTable, element);\n",
              "        const docLink = document.createElement('div');\n",
              "        docLink.innerHTML = docLinkHtml;\n",
              "        element.appendChild(docLink);\n",
              "      }\n",
              "    </script>\n",
              "  </div>\n",
              "\n",
              "\n",
              "<div id=\"df-01fd4854-a429-475b-b180-449bee84154c\">\n",
              "  <button class=\"colab-df-quickchart\" onclick=\"quickchart('df-01fd4854-a429-475b-b180-449bee84154c')\"\n",
              "            title=\"Suggest charts\"\n",
              "            style=\"display:none;\">\n",
              "\n",
              "<svg xmlns=\"http://www.w3.org/2000/svg\" height=\"24px\"viewBox=\"0 0 24 24\"\n",
              "     width=\"24px\">\n",
              "    <g>\n",
              "        <path d=\"M19 3H5c-1.1 0-2 .9-2 2v14c0 1.1.9 2 2 2h14c1.1 0 2-.9 2-2V5c0-1.1-.9-2-2-2zM9 17H7v-7h2v7zm4 0h-2V7h2v10zm4 0h-2v-4h2v4z\"/>\n",
              "    </g>\n",
              "</svg>\n",
              "  </button>\n",
              "\n",
              "<style>\n",
              "  .colab-df-quickchart {\n",
              "      --bg-color: #E8F0FE;\n",
              "      --fill-color: #1967D2;\n",
              "      --hover-bg-color: #E2EBFA;\n",
              "      --hover-fill-color: #174EA6;\n",
              "      --disabled-fill-color: #AAA;\n",
              "      --disabled-bg-color: #DDD;\n",
              "  }\n",
              "\n",
              "  [theme=dark] .colab-df-quickchart {\n",
              "      --bg-color: #3B4455;\n",
              "      --fill-color: #D2E3FC;\n",
              "      --hover-bg-color: #434B5C;\n",
              "      --hover-fill-color: #FFFFFF;\n",
              "      --disabled-bg-color: #3B4455;\n",
              "      --disabled-fill-color: #666;\n",
              "  }\n",
              "\n",
              "  .colab-df-quickchart {\n",
              "    background-color: var(--bg-color);\n",
              "    border: none;\n",
              "    border-radius: 50%;\n",
              "    cursor: pointer;\n",
              "    display: none;\n",
              "    fill: var(--fill-color);\n",
              "    height: 32px;\n",
              "    padding: 0;\n",
              "    width: 32px;\n",
              "  }\n",
              "\n",
              "  .colab-df-quickchart:hover {\n",
              "    background-color: var(--hover-bg-color);\n",
              "    box-shadow: 0 1px 2px rgba(60, 64, 67, 0.3), 0 1px 3px 1px rgba(60, 64, 67, 0.15);\n",
              "    fill: var(--button-hover-fill-color);\n",
              "  }\n",
              "\n",
              "  .colab-df-quickchart-complete:disabled,\n",
              "  .colab-df-quickchart-complete:disabled:hover {\n",
              "    background-color: var(--disabled-bg-color);\n",
              "    fill: var(--disabled-fill-color);\n",
              "    box-shadow: none;\n",
              "  }\n",
              "\n",
              "  .colab-df-spinner {\n",
              "    border: 2px solid var(--fill-color);\n",
              "    border-color: transparent;\n",
              "    border-bottom-color: var(--fill-color);\n",
              "    animation:\n",
              "      spin 1s steps(1) infinite;\n",
              "  }\n",
              "\n",
              "  @keyframes spin {\n",
              "    0% {\n",
              "      border-color: transparent;\n",
              "      border-bottom-color: var(--fill-color);\n",
              "      border-left-color: var(--fill-color);\n",
              "    }\n",
              "    20% {\n",
              "      border-color: transparent;\n",
              "      border-left-color: var(--fill-color);\n",
              "      border-top-color: var(--fill-color);\n",
              "    }\n",
              "    30% {\n",
              "      border-color: transparent;\n",
              "      border-left-color: var(--fill-color);\n",
              "      border-top-color: var(--fill-color);\n",
              "      border-right-color: var(--fill-color);\n",
              "    }\n",
              "    40% {\n",
              "      border-color: transparent;\n",
              "      border-right-color: var(--fill-color);\n",
              "      border-top-color: var(--fill-color);\n",
              "    }\n",
              "    60% {\n",
              "      border-color: transparent;\n",
              "      border-right-color: var(--fill-color);\n",
              "    }\n",
              "    80% {\n",
              "      border-color: transparent;\n",
              "      border-right-color: var(--fill-color);\n",
              "      border-bottom-color: var(--fill-color);\n",
              "    }\n",
              "    90% {\n",
              "      border-color: transparent;\n",
              "      border-bottom-color: var(--fill-color);\n",
              "    }\n",
              "  }\n",
              "</style>\n",
              "\n",
              "  <script>\n",
              "    async function quickchart(key) {\n",
              "      const quickchartButtonEl =\n",
              "        document.querySelector('#' + key + ' button');\n",
              "      quickchartButtonEl.disabled = true;  // To prevent multiple clicks.\n",
              "      quickchartButtonEl.classList.add('colab-df-spinner');\n",
              "      try {\n",
              "        const charts = await google.colab.kernel.invokeFunction(\n",
              "            'suggestCharts', [key], {});\n",
              "      } catch (error) {\n",
              "        console.error('Error during call to suggestCharts:', error);\n",
              "      }\n",
              "      quickchartButtonEl.classList.remove('colab-df-spinner');\n",
              "      quickchartButtonEl.classList.add('colab-df-quickchart-complete');\n",
              "    }\n",
              "    (() => {\n",
              "      let quickchartButtonEl =\n",
              "        document.querySelector('#df-01fd4854-a429-475b-b180-449bee84154c button');\n",
              "      quickchartButtonEl.style.display =\n",
              "        google.colab.kernel.accessAllowed ? 'block' : 'none';\n",
              "    })();\n",
              "  </script>\n",
              "</div>\n",
              "\n",
              "    </div>\n",
              "  </div>\n"
            ],
            "application/vnd.google.colaboratory.intrinsic+json": {
              "type": "dataframe",
              "summary": "{\n  \"name\": \"suburb_info_df\",\n  \"rows\": 8,\n  \"fields\": [\n    {\n      \"column\": \"number_of_houses\",\n      \"properties\": {\n        \"dtype\": \"number\",\n        \"std\": 7528.283023271833,\n        \"min\": 202.0,\n        \"max\": 23338.0,\n        \"num_unique_values\": 8,\n        \"samples\": [\n          4155.767326732674,\n          3256.5,\n          202.0\n        ],\n        \"semantic_type\": \"\",\n        \"description\": \"\"\n      }\n    },\n    {\n      \"column\": \"number_of_units\",\n      \"properties\": {\n        \"dtype\": \"number\",\n        \"std\": 8148.266895651768,\n        \"min\": 60.0,\n        \"max\": 24380.0,\n        \"num_unique_values\": 8,\n        \"samples\": [\n          2480.410891089109,\n          1603.0,\n          202.0\n        ],\n        \"semantic_type\": \"\",\n        \"description\": \"\"\n      }\n    },\n    {\n      \"column\": \"aus_born_perc\",\n      \"properties\": {\n        \"dtype\": \"number\",\n        \"std\": 56.26806785253649,\n        \"min\": 10.761293059108862,\n        \"max\": 202.0,\n        \"num_unique_values\": 8,\n        \"samples\": [\n          68.36633663366337,\n          70.0,\n          202.0\n        ],\n        \"semantic_type\": \"\",\n        \"description\": \"\"\n      }\n    },\n    {\n      \"column\": \"median_income\",\n      \"properties\": {\n        \"dtype\": \"number\",\n        \"std\": 715.5807491134796,\n        \"min\": 202.0,\n        \"max\": 2352.0,\n        \"num_unique_values\": 8,\n        \"samples\": [\n          1387.9356435643565,\n          1393.0,\n          202.0\n        ],\n        \"semantic_type\": \"\",\n        \"description\": \"\"\n      }\n    },\n    {\n      \"column\": \"median_house_price\",\n      \"properties\": {\n        \"dtype\": \"number\",\n        \"std\": 870481.9112390721,\n        \"min\": 202.0,\n        \"max\": 2875800.0,\n        \"num_unique_values\": 8,\n        \"samples\": [\n          1218816.8316831684,\n          1134500.0,\n          202.0\n        ],\n        \"semantic_type\": \"\",\n        \"description\": \"\"\n      }\n    },\n    {\n      \"column\": \"population\",\n      \"properties\": {\n        \"dtype\": \"number\",\n        \"std\": 17182.113778257175,\n        \"min\": 170.0,\n        \"max\": 54005.0,\n        \"num_unique_values\": 8,\n        \"samples\": [\n          18659.311881188118,\n          17583.0,\n          202.0\n        ],\n        \"semantic_type\": \"\",\n        \"description\": \"\"\n      }\n    }\n  ]\n}"
            }
          },
          "metadata": {},
          "execution_count": 6
        }
      ]
    },
    {
      "cell_type": "code",
      "source": [
        "# Ensure all values in 'aus_born_perc', 'median_income', and 'median_house_price' are strings before cleaning\n",
        "suburb_info_df['aus_born_perc'] = suburb_info_df['aus_born_perc'].astype(str).str.rstrip('%').astype(float) / 100\n",
        "suburb_info_df['median_income'] = suburb_info_df['median_income'].astype(str).replace('[\\$,]', '', regex=True).astype(float)\n",
        "suburb_info_df['median_house_price'] = suburb_info_df['median_house_price'].astype(str).replace('[\\$,]', '', regex=True).astype(float)\n",
        "\n",
        "# Display the cleaned data\n",
        "print(suburb_info_df[['aus_born_perc', 'median_income', 'median_house_price']].head())"
      ],
      "metadata": {
        "colab": {
          "base_uri": "https://localhost:8080/"
        },
        "id": "zPtQNE3kIZD_",
        "outputId": "bda762d1-76ae-4ada-a6bd-b1eb3484d21b"
      },
      "execution_count": null,
      "outputs": [
        {
          "output_type": "stream",
          "name": "stdout",
          "text": [
            "   aus_born_perc  median_income  median_house_price\n",
            "0           0.68         1797.0           1299400.0\n",
            "1           0.81         1571.0           1926600.0\n",
            "2           0.46          907.0            594200.0\n",
            "3           0.52          929.0            739100.0\n",
            "4           0.73         1538.0           1729600.0\n"
          ]
        }
      ]
    },
    {
      "cell_type": "code",
      "source": [
        "suburb_info_df['median_house_price'] = suburb_info_df['median_house_price'].apply(lambda x: f\"{x:,.0f}\")\n",
        "suburb_info_df.describe()"
      ],
      "metadata": {
        "id": "_I0SKFCFJgC4",
        "colab": {
          "base_uri": "https://localhost:8080/",
          "height": 300
        },
        "outputId": "5c1bed60-4d4a-4209-97d5-70c41ad6b120"
      },
      "execution_count": null,
      "outputs": [
        {
          "output_type": "execute_result",
          "data": {
            "text/plain": [
              "       number_of_houses  number_of_units  aus_born_perc  median_income  \\\n",
              "count        202.000000       202.000000     202.000000     202.000000   \n",
              "mean        4155.767327      2480.410891       0.683663    1387.935644   \n",
              "std         3400.864988      3132.684712       0.107613     317.841321   \n",
              "min          283.000000        60.000000       0.360000     633.000000   \n",
              "25%         1973.500000       620.500000       0.620000    1182.250000   \n",
              "50%         3256.500000      1603.000000       0.700000    1393.000000   \n",
              "75%         5518.500000      3089.000000       0.770000    1560.000000   \n",
              "max        23338.000000     24380.000000       0.880000    2352.000000   \n",
              "\n",
              "         population  \n",
              "count    202.000000  \n",
              "mean   18659.311881  \n",
              "std     9604.187282  \n",
              "min      170.000000  \n",
              "25%    12063.000000  \n",
              "50%    17583.000000  \n",
              "75%    24045.000000  \n",
              "max    54005.000000  "
            ],
            "text/html": [
              "\n",
              "  <div id=\"df-7106883b-06b1-40bd-9715-912638577d84\" class=\"colab-df-container\">\n",
              "    <div>\n",
              "<style scoped>\n",
              "    .dataframe tbody tr th:only-of-type {\n",
              "        vertical-align: middle;\n",
              "    }\n",
              "\n",
              "    .dataframe tbody tr th {\n",
              "        vertical-align: top;\n",
              "    }\n",
              "\n",
              "    .dataframe thead th {\n",
              "        text-align: right;\n",
              "    }\n",
              "</style>\n",
              "<table border=\"1\" class=\"dataframe\">\n",
              "  <thead>\n",
              "    <tr style=\"text-align: right;\">\n",
              "      <th></th>\n",
              "      <th>number_of_houses</th>\n",
              "      <th>number_of_units</th>\n",
              "      <th>aus_born_perc</th>\n",
              "      <th>median_income</th>\n",
              "      <th>population</th>\n",
              "    </tr>\n",
              "  </thead>\n",
              "  <tbody>\n",
              "    <tr>\n",
              "      <th>count</th>\n",
              "      <td>202.000000</td>\n",
              "      <td>202.000000</td>\n",
              "      <td>202.000000</td>\n",
              "      <td>202.000000</td>\n",
              "      <td>202.000000</td>\n",
              "    </tr>\n",
              "    <tr>\n",
              "      <th>mean</th>\n",
              "      <td>4155.767327</td>\n",
              "      <td>2480.410891</td>\n",
              "      <td>0.683663</td>\n",
              "      <td>1387.935644</td>\n",
              "      <td>18659.311881</td>\n",
              "    </tr>\n",
              "    <tr>\n",
              "      <th>std</th>\n",
              "      <td>3400.864988</td>\n",
              "      <td>3132.684712</td>\n",
              "      <td>0.107613</td>\n",
              "      <td>317.841321</td>\n",
              "      <td>9604.187282</td>\n",
              "    </tr>\n",
              "    <tr>\n",
              "      <th>min</th>\n",
              "      <td>283.000000</td>\n",
              "      <td>60.000000</td>\n",
              "      <td>0.360000</td>\n",
              "      <td>633.000000</td>\n",
              "      <td>170.000000</td>\n",
              "    </tr>\n",
              "    <tr>\n",
              "      <th>25%</th>\n",
              "      <td>1973.500000</td>\n",
              "      <td>620.500000</td>\n",
              "      <td>0.620000</td>\n",
              "      <td>1182.250000</td>\n",
              "      <td>12063.000000</td>\n",
              "    </tr>\n",
              "    <tr>\n",
              "      <th>50%</th>\n",
              "      <td>3256.500000</td>\n",
              "      <td>1603.000000</td>\n",
              "      <td>0.700000</td>\n",
              "      <td>1393.000000</td>\n",
              "      <td>17583.000000</td>\n",
              "    </tr>\n",
              "    <tr>\n",
              "      <th>75%</th>\n",
              "      <td>5518.500000</td>\n",
              "      <td>3089.000000</td>\n",
              "      <td>0.770000</td>\n",
              "      <td>1560.000000</td>\n",
              "      <td>24045.000000</td>\n",
              "    </tr>\n",
              "    <tr>\n",
              "      <th>max</th>\n",
              "      <td>23338.000000</td>\n",
              "      <td>24380.000000</td>\n",
              "      <td>0.880000</td>\n",
              "      <td>2352.000000</td>\n",
              "      <td>54005.000000</td>\n",
              "    </tr>\n",
              "  </tbody>\n",
              "</table>\n",
              "</div>\n",
              "    <div class=\"colab-df-buttons\">\n",
              "\n",
              "  <div class=\"colab-df-container\">\n",
              "    <button class=\"colab-df-convert\" onclick=\"convertToInteractive('df-7106883b-06b1-40bd-9715-912638577d84')\"\n",
              "            title=\"Convert this dataframe to an interactive table.\"\n",
              "            style=\"display:none;\">\n",
              "\n",
              "  <svg xmlns=\"http://www.w3.org/2000/svg\" height=\"24px\" viewBox=\"0 -960 960 960\">\n",
              "    <path d=\"M120-120v-720h720v720H120Zm60-500h600v-160H180v160Zm220 220h160v-160H400v160Zm0 220h160v-160H400v160ZM180-400h160v-160H180v160Zm440 0h160v-160H620v160ZM180-180h160v-160H180v160Zm440 0h160v-160H620v160Z\"/>\n",
              "  </svg>\n",
              "    </button>\n",
              "\n",
              "  <style>\n",
              "    .colab-df-container {\n",
              "      display:flex;\n",
              "      gap: 12px;\n",
              "    }\n",
              "\n",
              "    .colab-df-convert {\n",
              "      background-color: #E8F0FE;\n",
              "      border: none;\n",
              "      border-radius: 50%;\n",
              "      cursor: pointer;\n",
              "      display: none;\n",
              "      fill: #1967D2;\n",
              "      height: 32px;\n",
              "      padding: 0 0 0 0;\n",
              "      width: 32px;\n",
              "    }\n",
              "\n",
              "    .colab-df-convert:hover {\n",
              "      background-color: #E2EBFA;\n",
              "      box-shadow: 0px 1px 2px rgba(60, 64, 67, 0.3), 0px 1px 3px 1px rgba(60, 64, 67, 0.15);\n",
              "      fill: #174EA6;\n",
              "    }\n",
              "\n",
              "    .colab-df-buttons div {\n",
              "      margin-bottom: 4px;\n",
              "    }\n",
              "\n",
              "    [theme=dark] .colab-df-convert {\n",
              "      background-color: #3B4455;\n",
              "      fill: #D2E3FC;\n",
              "    }\n",
              "\n",
              "    [theme=dark] .colab-df-convert:hover {\n",
              "      background-color: #434B5C;\n",
              "      box-shadow: 0px 1px 3px 1px rgba(0, 0, 0, 0.15);\n",
              "      filter: drop-shadow(0px 1px 2px rgba(0, 0, 0, 0.3));\n",
              "      fill: #FFFFFF;\n",
              "    }\n",
              "  </style>\n",
              "\n",
              "    <script>\n",
              "      const buttonEl =\n",
              "        document.querySelector('#df-7106883b-06b1-40bd-9715-912638577d84 button.colab-df-convert');\n",
              "      buttonEl.style.display =\n",
              "        google.colab.kernel.accessAllowed ? 'block' : 'none';\n",
              "\n",
              "      async function convertToInteractive(key) {\n",
              "        const element = document.querySelector('#df-7106883b-06b1-40bd-9715-912638577d84');\n",
              "        const dataTable =\n",
              "          await google.colab.kernel.invokeFunction('convertToInteractive',\n",
              "                                                    [key], {});\n",
              "        if (!dataTable) return;\n",
              "\n",
              "        const docLinkHtml = 'Like what you see? Visit the ' +\n",
              "          '<a target=\"_blank\" href=https://colab.research.google.com/notebooks/data_table.ipynb>data table notebook</a>'\n",
              "          + ' to learn more about interactive tables.';\n",
              "        element.innerHTML = '';\n",
              "        dataTable['output_type'] = 'display_data';\n",
              "        await google.colab.output.renderOutput(dataTable, element);\n",
              "        const docLink = document.createElement('div');\n",
              "        docLink.innerHTML = docLinkHtml;\n",
              "        element.appendChild(docLink);\n",
              "      }\n",
              "    </script>\n",
              "  </div>\n",
              "\n",
              "\n",
              "<div id=\"df-57cbafb1-9eb5-4b42-9b30-8cf43542bb72\">\n",
              "  <button class=\"colab-df-quickchart\" onclick=\"quickchart('df-57cbafb1-9eb5-4b42-9b30-8cf43542bb72')\"\n",
              "            title=\"Suggest charts\"\n",
              "            style=\"display:none;\">\n",
              "\n",
              "<svg xmlns=\"http://www.w3.org/2000/svg\" height=\"24px\"viewBox=\"0 0 24 24\"\n",
              "     width=\"24px\">\n",
              "    <g>\n",
              "        <path d=\"M19 3H5c-1.1 0-2 .9-2 2v14c0 1.1.9 2 2 2h14c1.1 0 2-.9 2-2V5c0-1.1-.9-2-2-2zM9 17H7v-7h2v7zm4 0h-2V7h2v10zm4 0h-2v-4h2v4z\"/>\n",
              "    </g>\n",
              "</svg>\n",
              "  </button>\n",
              "\n",
              "<style>\n",
              "  .colab-df-quickchart {\n",
              "      --bg-color: #E8F0FE;\n",
              "      --fill-color: #1967D2;\n",
              "      --hover-bg-color: #E2EBFA;\n",
              "      --hover-fill-color: #174EA6;\n",
              "      --disabled-fill-color: #AAA;\n",
              "      --disabled-bg-color: #DDD;\n",
              "  }\n",
              "\n",
              "  [theme=dark] .colab-df-quickchart {\n",
              "      --bg-color: #3B4455;\n",
              "      --fill-color: #D2E3FC;\n",
              "      --hover-bg-color: #434B5C;\n",
              "      --hover-fill-color: #FFFFFF;\n",
              "      --disabled-bg-color: #3B4455;\n",
              "      --disabled-fill-color: #666;\n",
              "  }\n",
              "\n",
              "  .colab-df-quickchart {\n",
              "    background-color: var(--bg-color);\n",
              "    border: none;\n",
              "    border-radius: 50%;\n",
              "    cursor: pointer;\n",
              "    display: none;\n",
              "    fill: var(--fill-color);\n",
              "    height: 32px;\n",
              "    padding: 0;\n",
              "    width: 32px;\n",
              "  }\n",
              "\n",
              "  .colab-df-quickchart:hover {\n",
              "    background-color: var(--hover-bg-color);\n",
              "    box-shadow: 0 1px 2px rgba(60, 64, 67, 0.3), 0 1px 3px 1px rgba(60, 64, 67, 0.15);\n",
              "    fill: var(--button-hover-fill-color);\n",
              "  }\n",
              "\n",
              "  .colab-df-quickchart-complete:disabled,\n",
              "  .colab-df-quickchart-complete:disabled:hover {\n",
              "    background-color: var(--disabled-bg-color);\n",
              "    fill: var(--disabled-fill-color);\n",
              "    box-shadow: none;\n",
              "  }\n",
              "\n",
              "  .colab-df-spinner {\n",
              "    border: 2px solid var(--fill-color);\n",
              "    border-color: transparent;\n",
              "    border-bottom-color: var(--fill-color);\n",
              "    animation:\n",
              "      spin 1s steps(1) infinite;\n",
              "  }\n",
              "\n",
              "  @keyframes spin {\n",
              "    0% {\n",
              "      border-color: transparent;\n",
              "      border-bottom-color: var(--fill-color);\n",
              "      border-left-color: var(--fill-color);\n",
              "    }\n",
              "    20% {\n",
              "      border-color: transparent;\n",
              "      border-left-color: var(--fill-color);\n",
              "      border-top-color: var(--fill-color);\n",
              "    }\n",
              "    30% {\n",
              "      border-color: transparent;\n",
              "      border-left-color: var(--fill-color);\n",
              "      border-top-color: var(--fill-color);\n",
              "      border-right-color: var(--fill-color);\n",
              "    }\n",
              "    40% {\n",
              "      border-color: transparent;\n",
              "      border-right-color: var(--fill-color);\n",
              "      border-top-color: var(--fill-color);\n",
              "    }\n",
              "    60% {\n",
              "      border-color: transparent;\n",
              "      border-right-color: var(--fill-color);\n",
              "    }\n",
              "    80% {\n",
              "      border-color: transparent;\n",
              "      border-right-color: var(--fill-color);\n",
              "      border-bottom-color: var(--fill-color);\n",
              "    }\n",
              "    90% {\n",
              "      border-color: transparent;\n",
              "      border-bottom-color: var(--fill-color);\n",
              "    }\n",
              "  }\n",
              "</style>\n",
              "\n",
              "  <script>\n",
              "    async function quickchart(key) {\n",
              "      const quickchartButtonEl =\n",
              "        document.querySelector('#' + key + ' button');\n",
              "      quickchartButtonEl.disabled = true;  // To prevent multiple clicks.\n",
              "      quickchartButtonEl.classList.add('colab-df-spinner');\n",
              "      try {\n",
              "        const charts = await google.colab.kernel.invokeFunction(\n",
              "            'suggestCharts', [key], {});\n",
              "      } catch (error) {\n",
              "        console.error('Error during call to suggestCharts:', error);\n",
              "      }\n",
              "      quickchartButtonEl.classList.remove('colab-df-spinner');\n",
              "      quickchartButtonEl.classList.add('colab-df-quickchart-complete');\n",
              "    }\n",
              "    (() => {\n",
              "      let quickchartButtonEl =\n",
              "        document.querySelector('#df-57cbafb1-9eb5-4b42-9b30-8cf43542bb72 button');\n",
              "      quickchartButtonEl.style.display =\n",
              "        google.colab.kernel.accessAllowed ? 'block' : 'none';\n",
              "    })();\n",
              "  </script>\n",
              "</div>\n",
              "\n",
              "    </div>\n",
              "  </div>\n"
            ],
            "application/vnd.google.colaboratory.intrinsic+json": {
              "type": "dataframe",
              "summary": "{\n  \"name\": \"suburb_info_df\",\n  \"rows\": 8,\n  \"fields\": [\n    {\n      \"column\": \"number_of_houses\",\n      \"properties\": {\n        \"dtype\": \"number\",\n        \"std\": 7528.283023271833,\n        \"min\": 202.0,\n        \"max\": 23338.0,\n        \"num_unique_values\": 8,\n        \"samples\": [\n          4155.767326732674,\n          3256.5,\n          202.0\n        ],\n        \"semantic_type\": \"\",\n        \"description\": \"\"\n      }\n    },\n    {\n      \"column\": \"number_of_units\",\n      \"properties\": {\n        \"dtype\": \"number\",\n        \"std\": 8148.266895651768,\n        \"min\": 60.0,\n        \"max\": 24380.0,\n        \"num_unique_values\": 8,\n        \"samples\": [\n          2480.410891089109,\n          1603.0,\n          202.0\n        ],\n        \"semantic_type\": \"\",\n        \"description\": \"\"\n      }\n    },\n    {\n      \"column\": \"aus_born_perc\",\n      \"properties\": {\n        \"dtype\": \"number\",\n        \"std\": 71.21005417410923,\n        \"min\": 0.10761293059108852,\n        \"max\": 202.0,\n        \"num_unique_values\": 8,\n        \"samples\": [\n          0.6836633663366336,\n          0.7,\n          202.0\n        ],\n        \"semantic_type\": \"\",\n        \"description\": \"\"\n      }\n    },\n    {\n      \"column\": \"median_income\",\n      \"properties\": {\n        \"dtype\": \"number\",\n        \"std\": 715.5807491134796,\n        \"min\": 202.0,\n        \"max\": 2352.0,\n        \"num_unique_values\": 8,\n        \"samples\": [\n          1387.9356435643565,\n          1393.0,\n          202.0\n        ],\n        \"semantic_type\": \"\",\n        \"description\": \"\"\n      }\n    },\n    {\n      \"column\": \"population\",\n      \"properties\": {\n        \"dtype\": \"number\",\n        \"std\": 17182.113778257175,\n        \"min\": 170.0,\n        \"max\": 54005.0,\n        \"num_unique_values\": 8,\n        \"samples\": [\n          18659.311881188118,\n          17583.0,\n          202.0\n        ],\n        \"semantic_type\": \"\",\n        \"description\": \"\"\n      }\n    }\n  ]\n}"
            }
          },
          "metadata": {},
          "execution_count": 8
        }
      ]
    },
    {
      "cell_type": "markdown",
      "source": [
        "# Skeweness of the columns"
      ],
      "metadata": {
        "id": "_-NK6wfJNOyF"
      }
    },
    {
      "cell_type": "markdown",
      "source": [
        "Converting and cleaning data types:\n",
        "\n",
        "* The column aus_born_perc was initially converted to string format in order to accommodate any non-string values and guarantee consistency in data processing. The str.replace() technique was used to eliminate the percentage signs (%) once all values were verified to be strings. For additional investigation, the cleaned values were then transformed back into floating-point numbers. The percentage numbers are formatted correctly and prepared for numerical operations thanks to this phase.\n",
        "\n",
        "* Regular expressions (replace() method with regex) were used to clean up the text formatting of the median_income and median_house_price columns, which initially contained dollar signs ($) and commas. Using pd.to_numeric(), the cleaned string values were subsequently transformed into numerical representation. For these columns to be utilized in statistical analysis or modeling, this change was required.\n",
        "\n",
        "Skewness Calculations:\n",
        "\n",
        "* For a number of columns, including number_of_houses, number_of_units, population, aus_born_perc, median_income, and median_house_price, skewness—a measure of the asymmetry in the data distribution—was calculated. The skewness values aid in determining whether the data has a positive or negative skew, which denotes a longer tail on either side of the distribution, or if it is regularly distributed, as indicated by a skewness near 0.\n",
        "\n",
        "* When determining possible needs for data transformation, this study is very crucial. Before using statistical models or machine learning techniques, highly skewed data may need to be transformed (for example, using log transformation) in order to enhance model performance and interpretation.\n",
        "\n",
        "This process guarantees that the data is suitably cleansed and ready for examination, and the skewness evaluation offers valuable information about the distribution of important numerical characteristics, directing possible transformation or normalization procedures.\n"
      ],
      "metadata": {
        "id": "KQVD_b3LN1Ot"
      }
    },
    {
      "cell_type": "code",
      "source": [
        "# Ensure all values in 'aus_born_perc' are strings before cleaning\n",
        "suburb_info_df['aus_born_perc'] = suburb_info_df['aus_born_perc'].astype(str).str.replace('%', '', regex=False).astype(float)\n",
        "\n",
        "# Cleaning 'median_income' and 'median_house_price' columns by removing '$' and commas, then converting to numeric\n",
        "suburb_info_df['median_income'] = pd.to_numeric(suburb_info_df['median_income'].astype(str).replace('[\\$,]', '', regex=True))\n",
        "suburb_info_df['median_house_price'] = pd.to_numeric(suburb_info_df['median_house_price'].astype(str).replace('[\\$,]', '', regex=True))\n",
        "\n",
        "# Checking skewness of the columns to assess normality\n",
        "skewness = suburb_info_df[['number_of_houses', 'number_of_units', 'population', 'aus_born_perc', 'median_income', 'median_house_price']].skew()\n",
        "print(\"Skewness of the features:\\n\", skewness)"
      ],
      "metadata": {
        "colab": {
          "base_uri": "https://localhost:8080/"
        },
        "id": "x6puEyoYfgZM",
        "outputId": "de563ab6-5a00-4715-cc00-fbf409160677"
      },
      "execution_count": null,
      "outputs": [
        {
          "output_type": "stream",
          "name": "stdout",
          "text": [
            "Skewness of the features:\n",
            " number_of_houses      2.156185\n",
            "number_of_units       3.630165\n",
            "population            1.085865\n",
            "aus_born_perc        -0.567896\n",
            "median_income         0.172518\n",
            "median_house_price    1.033261\n",
            "dtype: float64\n"
          ]
        }
      ]
    },
    {
      "cell_type": "markdown",
      "source": [
        "* Positive skewness (e.g., number_of_houses = 2.16, number_of_units = 3.63) indicates a right-skewed distribution, meaning most suburbs have lower values with a few very high outliers.\n",
        "* Negative skewness (e.g., aus_born_perc = -0.57) shows a left-skewed distribution, where most values are higher with some low outliers.\n",
        "Near-zero skewness (e.g., median_income = 0.17) means the data is relatively symmetrically distributed around the mean.\n",
        "* Skewness helps us understand the distribution patterns of features, which is important for choosing appropriate transformations and models."
      ],
      "metadata": {
        "id": "mIULhUAD2d-U"
      }
    },
    {
      "cell_type": "code",
      "source": [
        "# Plotting histograms for the columns\n",
        "suburb_info_df[['number_of_houses', 'number_of_units', 'population', 'aus_born_perc', 'median_income', 'median_house_price']].hist(bins=10, figsize=(12, 8), layout=(2, 3))\n",
        "\n",
        "# Display the histograms\n",
        "plt.tight_layout()\n",
        "plt.show()"
      ],
      "metadata": {
        "colab": {
          "base_uri": "https://localhost:8080/",
          "height": 787
        },
        "id": "W9DyuIXtwSro",
        "outputId": "1b76a8a1-c84a-4d9a-b503-bdafac92ffad"
      },
      "execution_count": null,
      "outputs": [
        {
          "output_type": "display_data",
          "data": {
            "text/plain": [
              "<Figure size 1200x800 with 6 Axes>"
            ],
            "image/png": "[encoded data removed]"
          },
          "metadata": {}
        }
      ]
    },
    {
      "cell_type": "markdown",
      "source": [
        "* Number of Houses and Units:\n",
        "Due to the high right-skewedness (positive skewness) of both distributions, most suburbs have very few homes and apartments, while a select handful have much higher values.\n",
        "\n",
        "* Population:\n",
        "Most suburbs have numbers between 10,000 and 30,000, suggesting a significantly right-skewed population distribution. A handful of the suburbs have significantly larger populations.\n",
        "\n",
        "* Australian Born Percentage (aus_born_perc):\n",
        "The proportion of residents who were born in Australia is more uniformly distributed, peaking between 70 and 80 percent. This suggests that a significant portion of the population in most suburbs is Australian-born.\n",
        "\n",
        "* Median Income:\n",
        "The distribution of median income is also rather typical, but it tends to be skewed to the right. It is concentrated in the 1000–1500 dollar range, with fewer suburbs having significantly higher median earnings.\n",
        "\n",
        "* Median House Price:\n",
        "The majority of suburbs have median home prices between $500,000 and $1.5 million, according to this right-skewed variable, whereas a smaller number of suburbs have median home prices that are much higher, up to $2.5 million or more."
      ],
      "metadata": {
        "id": "g0D0gjQyPWlJ"
      }
    },
    {
      "cell_type": "markdown",
      "source": [
        "# Insights and Analysis"
      ],
      "metadata": {
        "id": "AQWVctRhQj0l"
      }
    },
    {
      "cell_type": "markdown",
      "source": [
        "* Skewness: Several variables, including number_of_houses, number_of_units, and median_house_price, are confirmed to be right-skewed by the visualizations. This implies that in order to lessen skewness for particular kinds of analysis, these variables might need to be transformed (for example, via log transformation).\n",
        "* Variability: When conducting additional statistical studies, the distribution and clustering of data may be impacted by the histograms' notable variations in home numbers, unit numbers, population sizes, and house values among suburbs.\n",
        "\n",
        "These histograms give a brief summary of the distribution of the data and aid in determining each feature's skewness, variability, and possible outliers."
      ],
      "metadata": {
        "id": "4bYWLBsVQuzt"
      }
    },
    {
      "cell_type": "markdown",
      "source": [
        "# Log Transformation Model"
      ],
      "metadata": {
        "id": "3eYzGSQ_ZLJe"
      }
    },
    {
      "cell_type": "code",
      "source": [
        "# Applying log transformation to skewed features (adding 1 to avoid log(0) issues)\n",
        "suburb_info_df['log_number_of_houses'] = np.log1p(suburb_info_df['number_of_houses'])\n",
        "suburb_info_df['log_number_of_units'] = np.log1p(suburb_info_df['number_of_units'])\n",
        "suburb_info_df['log_population'] = np.log1p(suburb_info_df['population'])"
      ],
      "metadata": {
        "id": "_VVcO2irZKT5"
      },
      "execution_count": null,
      "outputs": []
    },
    {
      "cell_type": "code",
      "source": [
        "print(suburb_info_df[['log_number_of_houses', 'log_number_of_units', 'log_population']])"
      ],
      "metadata": {
        "colab": {
          "base_uri": "https://localhost:8080/"
        },
        "id": "ZYNRnow3Zrgm",
        "outputId": "3abe9e54-c6f0-4c4b-ac76-5c2d7e559928"
      },
      "execution_count": null,
      "outputs": [
        {
          "output_type": "stream",
          "name": "stdout",
          "text": [
            "     log_number_of_houses  log_number_of_units  log_population\n",
            "0                7.742836             8.456806        8.300529\n",
            "1                7.252054             6.118097       10.018734\n",
            "2                7.548556             4.934474       10.896850\n",
            "3                7.237059             7.239215       10.331301\n",
            "4                7.455877             7.003065        9.129998\n",
            "..                    ...                  ...             ...\n",
            "197              7.914252             5.159055        5.141664\n",
            "198              7.697121             8.400435        9.785661\n",
            "199              8.782169             5.560682        5.860786\n",
            "200              7.160069             4.406719        9.397981\n",
            "201              8.675222             7.636752        9.362718\n",
            "\n",
            "[202 rows x 3 columns]\n"
          ]
        }
      ]
    },
    {
      "cell_type": "markdown",
      "source": [
        "* log_number_of_houses: Using np.log1p() (logarithm of 1 + original value), these numbers show the natural logarithm (log) transformation of the initial number of houses. For improved model performance, this transformation helps lessen data skewness, particularly in cases when the original data is severely skewed with significant variances.\n",
        "\n",
        "* log_number_of_units: This column displays the number of units' log-transformed values, just as the first one. Large data ranges benefit greatly from log transformation, which makes it simpler to identify and model trends.\n",
        "\n",
        "* log_population: The log-transformed population data are shown in this column. In order to stabilize variance and improve the data's suitability for modeling, the log transformation is frequently used on population data that covers a broad range (both small and big populations).\n",
        "\n",
        "\n"
      ],
      "metadata": {
        "id": "80uLXRnvb2tY"
      }
    },
    {
      "cell_type": "markdown",
      "source": [
        "# Min-Max Scaling"
      ],
      "metadata": {
        "id": "X5Q788Y6ww8Y"
      }
    },
    {
      "cell_type": "code",
      "source": [
        "# Min-Max Scaling for rescaling the features to the same range\n",
        "scaler_minmax = MinMaxScaler()\n",
        "suburb_info_df[['minmax_number_of_houses', 'minmax_number_of_units', 'minmax_population']] = scaler_minmax.fit_transform(suburb_info_df[['number_of_houses', 'number_of_units', 'population']])\n"
      ],
      "metadata": {
        "id": "mb5dDk_tgNrK"
      },
      "execution_count": null,
      "outputs": []
    },
    {
      "cell_type": "code",
      "source": [
        "#  Min-Max scaled columns to verify\n",
        "print(\"Min-Max scaled number_of_houses:\\n\", suburb_info_df['minmax_number_of_houses'].head(), \"\\n\")\n",
        "\n",
        "print(\"Min-Max scaled number_of_units:\\n\", suburb_info_df['minmax_number_of_units'].head(), \"\\n\")\n",
        "\n",
        "print(\"Min-Max scaled population:\\n\", suburb_info_df['minmax_population'].head(), \"\\n\")"
      ],
      "metadata": {
        "colab": {
          "base_uri": "https://localhost:8080/"
        },
        "id": "trZwmSNikKHW",
        "outputId": "efd737c3-92e3-48f5-f216-fb6e35eb70e0"
      },
      "execution_count": null,
      "outputs": [
        {
          "output_type": "stream",
          "name": "stdout",
          "text": [
            "Min-Max scaled number_of_houses:\n",
            " 0    0.087660\n",
            "1    0.048883\n",
            "2    0.070007\n",
            "3    0.047972\n",
            "4    0.062720\n",
            "Name: minmax_number_of_houses, dtype: float64 \n",
            "\n",
            "Min-Max scaled number_of_units:\n",
            " 0    0.191036\n",
            "1    0.016160\n",
            "2    0.003207\n",
            "3    0.054770\n",
            "4    0.042722\n",
            "Name: minmax_number_of_units, dtype: float64 \n",
            "\n",
            "Min-Max scaled population:\n",
            " 0    0.071608\n",
            "1    0.413709\n",
            "2    1.000000\n",
            "3    0.566676\n",
            "4    0.168236\n",
            "Name: minmax_population, dtype: float64 \n",
            "\n"
          ]
        }
      ]
    },
    {
      "cell_type": "markdown",
      "source": [
        "* Min-Max scaled number_of_houses: The initial numbers for the number of houses have been rescaled from 0 to 1. Their normalized position within the range of the original dataset is indicated by the first five scaled values, which range from 0.048 to 0.087.\n",
        "\n",
        "* Min-Max scaled number_of_units: In a similar vein, the normalized unit counts, which range from 0.003 to 0.19, demonstrate the dispersion of the unit count following scaling.\n",
        "\n",
        "* Min-Max scaled population: The population figures, which range from 0.071 to 1, have also been rescaled. Since it was the highest value in the original dataset, the highest population value is set to 1.\n"
      ],
      "metadata": {
        "id": "bnFPCNswz5YQ"
      }
    },
    {
      "cell_type": "markdown",
      "source": [
        "# Standardization Model"
      ],
      "metadata": {
        "id": "_NaYLkJZw2Q-"
      }
    },
    {
      "cell_type": "code",
      "source": [
        "# Standardization (Z-score normalization)\n",
        "scaler_standard = StandardScaler()\n",
        "suburb_info_df[['std_number_of_houses', 'std_number_of_units', 'std_population']] = scaler_standard.fit_transform(suburb_info_df[['number_of_houses', 'number_of_units', 'population']])\n"
      ],
      "metadata": {
        "id": "MN23VYNDgTpq"
      },
      "execution_count": null,
      "outputs": []
    },
    {
      "cell_type": "code",
      "source": [
        "# Print the original and standardized columns to verify\n",
        "print(\"Standardized number_of_houses (Z-score):\\n\", suburb_info_df['std_number_of_houses'].head(), \"\\n\")\n",
        "print(\"Standardized number_of_units (Z-score):\\n\", suburb_info_df['std_number_of_units'].head(), \"\\n\")\n",
        "print(\"Standardized population (Z-score):\\n\", suburb_info_df['std_population'].head(), \"\\n\")"
      ],
      "metadata": {
        "colab": {
          "base_uri": "https://localhost:8080/"
        },
        "id": "QBp0xANFkkx_",
        "outputId": "6dee2c91-1e33-4a33-d526-d3ce299ceaf0"
      },
      "execution_count": null,
      "outputs": [
        {
          "output_type": "stream",
          "name": "stdout",
          "text": [
            "Standardized number_of_houses (Z-score):\n",
            " 0   -0.545852\n",
            "1   -0.809379\n",
            "2   -0.665824\n",
            "3   -0.815569\n",
            "4   -0.715346\n",
            "Name: std_number_of_houses, dtype: float64 \n",
            "\n",
            "Standardized number_of_units (Z-score):\n",
            " 0    0.712207\n",
            "1   -0.648788\n",
            "2   -0.749590\n",
            "3   -0.348300\n",
            "4   -0.442063\n",
            "Name: std_number_of_units, dtype: float64 \n",
            "\n",
            "Standardized population (Z-score):\n",
            " 0   -1.527529\n",
            "1    0.394837\n",
            "2    3.689381\n",
            "3    1.254406\n",
            "4   -0.984544\n",
            "Name: std_population, dtype: float64 \n",
            "\n"
          ]
        }
      ]
    },
    {
      "cell_type": "markdown",
      "source": [
        "Standardized number_of_houses: The home count Z-scores, which range from -0.545 to -0.815, are given. Since all of these values are negative (below 0), they show that the number of homes in each sample is below the mean.\n",
        "\n",
        "Standardized number_of_units: Z-scores for this variable are both positive and negative. The number of units is above the mean when the value is positive (e.g., 0.712), and below the mean when the value is negative (e.g., -0.648).\n",
        "\n",
        "Standardized population: The population's Z-scores exhibit a broad range, with some values well above the mean (3.689, for example), signifying sizable populations, and others much below the mean (-1.527, for example).\n"
      ],
      "metadata": {
        "id": "y1No5sz00luR"
      }
    },
    {
      "cell_type": "markdown",
      "source": [
        "# Linear Regression Model"
      ],
      "metadata": {
        "id": "hbvRxcOHw7o_"
      }
    },
    {
      "cell_type": "markdown",
      "source": [
        "In this section i will be using he linear regression model for predicting median house prices based on the given features. Following section i have written about the methodology section for the following."
      ],
      "metadata": {
        "id": "H_A1q6hfVdKz"
      }
    },
    {
      "cell_type": "markdown",
      "source": [
        "* Data Splitting: Using train_test_split(), the dataset was divided into training and test sets, with 20% going to testing and 80% going to training. This promotes generalization by guaranteeing that the model is trained on some data and assessed on data that hasn't been seen before.\n",
        "\n",
        "* Model Initialization: To forecast the association between the chosen attributes (X) and the target variable (y), a linear regression model was first created using LinearRegression().\n",
        "\n",
        "* Model Training: To enable the model to understand the connection between the features and the target variable, it was trained on the training data (X_train, y_train) using the.fit() technique.\n",
        "\n",
        "* Model Prediction: To evaluate the model's performance on unseen data, predictions were performed on the test set (X_test) using the.predict() method.\n",
        "\n",
        "* Model Evaluation: Mean Squared Error (MSE), which calculates the average squared difference between expected and actual values, and R-squared (R²), which gauges how well the model explains the variance in the target variable, were used to evaluate the model's performance. To aid with interpretation, these measures were shown.\n",
        "\n",
        "* Visualization: To show the correlation between the actual y_test values and the anticipated y_pred values, a scatter plot was made. To visually evaluate the model's accuracy, a reference line representing the ideal prediction line was displayed.\n",
        "\n",
        "* Model Coefficients: To understand how each feature affects the target variable and how changes in each predictor affect median house prices, the model's coefficients and intercept were reported."
      ],
      "metadata": {
        "id": "B23tIUdEWfM1"
      }
    },
    {
      "cell_type": "code",
      "source": [
        "# Assuming 'X' and 'y' are already prepared, where:\n",
        "X = suburb_info_df[['log_number_of_houses', 'log_number_of_units', 'log_population', 'aus_born_perc', 'median_income']]\n",
        "y = suburb_info_df['median_house_price']\n",
        "\n",
        "# Splitting the data into training and test sets (80% train, 20% test)\n",
        "X_train, X_test, y_train, y_test = train_test_split(X, y, test_size=0.2, random_state=42)\n",
        "\n",
        "# Initialize the Linear Regression model\n",
        "model = LinearRegression()\n",
        "\n",
        "# Fit the model on the training data\n",
        "model.fit(X_train, y_train)\n",
        "\n",
        "# Make predictions on the test data\n",
        "y_pred = model.predict(X_test)\n",
        "\n",
        "# Evaluate the model\n",
        "mse = mean_squared_error(y_test, y_pred)\n",
        "r2 = r2_score(y_test, y_pred)\n",
        "\n",
        "# Display model evaluation metrics\n",
        "print(f\"Mean Squared Error (MSE): {mse}\")\n",
        "print(f\"R-Squared (R2): {r2}\")\n",
        "\n",
        "# Plotting the true vs predicted values\n",
        "plt.figure(figsize=(10, 6))\n",
        "plt.scatter(y_test, y_pred, color='blue', edgecolors='k')\n",
        "plt.plot([y_test.min(), y_test.max()], [y_test.min(), y_test.max()], 'k--', lw=2)\n",
        "plt.xlabel('True Median House Prices')\n",
        "plt.ylabel('Predicted Median House Prices')\n",
        "plt.title('True vs Predicted Median House Prices')\n",
        "plt.show()\n",
        "\n",
        "# Display the model's coefficients\n",
        "print(\"Coefficients of the model:\", model.coef_)\n",
        "print(\"Intercept of the model:\", model.intercept_)\n"
      ],
      "metadata": {
        "colab": {
          "base_uri": "https://localhost:8080/",
          "height": 651
        },
        "id": "nGaDYeAhgi4q",
        "outputId": "fd3598b2-082d-4ac6-ecc6-07d0bfc465ba"
      },
      "execution_count": null,
      "outputs": [
        {
          "output_type": "stream",
          "name": "stdout",
          "text": [
            "Mean Squared Error (MSE): 91340859821.07722\n",
            "R-Squared (R2): 0.0069145413371431985\n"
          ]
        },
        {
          "output_type": "display_data",
          "data": {
            "text/plain": [
              "<Figure size 1000x600 with 1 Axes>"
            ],
            "image/png": "[encoded data removed]"
          },
          "metadata": {}
        },
        {
          "output_type": "stream",
          "name": "stdout",
          "text": [
            "Coefficients of the model: [-162737.12224541  180585.53514917   32008.40616797 -285122.56830753\n",
            "    1155.54792308]\n",
            "Intercept of the model: -462755.30583873857\n"
          ]
        }
      ]
    },
    {
      "cell_type": "markdown",
      "source": [
        "Mean Squared Error (MSE): 913,408,598.08 is the average squared difference between true and predicted values, indicating a relatively large error.\n",
        "\n",
        "R-squared (R²):\n",
        "0.0069, a very low value, indicating that the model explains less than 1% of the variance in house prices, meaning it has poor predictive power.\n",
        "\n",
        "Coefficients and Intercept: The regression model's coefficients and intercept are provided at the bottom, showing the influence of each feature on the prediction.\n",
        "\n",
        "Overall, the model is underperforming, with a low R² and high MSE, indicating a need for improvement in model accuracy.\n"
      ],
      "metadata": {
        "id": "tnv1WAwq1ZoV"
      }
    },
    {
      "cell_type": "markdown",
      "source": [
        "# Conclusion"
      ],
      "metadata": {
        "id": "ivBFb8evksnP"
      }
    },
    {
      "cell_type": "markdown",
      "source": [
        "In order to forecast median house values based on a number of factors, we performed data cleaning, feature transformation, and linear regression modeling on a suburban information dataset. In order to guarantee data consistency and comparability, the cleaning procedures involved handling percentage and currency symbols as well as changing and scaling features utilizing standardization, log transformation, and Min-Max scaling. Some variables, especially the number of houses, units, and population, were found to be highly skewed by the skewness study, necessitating changes to enhance their distribution.\n",
        "\n",
        "The model's performance was assessed using Mean Squared Error (MSE) and R-squared (R²) metrics after linear regression was used. The model's high MSE of 913,408,598.08 revealed significant differences between the expected and actual prices of homes, according to the data. Furthermore, the model's weak predictive capacity is highlighted by the R2 score of 0.0069, which indicates that it explains less than 1% of the variance in home prices.\n",
        "\n",
        "Multicollinearity between predictors, possible non-linear correlations between features and the target variable, or the requirement for further feature engineering are some of the possible causes of the model's poor performance. I suggest investigating more sophisticated approaches such as polynomial regression, regularization (Ridge, Lasso), or even non-linear models like decision trees or ensemble methods in order to enhance the model. Predictive accuracy may also be improved by adding additional pertinent housing pricing characteristics, such as geographic location, accessibility to amenities, or community demographics.\n",
        "\n",
        "In conclusion, the linear regression model has little predictive power even if it offers a fundamental understanding of the connections between attributes and home prices. To create a more accurate and trustworthy home price prediction model, more feature engineering and model selection improvements are required."
      ],
      "metadata": {
        "id": "ppT8LAQkkxoD"
      }
    },
    {
      "cell_type": "markdown",
      "source": [
        "# Reference"
      ],
      "metadata": {
        "id": "A-P6XZ59NTi8"
      }
    },
    {
      "cell_type": "markdown",
      "source": [
        " Martinez, J., & Wilson, D. (n.d.). Problems, methods, and challenges in comprehensive data cleansing. Retrieved from https://d25zr1xy094zys.cloudfront.net/01/68/0168304c626a5b186bf559bf774a1dca52b04931?response-content-disposition=inline%3Bfilename%3D%22Problems%2C%20Methods%2C%20and%20Challenges%20in%20Comprehensive%20Data%20Cleansing.pdf%22&Expires=1729253040&Key-Pair-Id=K1I589YUQOO6ZB\n",
        "\n",
        "Statology. (n.d.). How to transform data in Python (with examples). Statology. Retrieved from https://www.statology.org/transform-data-in-python/\n",
        "\n",
        "GeeksforGeeks. (n.d.). Normalization vs. standardization. GeeksforGeeks. Retrieved from https://www.geeksforgeeks.org/normalization-vs-standardization/\n",
        "\n",
        "Jain, A. (2020, November 19). Normalization and standardization of data. Medium. Retrieved from https://medium.com/@abhishekjainindore24/normalization-and-standardization-of-data-408810a88307\n",
        "\n",
        "Raschka, S. (n.d.). MinMax scaling. MLxtend. Retrieved from https://rasbt.github.io/mlxtend/user_guide/preprocessing/minmax_scaling/"
      ],
      "metadata": {
        "id": "OT8eBviWN3JV"
      }
    }
  ]
}