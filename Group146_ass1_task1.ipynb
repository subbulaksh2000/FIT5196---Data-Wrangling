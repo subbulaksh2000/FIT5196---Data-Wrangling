{
  "nbformat": 4,
  "nbformat_minor": 0,
  "metadata": {
    "colab": {
      "provenance": []
    },
    "kernelspec": {
      "name": "python3",
      "display_name": "Python 3"
    },
    "language_info": {
      "name": "python"
    }
  },
  "cells": [
    {
      "cell_type": "markdown",
      "source": [
        "<div class=\"alert alert-block alert-danger\">\n",
        "    \n",
        "## Table of Contents\n",
        "\n",
        "</div>    \n",
        "\n",
        "[1. Dirty Data](#dirty) <br>\n",
        "[1.1. Data Loading](#load) <br>\n",
        "[1.2. Data Exploration](#explore) <br>\n",
        "[1.3. Column wise inspection](#inspect) <br>\n",
        "$\\;\\;\\;\\;$[1.3.1. Date](#date) <br>\n",
        "$\\;\\;\\;\\;$[1.3.2. Geographical Coordinates](#cood) <br>\n",
        "$\\;\\;\\;\\;$[1.3.3. Warehouse Names](#warehouse) <br>\n",
        "$\\;\\;\\;\\;$[1.3.4. Shopping Cart](#cart) <br>\n",
        "$\\;\\;\\;\\;$[1.3.5. Order Price](#price) <br>\n",
        "$\\;\\;\\;\\;$[1.3.6. is_expedited_delivery](#expedite) <br>\n",
        "$\\;\\;\\;\\;$[1.3.7. Season](#expedite) <br>\n",
        "$\\;\\;\\;\\;$[1.3.8. Order total](#total) <br>\n",
        "[2. Corrections](#correction) <br>\n",
        "[2.1. Date](#date2) <br>\n",
        "[2.2. Coordinates](#cood2) <br>\n",
        "[2.3. Season](#season2) <br>\n",
        "[2.4. Warehouse Names](#name) <br>\n",
        "[2.5. Warehouse Distance](#dist) <br>\n",
        "[2.6. Expedite](#exp2) <br>\n",
        "[2.7. Cutomer_happiness](#happy) <br>\n",
        "[2.8. Shopping Cart](#cart2) <br>\n",
        "[2.9. Order Price](#price2) <br>\n",
        "[Order Total](#total2) <br>\n",
        "[Outlier Data](#Outlier) <br>\n",
        "[3.1. Data Loading and Cleaning](#Cleaning) <br>\n",
        "[3.2 Delivery Charge](#Charge) <br>\n",
        "$\\;\\;\\;\\;$[3.2.1 Inter Quartile Rangw](#Inter) <br>\n",
        "$\\;\\;\\;\\;$[3.2.2 Linear Regression Model](#Model) <br>\n",
        "[3.3 Converting it into CSV](#Converting) <br>\n",
        "[4.0 Missing](#missing) <br>\n",
        "[4.1. EDA](#eda2) <br>\n",
        "[4.2. Missing Values](#miss) <br>\n",
        "[4.2. Column Inspection](#col2) <br>\n"
      ],
      "metadata": {
        "id": "EcEQOicn-39N"
      }
    },
    {
      "cell_type": "code",
      "execution_count": null,
      "metadata": {
        "id": "gv_b_1A4waMc",
        "colab": {
          "base_uri": "https://localhost:8080/"
        },
        "outputId": "67d44079-6f48-49e2-e91a-ed5e74a54cae"
      },
      "outputs": [
        {
          "output_type": "stream",
          "name": "stdout",
          "text": [
            "Mounted at /content/drive\n"
          ]
        }
      ],
      "source": [
        "from google.colab import drive\n",
        "drive.mount('/content/drive')"
      ]
    },
    {
      "cell_type": "markdown",
      "source": [
        "<div class=\"alert alert-block alert-warning\">\n",
        "\n",
        "# 1.  Dirt Data.CSV<a class=\"anchor\" name=\"#dirty\"></a>\n",
        "    \n",
        "</div>"
      ],
      "metadata": {
        "id": "6nFbmOLzRLKD"
      }
    },
    {
      "cell_type": "markdown",
      "source": [
        "<div class=\"alert alert-block alert-warning\">\n",
        "\n",
        "# 1.1.  Data Loading  <a class=\"anchor\" name=\"#load\"></a>\n",
        "    \n",
        "</div>"
      ],
      "metadata": {
        "id": "Ar43icnFWDJ_"
      }
    },
    {
      "cell_type": "code",
      "source": [
        "# Read first file\n",
        "import pandas as pd\n",
        "\n",
        "path_dirty ='/content/drive/Shareddrives/FIT5196_S2_2024/GroupAssessment2/student_data/Group146/Group146_dirty_data.csv'\n",
        "\n",
        "dirty = pd.read_csv(path_dirty)"
      ],
      "metadata": {
        "id": "MLEnKH42bEbp"
      },
      "execution_count": null,
      "outputs": []
    },
    {
      "cell_type": "markdown",
      "source": [
        "<div class=\"alert alert-block alert-warning\">\n",
        "\n",
        "# 1.2.  Data Exploration  <a class=\"anchor\" name=\"#explore\"></a>\n",
        "    \n",
        "</div>"
      ],
      "metadata": {
        "id": "XqvP0fv1kxSu"
      }
    },
    {
      "cell_type": "code",
      "source": [
        "dirty.head()"
      ],
      "metadata": {
        "colab": {
          "base_uri": "https://localhost:8080/",
          "height": 365
        },
        "id": "vXfqBvGncvrq",
        "outputId": "f30fa697-0757-40b1-817c-b66dd8e93242"
      },
      "execution_count": null,
      "outputs": [
        {
          "output_type": "execute_result",
          "data": {
            "text/plain": [
              "    order_id   customer_id        date nearest_warehouse  \\\n",
              "0  ORD057529  ID6167413275  2019-07-26         Nickolson   \n",
              "1  ORD182030  ID0767752593  2019-10-14         Nickolson   \n",
              "2  ORD386119  ID0164063139  2019-09-18          Thompson   \n",
              "3  ORD488733  ID0332544860  2019-08-14          Thompson   \n",
              "4  ORD131365  ID2317966813  2019-04-06         Nickolson   \n",
              "\n",
              "                                       shopping_cart  order_price  \\\n",
              "0              [('iAssist Line', 2), ('iStream', 2)]         4750   \n",
              "1  [('Olivia x460', 2), ('iStream', 1), ('Thunder...         9230   \n",
              "2               [('Toshika 750', 2), ('iStream', 2)]         8940   \n",
              "3  [('Lucent 330S', 2), ('iStream', 2), ('Alcon 1...        25670   \n",
              "4         [('Universe Note', 1), ('Olivia x460', 2)]         5900   \n",
              "\n",
              "   delivery_charges  customer_lat  customer_long  coupon_discount  \\\n",
              "0             76.46    -37.815375     144.959666               10   \n",
              "1             83.35    -37.804926     144.969378                5   \n",
              "2             75.88    -37.814882     144.954931                5   \n",
              "3             62.28    -37.811022     144.950512                0   \n",
              "4             79.65    -37.810645     144.975660                5   \n",
              "\n",
              "   order_total  season  is_expedited_delivery  distance_to_nearest_warehouse  \\\n",
              "0      4351.46  Winter                  False                         0.9403   \n",
              "1      8851.85  Spring                  False                         0.7087   \n",
              "2      8568.88  Spring                  False                         0.7338   \n",
              "3     25732.28  Winter                  False                         0.3542   \n",
              "4      5684.65  summer                   True                         1.0353   \n",
              "\n",
              "                              latest_customer_review  is_happy_customer  \n",
              "0                                                NaN               True  \n",
              "1  phone fast and speedy. filled with features , ...               True  \n",
              "2  pretty cool. i have only begun to figure out t...               True  \n",
              "3  working great! my mom still using working grea...               True  \n",
              "4          olivia all the way best phone i ever had.               True  "
            ],
            "text/html": [
              "\n",
              "  <div id=\"df-a8813eab-0846-4515-a242-a51f2eabf920\" class=\"colab-df-container\">\n",
              "    <div>\n",
              "<style scoped>\n",
              "    .dataframe tbody tr th:only-of-type {\n",
              "        vertical-align: middle;\n",
              "    }\n",
              "\n",
              "    .dataframe tbody tr th {\n",
              "        vertical-align: top;\n",
              "    }\n",
              "\n",
              "    .dataframe thead th {\n",
              "        text-align: right;\n",
              "    }\n",
              "</style>\n",
              "<table border=\"1\" class=\"dataframe\">\n",
              "  <thead>\n",
              "    <tr style=\"text-align: right;\">\n",
              "      <th></th>\n",
              "      <th>order_id</th>\n",
              "      <th>customer_id</th>\n",
              "      <th>date</th>\n",
              "      <th>nearest_warehouse</th>\n",
              "      <th>shopping_cart</th>\n",
              "      <th>order_price</th>\n",
              "      <th>delivery_charges</th>\n",
              "      <th>customer_lat</th>\n",
              "      <th>customer_long</th>\n",
              "      <th>coupon_discount</th>\n",
              "      <th>order_total</th>\n",
              "      <th>season</th>\n",
              "      <th>is_expedited_delivery</th>\n",
              "      <th>distance_to_nearest_warehouse</th>\n",
              "      <th>latest_customer_review</th>\n",
              "      <th>is_happy_customer</th>\n",
              "    </tr>\n",
              "  </thead>\n",
              "  <tbody>\n",
              "    <tr>\n",
              "      <th>0</th>\n",
              "      <td>ORD057529</td>\n",
              "      <td>ID6167413275</td>\n",
              "      <td>2019-07-26</td>\n",
              "      <td>Nickolson</td>\n",
              "      <td>[('iAssist Line', 2), ('iStream', 2)]</td>\n",
              "      <td>4750</td>\n",
              "      <td>76.46</td>\n",
              "      <td>-37.815375</td>\n",
              "      <td>144.959666</td>\n",
              "      <td>10</td>\n",
              "      <td>4351.46</td>\n",
              "      <td>Winter</td>\n",
              "      <td>False</td>\n",
              "      <td>0.9403</td>\n",
              "      <td>NaN</td>\n",
              "      <td>True</td>\n",
              "    </tr>\n",
              "    <tr>\n",
              "      <th>1</th>\n",
              "      <td>ORD182030</td>\n",
              "      <td>ID0767752593</td>\n",
              "      <td>2019-10-14</td>\n",
              "      <td>Nickolson</td>\n",
              "      <td>[('Olivia x460', 2), ('iStream', 1), ('Thunder...</td>\n",
              "      <td>9230</td>\n",
              "      <td>83.35</td>\n",
              "      <td>-37.804926</td>\n",
              "      <td>144.969378</td>\n",
              "      <td>5</td>\n",
              "      <td>8851.85</td>\n",
              "      <td>Spring</td>\n",
              "      <td>False</td>\n",
              "      <td>0.7087</td>\n",
              "      <td>phone fast and speedy. filled with features , ...</td>\n",
              "      <td>True</td>\n",
              "    </tr>\n",
              "    <tr>\n",
              "      <th>2</th>\n",
              "      <td>ORD386119</td>\n",
              "      <td>ID0164063139</td>\n",
              "      <td>2019-09-18</td>\n",
              "      <td>Thompson</td>\n",
              "      <td>[('Toshika 750', 2), ('iStream', 2)]</td>\n",
              "      <td>8940</td>\n",
              "      <td>75.88</td>\n",
              "      <td>-37.814882</td>\n",
              "      <td>144.954931</td>\n",
              "      <td>5</td>\n",
              "      <td>8568.88</td>\n",
              "      <td>Spring</td>\n",
              "      <td>False</td>\n",
              "      <td>0.7338</td>\n",
              "      <td>pretty cool. i have only begun to figure out t...</td>\n",
              "      <td>True</td>\n",
              "    </tr>\n",
              "    <tr>\n",
              "      <th>3</th>\n",
              "      <td>ORD488733</td>\n",
              "      <td>ID0332544860</td>\n",
              "      <td>2019-08-14</td>\n",
              "      <td>Thompson</td>\n",
              "      <td>[('Lucent 330S', 2), ('iStream', 2), ('Alcon 1...</td>\n",
              "      <td>25670</td>\n",
              "      <td>62.28</td>\n",
              "      <td>-37.811022</td>\n",
              "      <td>144.950512</td>\n",
              "      <td>0</td>\n",
              "      <td>25732.28</td>\n",
              "      <td>Winter</td>\n",
              "      <td>False</td>\n",
              "      <td>0.3542</td>\n",
              "      <td>working great! my mom still using working grea...</td>\n",
              "      <td>True</td>\n",
              "    </tr>\n",
              "    <tr>\n",
              "      <th>4</th>\n",
              "      <td>ORD131365</td>\n",
              "      <td>ID2317966813</td>\n",
              "      <td>2019-04-06</td>\n",
              "      <td>Nickolson</td>\n",
              "      <td>[('Universe Note', 1), ('Olivia x460', 2)]</td>\n",
              "      <td>5900</td>\n",
              "      <td>79.65</td>\n",
              "      <td>-37.810645</td>\n",
              "      <td>144.975660</td>\n",
              "      <td>5</td>\n",
              "      <td>5684.65</td>\n",
              "      <td>summer</td>\n",
              "      <td>True</td>\n",
              "      <td>1.0353</td>\n",
              "      <td>olivia all the way best phone i ever had.</td>\n",
              "      <td>True</td>\n",
              "    </tr>\n",
              "  </tbody>\n",
              "</table>\n",
              "</div>\n",
              "    <div class=\"colab-df-buttons\">\n",
              "\n",
              "  <div class=\"colab-df-container\">\n",
              "    <button class=\"colab-df-convert\" onclick=\"convertToInteractive('df-a8813eab-0846-4515-a242-a51f2eabf920')\"\n",
              "            title=\"Convert this dataframe to an interactive table.\"\n",
              "            style=\"display:none;\">\n",
              "\n",
              "  <svg xmlns=\"http://www.w3.org/2000/svg\" height=\"24px\" viewBox=\"0 -960 960 960\">\n",
              "    <path d=\"M120-120v-720h720v720H120Zm60-500h600v-160H180v160Zm220 220h160v-160H400v160Zm0 220h160v-160H400v160ZM180-400h160v-160H180v160Zm440 0h160v-160H620v160ZM180-180h160v-160H180v160Zm440 0h160v-160H620v160Z\"/>\n",
              "  </svg>\n",
              "    </button>\n",
              "\n",
              "  <style>\n",
              "    .colab-df-container {\n",
              "      display:flex;\n",
              "      gap: 12px;\n",
              "    }\n",
              "\n",
              "    .colab-df-convert {\n",
              "      background-color: #E8F0FE;\n",
              "      border: none;\n",
              "      border-radius: 50%;\n",
              "      cursor: pointer;\n",
              "      display: none;\n",
              "      fill: #1967D2;\n",
              "      height: 32px;\n",
              "      padding: 0 0 0 0;\n",
              "      width: 32px;\n",
              "    }\n",
              "\n",
              "    .colab-df-convert:hover {\n",
              "      background-color: #E2EBFA;\n",
              "      box-shadow: 0px 1px 2px rgba(60, 64, 67, 0.3), 0px 1px 3px 1px rgba(60, 64, 67, 0.15);\n",
              "      fill: #174EA6;\n",
              "    }\n",
              "\n",
              "    .colab-df-buttons div {\n",
              "      margin-bottom: 4px;\n",
              "    }\n",
              "\n",
              "    [theme=dark] .colab-df-convert {\n",
              "      background-color: #3B4455;\n",
              "      fill: #D2E3FC;\n",
              "    }\n",
              "\n",
              "    [theme=dark] .colab-df-convert:hover {\n",
              "      background-color: #434B5C;\n",
              "      box-shadow: 0px 1px 3px 1px rgba(0, 0, 0, 0.15);\n",
              "      filter: drop-shadow(0px 1px 2px rgba(0, 0, 0, 0.3));\n",
              "      fill: #FFFFFF;\n",
              "    }\n",
              "  </style>\n",
              "\n",
              "    <script>\n",
              "      const buttonEl =\n",
              "        document.querySelector('#df-a8813eab-0846-4515-a242-a51f2eabf920 button.colab-df-convert');\n",
              "      buttonEl.style.display =\n",
              "        google.colab.kernel.accessAllowed ? 'block' : 'none';\n",
              "\n",
              "      async function convertToInteractive(key) {\n",
              "        const element = document.querySelector('#df-a8813eab-0846-4515-a242-a51f2eabf920');\n",
              "        const dataTable =\n",
              "          await google.colab.kernel.invokeFunction('convertToInteractive',\n",
              "                                                    [key], {});\n",
              "        if (!dataTable) return;\n",
              "\n",
              "        const docLinkHtml = 'Like what you see? Visit the ' +\n",
              "          '<a target=\"_blank\" href=https://colab.research.google.com/notebooks/data_table.ipynb>data table notebook</a>'\n",
              "          + ' to learn more about interactive tables.';\n",
              "        element.innerHTML = '';\n",
              "        dataTable['output_type'] = 'display_data';\n",
              "        await google.colab.output.renderOutput(dataTable, element);\n",
              "        const docLink = document.createElement('div');\n",
              "        docLink.innerHTML = docLinkHtml;\n",
              "        element.appendChild(docLink);\n",
              "      }\n",
              "    </script>\n",
              "  </div>\n",
              "\n",
              "\n",
              "<div id=\"df-5f12368f-387e-40b2-9248-e7a8367a6418\">\n",
              "  <button class=\"colab-df-quickchart\" onclick=\"quickchart('df-5f12368f-387e-40b2-9248-e7a8367a6418')\"\n",
              "            title=\"Suggest charts\"\n",
              "            style=\"display:none;\">\n",
              "\n",
              "<svg xmlns=\"http://www.w3.org/2000/svg\" height=\"24px\"viewBox=\"0 0 24 24\"\n",
              "     width=\"24px\">\n",
              "    <g>\n",
              "        <path d=\"M19 3H5c-1.1 0-2 .9-2 2v14c0 1.1.9 2 2 2h14c1.1 0 2-.9 2-2V5c0-1.1-.9-2-2-2zM9 17H7v-7h2v7zm4 0h-2V7h2v10zm4 0h-2v-4h2v4z\"/>\n",
              "    </g>\n",
              "</svg>\n",
              "  </button>\n",
              "\n",
              "<style>\n",
              "  .colab-df-quickchart {\n",
              "      --bg-color: #E8F0FE;\n",
              "      --fill-color: #1967D2;\n",
              "      --hover-bg-color: #E2EBFA;\n",
              "      --hover-fill-color: #174EA6;\n",
              "      --disabled-fill-color: #AAA;\n",
              "      --disabled-bg-color: #DDD;\n",
              "  }\n",
              "\n",
              "  [theme=dark] .colab-df-quickchart {\n",
              "      --bg-color: #3B4455;\n",
              "      --fill-color: #D2E3FC;\n",
              "      --hover-bg-color: #434B5C;\n",
              "      --hover-fill-color: #FFFFFF;\n",
              "      --disabled-bg-color: #3B4455;\n",
              "      --disabled-fill-color: #666;\n",
              "  }\n",
              "\n",
              "  .colab-df-quickchart {\n",
              "    background-color: var(--bg-color);\n",
              "    border: none;\n",
              "    border-radius: 50%;\n",
              "    cursor: pointer;\n",
              "    display: none;\n",
              "    fill: var(--fill-color);\n",
              "    height: 32px;\n",
              "    padding: 0;\n",
              "    width: 32px;\n",
              "  }\n",
              "\n",
              "  .colab-df-quickchart:hover {\n",
              "    background-color: var(--hover-bg-color);\n",
              "    box-shadow: 0 1px 2px rgba(60, 64, 67, 0.3), 0 1px 3px 1px rgba(60, 64, 67, 0.15);\n",
              "    fill: var(--button-hover-fill-color);\n",
              "  }\n",
              "\n",
              "  .colab-df-quickchart-complete:disabled,\n",
              "  .colab-df-quickchart-complete:disabled:hover {\n",
              "    background-color: var(--disabled-bg-color);\n",
              "    fill: var(--disabled-fill-color);\n",
              "    box-shadow: none;\n",
              "  }\n",
              "\n",
              "  .colab-df-spinner {\n",
              "    border: 2px solid var(--fill-color);\n",
              "    border-color: transparent;\n",
              "    border-bottom-color: var(--fill-color);\n",
              "    animation:\n",
              "      spin 1s steps(1) infinite;\n",
              "  }\n",
              "\n",
              "  @keyframes spin {\n",
              "    0% {\n",
              "      border-color: transparent;\n",
              "      border-bottom-color: var(--fill-color);\n",
              "      border-left-color: var(--fill-color);\n",
              "    }\n",
              "    20% {\n",
              "      border-color: transparent;\n",
              "      border-left-color: var(--fill-color);\n",
              "      border-top-color: var(--fill-color);\n",
              "    }\n",
              "    30% {\n",
              "      border-color: transparent;\n",
              "      border-left-color: var(--fill-color);\n",
              "      border-top-color: var(--fill-color);\n",
              "      border-right-color: var(--fill-color);\n",
              "    }\n",
              "    40% {\n",
              "      border-color: transparent;\n",
              "      border-right-color: var(--fill-color);\n",
              "      border-top-color: var(--fill-color);\n",
              "    }\n",
              "    60% {\n",
              "      border-color: transparent;\n",
              "      border-right-color: var(--fill-color);\n",
              "    }\n",
              "    80% {\n",
              "      border-color: transparent;\n",
              "      border-right-color: var(--fill-color);\n",
              "      border-bottom-color: var(--fill-color);\n",
              "    }\n",
              "    90% {\n",
              "      border-color: transparent;\n",
              "      border-bottom-color: var(--fill-color);\n",
              "    }\n",
              "  }\n",
              "</style>\n",
              "\n",
              "  <script>\n",
              "    async function quickchart(key) {\n",
              "      const quickchartButtonEl =\n",
              "        document.querySelector('#' + key + ' button');\n",
              "      quickchartButtonEl.disabled = true;  // To prevent multiple clicks.\n",
              "      quickchartButtonEl.classList.add('colab-df-spinner');\n",
              "      try {\n",
              "        const charts = await google.colab.kernel.invokeFunction(\n",
              "            'suggestCharts', [key], {});\n",
              "      } catch (error) {\n",
              "        console.error('Error during call to suggestCharts:', error);\n",
              "      }\n",
              "      quickchartButtonEl.classList.remove('colab-df-spinner');\n",
              "      quickchartButtonEl.classList.add('colab-df-quickchart-complete');\n",
              "    }\n",
              "    (() => {\n",
              "      let quickchartButtonEl =\n",
              "        document.querySelector('#df-5f12368f-387e-40b2-9248-e7a8367a6418 button');\n",
              "      quickchartButtonEl.style.display =\n",
              "        google.colab.kernel.accessAllowed ? 'block' : 'none';\n",
              "    })();\n",
              "  </script>\n",
              "</div>\n",
              "\n",
              "    </div>\n",
              "  </div>\n"
            ],
            "application/vnd.google.colaboratory.intrinsic+json": {
              "type": "dataframe",
              "variable_name": "dirty",
              "summary": "{\n  \"name\": \"dirty\",\n  \"rows\": 500,\n  \"fields\": [\n    {\n      \"column\": \"order_id\",\n      \"properties\": {\n        \"dtype\": \"string\",\n        \"num_unique_values\": 500,\n        \"samples\": [\n          \"ORD300979\",\n          \"ORD489064\",\n          \"ORD032677\"\n        ],\n        \"semantic_type\": \"\",\n        \"description\": \"\"\n      }\n    },\n    {\n      \"column\": \"customer_id\",\n      \"properties\": {\n        \"dtype\": \"string\",\n        \"num_unique_values\": 493,\n        \"samples\": [\n          \"ID2781290201\",\n          \"ID0224757641\",\n          \"ID0030948166\"\n        ],\n        \"semantic_type\": \"\",\n        \"description\": \"\"\n      }\n    },\n    {\n      \"column\": \"date\",\n      \"properties\": {\n        \"dtype\": \"string\",\n        \"num_unique_values\": 290,\n        \"samples\": [\n          \"2019-04-26\",\n          \"2019-09-30\",\n          \"2019-12-16\"\n        ],\n        \"semantic_type\": \"\",\n        \"description\": \"\"\n      }\n    },\n    {\n      \"column\": \"nearest_warehouse\",\n      \"properties\": {\n        \"dtype\": \"category\",\n        \"num_unique_values\": 6,\n        \"samples\": [\n          \"Nickolson\",\n          \"Thompson\",\n          \"thompson\"\n        ],\n        \"semantic_type\": \"\",\n        \"description\": \"\"\n      }\n    },\n    {\n      \"column\": \"shopping_cart\",\n      \"properties\": {\n        \"dtype\": \"string\",\n        \"num_unique_values\": 470,\n        \"samples\": [\n          \"[('Candle Inferno', 1), ('Thunder line', 1)]\",\n          \"[('iAssist Line', 2), ('Thunder line', 1), ('Toshika 750', 2)]\",\n          \"[('Thunder line', 2), ('Olivia x460', 1)]\"\n        ],\n        \"semantic_type\": \"\",\n        \"description\": \"\"\n      }\n    },\n    {\n      \"column\": \"order_price\",\n      \"properties\": {\n        \"dtype\": \"number\",\n        \"std\": 7874,\n        \"min\": 580,\n        \"max\": 41340,\n        \"num_unique_values\": 388,\n        \"samples\": [\n          14150,\n          15500,\n          1525\n        ],\n        \"semantic_type\": \"\",\n        \"description\": \"\"\n      }\n    },\n    {\n      \"column\": \"delivery_charges\",\n      \"properties\": {\n        \"dtype\": \"number\",\n        \"std\": 13.906340074589723,\n        \"min\": 45.2,\n        \"max\": 116.44,\n        \"num_unique_values\": 466,\n        \"samples\": [\n          71.3,\n          61.7,\n          93.66\n        ],\n        \"semantic_type\": \"\",\n        \"description\": \"\"\n      }\n    },\n    {\n      \"column\": \"customer_lat\",\n      \"properties\": {\n        \"dtype\": \"number\",\n        \"std\": 41.35282137871322,\n        \"min\": -37.8298477,\n        \"max\": 145.0138215,\n        \"num_unique_values\": 494,\n        \"samples\": [\n          -37.822463,\n          -37.8072913,\n          -37.8253383\n        ],\n        \"semantic_type\": \"\",\n        \"description\": \"\"\n      }\n    },\n    {\n      \"column\": \"customer_long\",\n      \"properties\": {\n        \"dtype\": \"number\",\n        \"std\": 41.3527417630702,\n        \"min\": -37.8245633,\n        \"max\": 145.01865930000002,\n        \"num_unique_values\": 494,\n        \"samples\": [\n          144.9544537,\n          144.9931365,\n          144.95852119999995\n        ],\n        \"semantic_type\": \"\",\n        \"description\": \"\"\n      }\n    },\n    {\n      \"column\": \"coupon_discount\",\n      \"properties\": {\n        \"dtype\": \"number\",\n        \"std\": 8,\n        \"min\": 0,\n        \"max\": 25,\n        \"num_unique_values\": 5,\n        \"samples\": [\n          5,\n          15,\n          0\n        ],\n        \"semantic_type\": \"\",\n        \"description\": \"\"\n      }\n    },\n    {\n      \"column\": \"order_total\",\n      \"properties\": {\n        \"dtype\": \"number\",\n        \"std\": 7029.89792157015,\n        \"min\": 625.95,\n        \"max\": 36422.39,\n        \"num_unique_values\": 473,\n        \"samples\": [\n          8418.8,\n          9061.89,\n          4282.41\n        ],\n        \"semantic_type\": \"\",\n        \"description\": \"\"\n      }\n    },\n    {\n      \"column\": \"season\",\n      \"properties\": {\n        \"dtype\": \"category\",\n        \"num_unique_values\": 8,\n        \"samples\": [\n          \"Spring\",\n          \"winter\",\n          \"Winter\"\n        ],\n        \"semantic_type\": \"\",\n        \"description\": \"\"\n      }\n    },\n    {\n      \"column\": \"is_expedited_delivery\",\n      \"properties\": {\n        \"dtype\": \"boolean\",\n        \"num_unique_values\": 2,\n        \"samples\": [\n          true,\n          false\n        ],\n        \"semantic_type\": \"\",\n        \"description\": \"\"\n      }\n    },\n    {\n      \"column\": \"distance_to_nearest_warehouse\",\n      \"properties\": {\n        \"dtype\": \"number\",\n        \"std\": 0.5149138347615236,\n        \"min\": 0.0319,\n        \"max\": 2.8292,\n        \"num_unique_values\": 466,\n        \"samples\": [\n          0.3086,\n          0.6433\n        ],\n        \"semantic_type\": \"\",\n        \"description\": \"\"\n      }\n    },\n    {\n      \"column\": \"latest_customer_review\",\n      \"properties\": {\n        \"dtype\": \"string\",\n        \"num_unique_values\": 499,\n        \"samples\": [\n          \"perfect perfect phone. but i need to register the same finger a few times to let the device react better.\",\n          \"this phone sucks dropped it off the dinner table and the liquid crystal behind the glass messed up. waste of mobey\"\n        ],\n        \"semantic_type\": \"\",\n        \"description\": \"\"\n      }\n    },\n    {\n      \"column\": \"is_happy_customer\",\n      \"properties\": {\n        \"dtype\": \"boolean\",\n        \"num_unique_values\": 2,\n        \"samples\": [\n          false,\n          true\n        ],\n        \"semantic_type\": \"\",\n        \"description\": \"\"\n      }\n    }\n  ]\n}"
            }
          },
          "metadata": {},
          "execution_count": 4
        }
      ]
    },
    {
      "cell_type": "markdown",
      "source": [
        "Above we get an idea of what the data looks like in the file."
      ],
      "metadata": {
        "id": "R4R4Ov_L8XlW"
      }
    },
    {
      "cell_type": "code",
      "source": [
        "dirty.info()"
      ],
      "metadata": {
        "colab": {
          "base_uri": "https://localhost:8080/"
        },
        "id": "hy6cJ091c5aW",
        "outputId": "39e50476-7576-4683-d24f-f5f71ef9f0e3"
      },
      "execution_count": null,
      "outputs": [
        {
          "output_type": "stream",
          "name": "stdout",
          "text": [
            "<class 'pandas.core.frame.DataFrame'>\n",
            "RangeIndex: 500 entries, 0 to 499\n",
            "Data columns (total 16 columns):\n",
            " #   Column                         Non-Null Count  Dtype  \n",
            "---  ------                         --------------  -----  \n",
            " 0   order_id                       500 non-null    object \n",
            " 1   customer_id                    500 non-null    object \n",
            " 2   date                           500 non-null    object \n",
            " 3   nearest_warehouse              500 non-null    object \n",
            " 4   shopping_cart                  500 non-null    object \n",
            " 5   order_price                    500 non-null    int64  \n",
            " 6   delivery_charges               500 non-null    float64\n",
            " 7   customer_lat                   500 non-null    float64\n",
            " 8   customer_long                  500 non-null    float64\n",
            " 9   coupon_discount                500 non-null    int64  \n",
            " 10  order_total                    500 non-null    float64\n",
            " 11  season                         500 non-null    object \n",
            " 12  is_expedited_delivery          500 non-null    bool   \n",
            " 13  distance_to_nearest_warehouse  500 non-null    float64\n",
            " 14  latest_customer_review         499 non-null    object \n",
            " 15  is_happy_customer              500 non-null    bool   \n",
            "dtypes: bool(2), float64(5), int64(2), object(7)\n",
            "memory usage: 55.8+ KB\n"
          ]
        }
      ]
    },
    {
      "cell_type": "code",
      "source": [
        "# Look for missing values\n",
        "dirty.shape"
      ],
      "metadata": {
        "colab": {
          "base_uri": "https://localhost:8080/"
        },
        "id": "YAnCQARKdG2A",
        "outputId": "8ae8ad59-2b92-4a6a-e770-f76c205da151"
      },
      "execution_count": null,
      "outputs": [
        {
          "output_type": "execute_result",
          "data": {
            "text/plain": [
              "(500, 16)"
            ]
          },
          "metadata": {},
          "execution_count": 6
        }
      ]
    },
    {
      "cell_type": "code",
      "source": [
        "dirty.describe()"
      ],
      "metadata": {
        "colab": {
          "base_uri": "https://localhost:8080/",
          "height": 320
        },
        "id": "BKua5KcKc9hX",
        "outputId": "1895884f-60d3-4806-c162-e0dded8427d0"
      },
      "execution_count": null,
      "outputs": [
        {
          "output_type": "execute_result",
          "data": {
            "text/plain": [
              "        order_price  delivery_charges  customer_lat  customer_long  \\\n",
              "count    500.000000         500.00000    500.000000     500.000000   \n",
              "mean   13779.710000          75.50572    -27.942723     135.096626   \n",
              "std     7874.302677          13.90634     41.352821      41.352742   \n",
              "min      580.000000          45.20000    -37.829848     -37.824563   \n",
              "25%     7487.500000          65.55500    -37.818829     144.948699   \n",
              "50%    12450.000000          74.96000    -37.812456     144.962853   \n",
              "75%    19280.000000          82.69500    -37.805289     144.981066   \n",
              "max    41340.000000         116.44000    145.013822     145.018659   \n",
              "\n",
              "       coupon_discount   order_total  distance_to_nearest_warehouse  \n",
              "count       500.000000    500.000000                     500.000000  \n",
              "mean         10.820000  12261.879480                       1.079324  \n",
              "std           8.589246   7029.897922                       0.514914  \n",
              "min           0.000000    625.950000                       0.031900  \n",
              "25%           5.000000   6829.235000                       0.703700  \n",
              "50%          10.000000  11066.385000                       1.042400  \n",
              "75%          15.000000  17243.687500                       1.436100  \n",
              "max          25.000000  36422.390000                       2.829200  "
            ],
            "text/html": [
              "\n",
              "  <div id=\"df-6c24fedd-66c5-47c0-954f-ea76378d01e0\" class=\"colab-df-container\">\n",
              "    <div>\n",
              "<style scoped>\n",
              "    .dataframe tbody tr th:only-of-type {\n",
              "        vertical-align: middle;\n",
              "    }\n",
              "\n",
              "    .dataframe tbody tr th {\n",
              "        vertical-align: top;\n",
              "    }\n",
              "\n",
              "    .dataframe thead th {\n",
              "        text-align: right;\n",
              "    }\n",
              "</style>\n",
              "<table border=\"1\" class=\"dataframe\">\n",
              "  <thead>\n",
              "    <tr style=\"text-align: right;\">\n",
              "      <th></th>\n",
              "      <th>order_price</th>\n",
              "      <th>delivery_charges</th>\n",
              "      <th>customer_lat</th>\n",
              "      <th>customer_long</th>\n",
              "      <th>coupon_discount</th>\n",
              "      <th>order_total</th>\n",
              "      <th>distance_to_nearest_warehouse</th>\n",
              "    </tr>\n",
              "  </thead>\n",
              "  <tbody>\n",
              "    <tr>\n",
              "      <th>count</th>\n",
              "      <td>500.000000</td>\n",
              "      <td>500.00000</td>\n",
              "      <td>500.000000</td>\n",
              "      <td>500.000000</td>\n",
              "      <td>500.000000</td>\n",
              "      <td>500.000000</td>\n",
              "      <td>500.000000</td>\n",
              "    </tr>\n",
              "    <tr>\n",
              "      <th>mean</th>\n",
              "      <td>13779.710000</td>\n",
              "      <td>75.50572</td>\n",
              "      <td>-27.942723</td>\n",
              "      <td>135.096626</td>\n",
              "      <td>10.820000</td>\n",
              "      <td>12261.879480</td>\n",
              "      <td>1.079324</td>\n",
              "    </tr>\n",
              "    <tr>\n",
              "      <th>std</th>\n",
              "      <td>7874.302677</td>\n",
              "      <td>13.90634</td>\n",
              "      <td>41.352821</td>\n",
              "      <td>41.352742</td>\n",
              "      <td>8.589246</td>\n",
              "      <td>7029.897922</td>\n",
              "      <td>0.514914</td>\n",
              "    </tr>\n",
              "    <tr>\n",
              "      <th>min</th>\n",
              "      <td>580.000000</td>\n",
              "      <td>45.20000</td>\n",
              "      <td>-37.829848</td>\n",
              "      <td>-37.824563</td>\n",
              "      <td>0.000000</td>\n",
              "      <td>625.950000</td>\n",
              "      <td>0.031900</td>\n",
              "    </tr>\n",
              "    <tr>\n",
              "      <th>25%</th>\n",
              "      <td>7487.500000</td>\n",
              "      <td>65.55500</td>\n",
              "      <td>-37.818829</td>\n",
              "      <td>144.948699</td>\n",
              "      <td>5.000000</td>\n",
              "      <td>6829.235000</td>\n",
              "      <td>0.703700</td>\n",
              "    </tr>\n",
              "    <tr>\n",
              "      <th>50%</th>\n",
              "      <td>12450.000000</td>\n",
              "      <td>74.96000</td>\n",
              "      <td>-37.812456</td>\n",
              "      <td>144.962853</td>\n",
              "      <td>10.000000</td>\n",
              "      <td>11066.385000</td>\n",
              "      <td>1.042400</td>\n",
              "    </tr>\n",
              "    <tr>\n",
              "      <th>75%</th>\n",
              "      <td>19280.000000</td>\n",
              "      <td>82.69500</td>\n",
              "      <td>-37.805289</td>\n",
              "      <td>144.981066</td>\n",
              "      <td>15.000000</td>\n",
              "      <td>17243.687500</td>\n",
              "      <td>1.436100</td>\n",
              "    </tr>\n",
              "    <tr>\n",
              "      <th>max</th>\n",
              "      <td>41340.000000</td>\n",
              "      <td>116.44000</td>\n",
              "      <td>145.013822</td>\n",
              "      <td>145.018659</td>\n",
              "      <td>25.000000</td>\n",
              "      <td>36422.390000</td>\n",
              "      <td>2.829200</td>\n",
              "    </tr>\n",
              "  </tbody>\n",
              "</table>\n",
              "</div>\n",
              "    <div class=\"colab-df-buttons\">\n",
              "\n",
              "  <div class=\"colab-df-container\">\n",
              "    <button class=\"colab-df-convert\" onclick=\"convertToInteractive('df-6c24fedd-66c5-47c0-954f-ea76378d01e0')\"\n",
              "            title=\"Convert this dataframe to an interactive table.\"\n",
              "            style=\"display:none;\">\n",
              "\n",
              "  <svg xmlns=\"http://www.w3.org/2000/svg\" height=\"24px\" viewBox=\"0 -960 960 960\">\n",
              "    <path d=\"M120-120v-720h720v720H120Zm60-500h600v-160H180v160Zm220 220h160v-160H400v160Zm0 220h160v-160H400v160ZM180-400h160v-160H180v160Zm440 0h160v-160H620v160ZM180-180h160v-160H180v160Zm440 0h160v-160H620v160Z\"/>\n",
              "  </svg>\n",
              "    </button>\n",
              "\n",
              "  <style>\n",
              "    .colab-df-container {\n",
              "      display:flex;\n",
              "      gap: 12px;\n",
              "    }\n",
              "\n",
              "    .colab-df-convert {\n",
              "      background-color: #E8F0FE;\n",
              "      border: none;\n",
              "      border-radius: 50%;\n",
              "      cursor: pointer;\n",
              "      display: none;\n",
              "      fill: #1967D2;\n",
              "      height: 32px;\n",
              "      padding: 0 0 0 0;\n",
              "      width: 32px;\n",
              "    }\n",
              "\n",
              "    .colab-df-convert:hover {\n",
              "      background-color: #E2EBFA;\n",
              "      box-shadow: 0px 1px 2px rgba(60, 64, 67, 0.3), 0px 1px 3px 1px rgba(60, 64, 67, 0.15);\n",
              "      fill: #174EA6;\n",
              "    }\n",
              "\n",
              "    .colab-df-buttons div {\n",
              "      margin-bottom: 4px;\n",
              "    }\n",
              "\n",
              "    [theme=dark] .colab-df-convert {\n",
              "      background-color: #3B4455;\n",
              "      fill: #D2E3FC;\n",
              "    }\n",
              "\n",
              "    [theme=dark] .colab-df-convert:hover {\n",
              "      background-color: #434B5C;\n",
              "      box-shadow: 0px 1px 3px 1px rgba(0, 0, 0, 0.15);\n",
              "      filter: drop-shadow(0px 1px 2px rgba(0, 0, 0, 0.3));\n",
              "      fill: #FFFFFF;\n",
              "    }\n",
              "  </style>\n",
              "\n",
              "    <script>\n",
              "      const buttonEl =\n",
              "        document.querySelector('#df-6c24fedd-66c5-47c0-954f-ea76378d01e0 button.colab-df-convert');\n",
              "      buttonEl.style.display =\n",
              "        google.colab.kernel.accessAllowed ? 'block' : 'none';\n",
              "\n",
              "      async function convertToInteractive(key) {\n",
              "        const element = document.querySelector('#df-6c24fedd-66c5-47c0-954f-ea76378d01e0');\n",
              "        const dataTable =\n",
              "          await google.colab.kernel.invokeFunction('convertToInteractive',\n",
              "                                                    [key], {});\n",
              "        if (!dataTable) return;\n",
              "\n",
              "        const docLinkHtml = 'Like what you see? Visit the ' +\n",
              "          '<a target=\"_blank\" href=https://colab.research.google.com/notebooks/data_table.ipynb>data table notebook</a>'\n",
              "          + ' to learn more about interactive tables.';\n",
              "        element.innerHTML = '';\n",
              "        dataTable['output_type'] = 'display_data';\n",
              "        await google.colab.output.renderOutput(dataTable, element);\n",
              "        const docLink = document.createElement('div');\n",
              "        docLink.innerHTML = docLinkHtml;\n",
              "        element.appendChild(docLink);\n",
              "      }\n",
              "    </script>\n",
              "  </div>\n",
              "\n",
              "\n",
              "<div id=\"df-d1bb8c52-dec3-4d57-b73f-516051ac26f0\">\n",
              "  <button class=\"colab-df-quickchart\" onclick=\"quickchart('df-d1bb8c52-dec3-4d57-b73f-516051ac26f0')\"\n",
              "            title=\"Suggest charts\"\n",
              "            style=\"display:none;\">\n",
              "\n",
              "<svg xmlns=\"http://www.w3.org/2000/svg\" height=\"24px\"viewBox=\"0 0 24 24\"\n",
              "     width=\"24px\">\n",
              "    <g>\n",
              "        <path d=\"M19 3H5c-1.1 0-2 .9-2 2v14c0 1.1.9 2 2 2h14c1.1 0 2-.9 2-2V5c0-1.1-.9-2-2-2zM9 17H7v-7h2v7zm4 0h-2V7h2v10zm4 0h-2v-4h2v4z\"/>\n",
              "    </g>\n",
              "</svg>\n",
              "  </button>\n",
              "\n",
              "<style>\n",
              "  .colab-df-quickchart {\n",
              "      --bg-color: #E8F0FE;\n",
              "      --fill-color: #1967D2;\n",
              "      --hover-bg-color: #E2EBFA;\n",
              "      --hover-fill-color: #174EA6;\n",
              "      --disabled-fill-color: #AAA;\n",
              "      --disabled-bg-color: #DDD;\n",
              "  }\n",
              "\n",
              "  [theme=dark] .colab-df-quickchart {\n",
              "      --bg-color: #3B4455;\n",
              "      --fill-color: #D2E3FC;\n",
              "      --hover-bg-color: #434B5C;\n",
              "      --hover-fill-color: #FFFFFF;\n",
              "      --disabled-bg-color: #3B4455;\n",
              "      --disabled-fill-color: #666;\n",
              "  }\n",
              "\n",
              "  .colab-df-quickchart {\n",
              "    background-color: var(--bg-color);\n",
              "    border: none;\n",
              "    border-radius: 50%;\n",
              "    cursor: pointer;\n",
              "    display: none;\n",
              "    fill: var(--fill-color);\n",
              "    height: 32px;\n",
              "    padding: 0;\n",
              "    width: 32px;\n",
              "  }\n",
              "\n",
              "  .colab-df-quickchart:hover {\n",
              "    background-color: var(--hover-bg-color);\n",
              "    box-shadow: 0 1px 2px rgba(60, 64, 67, 0.3), 0 1px 3px 1px rgba(60, 64, 67, 0.15);\n",
              "    fill: var(--button-hover-fill-color);\n",
              "  }\n",
              "\n",
              "  .colab-df-quickchart-complete:disabled,\n",
              "  .colab-df-quickchart-complete:disabled:hover {\n",
              "    background-color: var(--disabled-bg-color);\n",
              "    fill: var(--disabled-fill-color);\n",
              "    box-shadow: none;\n",
              "  }\n",
              "\n",
              "  .colab-df-spinner {\n",
              "    border: 2px solid var(--fill-color);\n",
              "    border-color: transparent;\n",
              "    border-bottom-color: var(--fill-color);\n",
              "    animation:\n",
              "      spin 1s steps(1) infinite;\n",
              "  }\n",
              "\n",
              "  @keyframes spin {\n",
              "    0% {\n",
              "      border-color: transparent;\n",
              "      border-bottom-color: var(--fill-color);\n",
              "      border-left-color: var(--fill-color);\n",
              "    }\n",
              "    20% {\n",
              "      border-color: transparent;\n",
              "      border-left-color: var(--fill-color);\n",
              "      border-top-color: var(--fill-color);\n",
              "    }\n",
              "    30% {\n",
              "      border-color: transparent;\n",
              "      border-left-color: var(--fill-color);\n",
              "      border-top-color: var(--fill-color);\n",
              "      border-right-color: var(--fill-color);\n",
              "    }\n",
              "    40% {\n",
              "      border-color: transparent;\n",
              "      border-right-color: var(--fill-color);\n",
              "      border-top-color: var(--fill-color);\n",
              "    }\n",
              "    60% {\n",
              "      border-color: transparent;\n",
              "      border-right-color: var(--fill-color);\n",
              "    }\n",
              "    80% {\n",
              "      border-color: transparent;\n",
              "      border-right-color: var(--fill-color);\n",
              "      border-bottom-color: var(--fill-color);\n",
              "    }\n",
              "    90% {\n",
              "      border-color: transparent;\n",
              "      border-bottom-color: var(--fill-color);\n",
              "    }\n",
              "  }\n",
              "</style>\n",
              "\n",
              "  <script>\n",
              "    async function quickchart(key) {\n",
              "      const quickchartButtonEl =\n",
              "        document.querySelector('#' + key + ' button');\n",
              "      quickchartButtonEl.disabled = true;  // To prevent multiple clicks.\n",
              "      quickchartButtonEl.classList.add('colab-df-spinner');\n",
              "      try {\n",
              "        const charts = await google.colab.kernel.invokeFunction(\n",
              "            'suggestCharts', [key], {});\n",
              "      } catch (error) {\n",
              "        console.error('Error during call to suggestCharts:', error);\n",
              "      }\n",
              "      quickchartButtonEl.classList.remove('colab-df-spinner');\n",
              "      quickchartButtonEl.classList.add('colab-df-quickchart-complete');\n",
              "    }\n",
              "    (() => {\n",
              "      let quickchartButtonEl =\n",
              "        document.querySelector('#df-d1bb8c52-dec3-4d57-b73f-516051ac26f0 button');\n",
              "      quickchartButtonEl.style.display =\n",
              "        google.colab.kernel.accessAllowed ? 'block' : 'none';\n",
              "    })();\n",
              "  </script>\n",
              "</div>\n",
              "\n",
              "    </div>\n",
              "  </div>\n"
            ],
            "application/vnd.google.colaboratory.intrinsic+json": {
              "type": "dataframe",
              "summary": "{\n  \"name\": \"dirty\",\n  \"rows\": 8,\n  \"fields\": [\n    {\n      \"column\": \"order_price\",\n      \"properties\": {\n        \"dtype\": \"number\",\n        \"std\": 13150.820358408117,\n        \"min\": 500.0,\n        \"max\": 41340.0,\n        \"num_unique_values\": 8,\n        \"samples\": [\n          13779.71,\n          12450.0,\n          500.0\n        ],\n        \"semantic_type\": \"\",\n        \"description\": \"\"\n      }\n    },\n    {\n      \"column\": \"delivery_charges\",\n      \"properties\": {\n        \"dtype\": \"number\",\n        \"std\": 155.65640553309834,\n        \"min\": 13.906340074589723,\n        \"max\": 500.0,\n        \"num_unique_values\": 8,\n        \"samples\": [\n          75.50572,\n          74.96000000000001,\n          500.0\n        ],\n        \"semantic_type\": \"\",\n        \"description\": \"\"\n      }\n    },\n    {\n      \"column\": \"customer_lat\",\n      \"properties\": {\n        \"dtype\": \"number\",\n        \"std\": 187.8788180904739,\n        \"min\": -37.8298477,\n        \"max\": 500.0,\n        \"num_unique_values\": 8,\n        \"samples\": [\n          -27.942722966,\n          -37.812456350000005,\n          500.0\n        ],\n        \"semantic_type\": \"\",\n        \"description\": \"\"\n      }\n    },\n    {\n      \"column\": \"customer_long\",\n      \"properties\": {\n        \"dtype\": \"number\",\n        \"std\": 155.77563880559643,\n        \"min\": -37.8245633,\n        \"max\": 500.0,\n        \"num_unique_values\": 8,\n        \"samples\": [\n          135.09662565940002,\n          144.96285315,\n          500.0\n        ],\n        \"semantic_type\": \"\",\n        \"description\": \"\"\n      }\n    },\n    {\n      \"column\": \"coupon_discount\",\n      \"properties\": {\n        \"dtype\": \"number\",\n        \"std\": 173.173158504576,\n        \"min\": 0.0,\n        \"max\": 500.0,\n        \"num_unique_values\": 8,\n        \"samples\": [\n          10.82,\n          10.0,\n          500.0\n        ],\n        \"semantic_type\": \"\",\n        \"description\": \"\"\n      }\n    },\n    {\n      \"column\": \"order_total\",\n      \"properties\": {\n        \"dtype\": \"number\",\n        \"std\": 11563.03667778433,\n        \"min\": 500.0,\n        \"max\": 36422.39,\n        \"num_unique_values\": 8,\n        \"samples\": [\n          12261.87948,\n          11066.385,\n          500.0\n        ],\n        \"semantic_type\": \"\",\n        \"description\": \"\"\n      }\n    },\n    {\n      \"column\": \"distance_to_nearest_warehouse\",\n      \"properties\": {\n        \"dtype\": \"number\",\n        \"std\": 176.39286343239087,\n        \"min\": 0.0319,\n        \"max\": 500.0,\n        \"num_unique_values\": 8,\n        \"samples\": [\n          1.0793242,\n          1.0424,\n          500.0\n        ],\n        \"semantic_type\": \"\",\n        \"description\": \"\"\n      }\n    }\n  ]\n}"
            }
          },
          "metadata": {},
          "execution_count": 7
        }
      ]
    },
    {
      "cell_type": "code",
      "source": [
        "dirty.isna().sum()"
      ],
      "metadata": {
        "colab": {
          "base_uri": "https://localhost:8080/",
          "height": 585
        },
        "id": "VNUyYenvwsOl",
        "outputId": "c1f14a1f-819b-49f3-dc39-ae61fa581e4a"
      },
      "execution_count": null,
      "outputs": [
        {
          "output_type": "execute_result",
          "data": {
            "text/plain": [
              "order_id                         0\n",
              "customer_id                      0\n",
              "date                             0\n",
              "nearest_warehouse                0\n",
              "shopping_cart                    0\n",
              "order_price                      0\n",
              "delivery_charges                 0\n",
              "customer_lat                     0\n",
              "customer_long                    0\n",
              "coupon_discount                  0\n",
              "order_total                      0\n",
              "season                           0\n",
              "is_expedited_delivery            0\n",
              "distance_to_nearest_warehouse    0\n",
              "latest_customer_review           1\n",
              "is_happy_customer                0\n",
              "dtype: int64"
            ],
            "text/html": [
              "<div>\n",
              "<style scoped>\n",
              "    .dataframe tbody tr th:only-of-type {\n",
              "        vertical-align: middle;\n",
              "    }\n",
              "\n",
              "    .dataframe tbody tr th {\n",
              "        vertical-align: top;\n",
              "    }\n",
              "\n",
              "    .dataframe thead th {\n",
              "        text-align: right;\n",
              "    }\n",
              "</style>\n",
              "<table border=\"1\" class=\"dataframe\">\n",
              "  <thead>\n",
              "    <tr style=\"text-align: right;\">\n",
              "      <th></th>\n",
              "      <th>0</th>\n",
              "    </tr>\n",
              "  </thead>\n",
              "  <tbody>\n",
              "    <tr>\n",
              "      <th>order_id</th>\n",
              "      <td>0</td>\n",
              "    </tr>\n",
              "    <tr>\n",
              "      <th>customer_id</th>\n",
              "      <td>0</td>\n",
              "    </tr>\n",
              "    <tr>\n",
              "      <th>date</th>\n",
              "      <td>0</td>\n",
              "    </tr>\n",
              "    <tr>\n",
              "      <th>nearest_warehouse</th>\n",
              "      <td>0</td>\n",
              "    </tr>\n",
              "    <tr>\n",
              "      <th>shopping_cart</th>\n",
              "      <td>0</td>\n",
              "    </tr>\n",
              "    <tr>\n",
              "      <th>order_price</th>\n",
              "      <td>0</td>\n",
              "    </tr>\n",
              "    <tr>\n",
              "      <th>delivery_charges</th>\n",
              "      <td>0</td>\n",
              "    </tr>\n",
              "    <tr>\n",
              "      <th>customer_lat</th>\n",
              "      <td>0</td>\n",
              "    </tr>\n",
              "    <tr>\n",
              "      <th>customer_long</th>\n",
              "      <td>0</td>\n",
              "    </tr>\n",
              "    <tr>\n",
              "      <th>coupon_discount</th>\n",
              "      <td>0</td>\n",
              "    </tr>\n",
              "    <tr>\n",
              "      <th>order_total</th>\n",
              "      <td>0</td>\n",
              "    </tr>\n",
              "    <tr>\n",
              "      <th>season</th>\n",
              "      <td>0</td>\n",
              "    </tr>\n",
              "    <tr>\n",
              "      <th>is_expedited_delivery</th>\n",
              "      <td>0</td>\n",
              "    </tr>\n",
              "    <tr>\n",
              "      <th>distance_to_nearest_warehouse</th>\n",
              "      <td>0</td>\n",
              "    </tr>\n",
              "    <tr>\n",
              "      <th>latest_customer_review</th>\n",
              "      <td>1</td>\n",
              "    </tr>\n",
              "    <tr>\n",
              "      <th>is_happy_customer</th>\n",
              "      <td>0</td>\n",
              "    </tr>\n",
              "  </tbody>\n",
              "</table>\n",
              "</div><br><label><b>dtype:</b> int64</label>"
            ]
          },
          "metadata": {},
          "execution_count": 8
        }
      ]
    },
    {
      "source": [
        "import matplotlib.pyplot as plt\n",
        "\n",
        "# Select numeric columns to check for outliers\n",
        "numeric_columns = ['order_price', 'delivery_charges', 'coupon_discount', 'order_total', 'distance_to_nearest_warehouse']\n",
        "\n",
        "# Plot boxplots to visualize outliers for each numeric column\n",
        "plt.figure(figsize=(15, 10))  # Adjust figure size for better visibility\n",
        "for i, column in enumerate(numeric_columns, 1):\n",
        "    plt.subplot(2, 3, i)\n",
        "    plt.boxplot(dirty[column])\n",
        "    plt.title(column)\n",
        "\n",
        "# Adjust layout for neatness\n",
        "plt.tight_layout()\n",
        "plt.show()"
      ],
      "cell_type": "code",
      "metadata": {
        "colab": {
          "base_uri": "https://localhost:8080/",
          "height": 518
        },
        "id": "OW1aqyY5zKND",
        "outputId": "1e58c608-fab0-4b74-8331-a2a03de4f3a9"
      },
      "execution_count": null,
      "outputs": [
        {
          "output_type": "display_data",
          "data": {
            "text/plain": [
              "<Figure size 1500x1000 with 5 Axes>"
            ],
            "image/png": "[encoded data removed]"
          },
          "metadata": {}
        }
      ]
    },
    {
      "cell_type": "markdown",
      "source": [
        "We have now looked at the basic structure of the data."
      ],
      "metadata": {
        "id": "phj_fnfQ8glV"
      }
    },
    {
      "cell_type": "markdown",
      "source": [
        "1. Order price:\n",
        "The median The median order price, which is approximately 15,000, is shown by the orange line in the box. This means that 50% of orders have a price over this amount, and 50% have a price below it.\n",
        "Range of Interquartiles (IQR): The range from the 25th percentile (Q1) to the 75th percentile (Q3) is displayed in the box. In terms of IQR, the middle 50% of the data falls between around 10,000 and 20,000.\n",
        "Whiskers: Within 1.5 times the IQR, the whiskers extend from the box to the lowest and greatest values.\n",
        "Outliers: Order_price values that are abnormally high (over 35,000) are represented by the dots above the whiskers. These anomalies may represent exceptional instances of high-value orders or possible mistakes.\n",
        "2. Delivery fees:\n",
        "Median: Half of the orders have delivery charges less 80, and the other half have delivery prices above 80. The median delivery charge is roughly 80.\n",
        "IQR: The majority of purchases suffer charges in this range, as evidenced by the concentration of delivery fees between 70 and 90.\n",
        "Outliers: A few orders have delivery costs that are abnormally high, which may necessitate more research. These orders are above the 110 mark.\n",
        "3. coupon_discount: Median: The majority of orders receive a discount that is comparable to the median coupon discount, which is approximately 10.\n",
        "IQR: The majority of coupon reductions range from five to fifteen.\n",
        "No Outliers: This box plot displays no outliers, in contrast to the other variables, suggesting a more uniform distribution of coupon discounts throughout the dataset.\n",
        "4. order_total: Median: The median order_total, which displays the average order price, is roughly 10,000.\n",
        "IQR: The bulk of orders fall within this price range, as evidenced by the fact that most order totals fall between 5,000 and 20,000.\n",
        "Outliers: A few outliers with total orders over 30,000 indicate abnormally high numbers. These could be important purchases or unique situations.\n",
        "5. How far is the nearest warehouse?\n",
        "Median: The median distance (perhaps measured in kilometers or another distance unit) to the closest warehouse is approximately 1.0.\n",
        "IQR: The majority of clients are located quite close to the warehouse, as evidenced by the fact that most orders are placed within 0.5 and 1.5 miles from the closest warehouse.\n",
        "Outliers: There are a few outliers above 2.0, suggesting that some orders originate from places further away from the closest warehouse.\n",
        "Overall Findings:\n",
        "Medians: The midway of the data distribution is represented by the orange lines in each plot, which indicate the central tendency (median) for each variable.\n",
        "IQR: The boxes provide information about the typical dispersion of each variable by displaying the interquartile range, which is where the majority of the data is located.\n",
        "\n",
        "Overall Findings:\n",
        "Medians: The midway of the data distribution is represented by the orange lines in each plot, which indicate the central tendency (median) for each variable.\n",
        "IQR: The boxes provide information about the typical dispersion of each variable by displaying the interquartile range, which is where the majority of the data is located.\n",
        "Outliers: The dots show data points that are exceptional or extreme and may need more investigation because they are much outside of the normal range (1.5 times the IQR).\n",
        "By emphasizing the spread, core tendency, and any possible anomalies or outliers, these box plots provide a concise visual representation of the dataset's distribution. To ascertain if outliers reflect true numbers or data errors, more research can be done on them.\n",
        "\n",
        "\n",
        "\n",
        "\n",
        "\n",
        "\n",
        "\n",
        "\n"
      ],
      "metadata": {
        "id": "3R9LqqbJIM-D"
      }
    },
    {
      "cell_type": "code",
      "source": [
        "# Return rows that contain at least one null value\n",
        "rows_with_nulls = dirty[dirty.isnull().any(axis=1)]\n",
        "\n",
        "# Display the rows with null values\n",
        "print(rows_with_nulls)"
      ],
      "metadata": {
        "colab": {
          "base_uri": "https://localhost:8080/"
        },
        "id": "Nqg7Sy2nxUfh",
        "outputId": "659fcc8b-a9ea-4618-a03a-4a9d2db88bf2"
      },
      "execution_count": null,
      "outputs": [
        {
          "output_type": "stream",
          "name": "stdout",
          "text": [
            "    order_id   customer_id        date nearest_warehouse  \\\n",
            "0  ORD057529  ID6167413275  2019-07-26         Nickolson   \n",
            "\n",
            "                           shopping_cart  order_price  delivery_charges  \\\n",
            "0  [('iAssist Line', 2), ('iStream', 2)]         4750             76.46   \n",
            "\n",
            "   customer_lat  customer_long  coupon_discount  order_total  season  \\\n",
            "0    -37.815375     144.959666               10      4351.46  Winter   \n",
            "\n",
            "   is_expedited_delivery  distance_to_nearest_warehouse  \\\n",
            "0                  False                         0.9403   \n",
            "\n",
            "  latest_customer_review  is_happy_customer  \n",
            "0                    NaN               True  \n"
          ]
        }
      ]
    },
    {
      "cell_type": "markdown",
      "source": [
        "Since the only null value here is the actual review and the rest of the columns have valid values we can ignore this."
      ],
      "metadata": {
        "id": "9wKFy5qK0aJY"
      }
    },
    {
      "cell_type": "code",
      "source": [
        "dirty.duplicated().sum()"
      ],
      "metadata": {
        "colab": {
          "base_uri": "https://localhost:8080/"
        },
        "id": "bDdVSvo7Wbwv",
        "outputId": "f552fd80-44f1-43b1-8fa7-c1a1cc6847ba"
      },
      "execution_count": null,
      "outputs": [
        {
          "output_type": "execute_result",
          "data": {
            "text/plain": [
              "0"
            ]
          },
          "metadata": {},
          "execution_count": 11
        }
      ]
    },
    {
      "cell_type": "code",
      "source": [
        "# Function to detect outliers using IQR\n",
        "def detect_outliers_iqr(df, column):\n",
        "    Q1 = df[column].quantile(0.25)\n",
        "    Q3 = df[column].quantile(0.75)\n",
        "    IQR = Q3 - Q1\n",
        "    lower_bound = Q1 - 1.5 * IQR\n",
        "    upper_bound = Q3 + 1.5 * IQR\n",
        "    return df[(df[column] < lower_bound) | (df[column] > upper_bound)]\n",
        "\n",
        "# Detect outliers in each numeric column\n",
        "outliers = {}\n",
        "for column in numeric_columns:\n",
        "    outliers[column] = detect_outliers_iqr(dirty, column)\n",
        "    print(f\"\\nOutliers in {column}:\")\n",
        "    print(outliers[column])"
      ],
      "metadata": {
        "colab": {
          "base_uri": "https://localhost:8080/"
        },
        "id": "OLeUR14pKWgy",
        "outputId": "498de90d-c4d6-4d4d-f0f7-f6cc9d71f990"
      },
      "execution_count": null,
      "outputs": [
        {
          "output_type": "stream",
          "name": "stdout",
          "text": [
            "\n",
            "Outliers in order_price:\n",
            "      order_id   customer_id        date nearest_warehouse  \\\n",
            "91   ORD254410  ID0711331419  2019-04-20          Thompson   \n",
            "360  ORD330030  ID2173290761  2019-06-29         Nickolson   \n",
            "\n",
            "                                         shopping_cart  order_price  \\\n",
            "91   [('Thunder line', 1), ('Toshika 750', 2), ('Al...        41340   \n",
            "360  [('Toshika 750', 2), ('pearTV', 2), ('Alcon 10...        40385   \n",
            "\n",
            "     delivery_charges  customer_lat  customer_long  coupon_discount  \\\n",
            "91              51.76    -37.807219     144.956457               15   \n",
            "360             75.89    -37.822015     144.959772               10   \n",
            "\n",
            "     order_total  season  is_expedited_delivery  \\\n",
            "91      35190.76  Autumn                  False   \n",
            "360     36422.39  Winter                   True   \n",
            "\n",
            "     distance_to_nearest_warehouse  \\\n",
            "91                          1.3721   \n",
            "360                         1.1580   \n",
            "\n",
            "                                latest_customer_review  is_happy_customer  \n",
            "91   did not meet the standard for the cost the pho...              False  \n",
            "360  budget phone but works you can tell that this ...               True  \n",
            "\n",
            "Outliers in delivery_charges:\n",
            "      order_id   customer_id        date nearest_warehouse  \\\n",
            "300  ORD036085  ID0291966940  2019-11-02         Nickolson   \n",
            "324  ORD470877  ID0202690482  2019-11-10          Thompson   \n",
            "\n",
            "                                   shopping_cart  order_price  \\\n",
            "300  [('Candle Inferno', 2), ('Olivia x460', 2)]         3310   \n",
            "324    [('iAssist Line', 2), ('Toshika 750', 2)]        13090   \n",
            "\n",
            "     delivery_charges  customer_lat  customer_long  coupon_discount  \\\n",
            "300            111.21    144.974214     -37.801308               15   \n",
            "324            116.44    -37.804243     144.917167                0   \n",
            "\n",
            "     order_total  season  is_expedited_delivery  \\\n",
            "300      2924.71  Spring                   True   \n",
            "324     13206.44  Spring                   True   \n",
            "\n",
            "     distance_to_nearest_warehouse  \\\n",
            "300                         1.9676   \n",
            "324                         0.5566   \n",
            "\n",
            "                                latest_customer_review  is_happy_customer  \n",
            "300                 the truth this phone is the truth.               True  \n",
            "324  great purchase! after months of using this pho...               True  \n",
            "\n",
            "Outliers in coupon_discount:\n",
            "Empty DataFrame\n",
            "Columns: [order_id, customer_id, date, nearest_warehouse, shopping_cart, order_price, delivery_charges, customer_lat, customer_long, coupon_discount, order_total, season, is_expedited_delivery, distance_to_nearest_warehouse, latest_customer_review, is_happy_customer]\n",
            "Index: []\n",
            "\n",
            "Outliers in order_total:\n",
            "      order_id   customer_id        date nearest_warehouse  \\\n",
            "91   ORD254410  ID0711331419  2019-04-20          Thompson   \n",
            "360  ORD330030  ID2173290761  2019-06-29         Nickolson   \n",
            "390  ORD136689  ID0241807184  2019-05-05            Bakers   \n",
            "\n",
            "                                         shopping_cart  order_price  \\\n",
            "91   [('Thunder line', 1), ('Toshika 750', 2), ('Al...        41340   \n",
            "360  [('Toshika 750', 2), ('pearTV', 2), ('Alcon 10...        40385   \n",
            "390  [('Candle Inferno', 2), ('Alcon 10', 2), ('Tos...        33710   \n",
            "\n",
            "     delivery_charges  customer_lat  customer_long  coupon_discount  \\\n",
            "91              51.76    -37.807219     144.956457               15   \n",
            "360             75.89    -37.822015     144.959772               10   \n",
            "390             68.84    -37.813775     144.982935                0   \n",
            "\n",
            "     order_total  season  is_expedited_delivery  \\\n",
            "91      35190.76  Autumn                  False   \n",
            "360     36422.39  Winter                   True   \n",
            "390     33778.84  Autumn                   True   \n",
            "\n",
            "     distance_to_nearest_warehouse  \\\n",
            "91                          1.3721   \n",
            "360                         1.1580   \n",
            "390                         1.1603   \n",
            "\n",
            "                                latest_customer_review  is_happy_customer  \n",
            "91   did not meet the standard for the cost the pho...              False  \n",
            "360  budget phone but works you can tell that this ...               True  \n",
            "390                lucent z 3 good phone for the price               True  \n",
            "\n",
            "Outliers in distance_to_nearest_warehouse:\n",
            "      order_id   customer_id        date nearest_warehouse  \\\n",
            "50   ORD177234  ID0581700917  2019-07-26            bakers   \n",
            "103  ORD102215  ID0202690479  2019-05-22          Thompson   \n",
            "\n",
            "                                         shopping_cart  order_price  \\\n",
            "50              [('pearTV', 2), ('Candle Inferno', 2)]        13480   \n",
            "103  [('Toshika 750', 1), ('iStream', 1), ('iAssist...         8920   \n",
            "\n",
            "     delivery_charges  customer_lat  customer_long  coupon_discount  \\\n",
            "50              61.41    -37.803561     144.918101                0   \n",
            "103             71.81    144.916632     -37.804447                5   \n",
            "\n",
            "     order_total  season  is_expedited_delivery  \\\n",
            "50      13541.41  Winter                  False   \n",
            "103      8545.81  Autumn                  False   \n",
            "\n",
            "     distance_to_nearest_warehouse  \\\n",
            "50                          2.7422   \n",
            "103                         2.8292   \n",
            "\n",
            "                                latest_customer_review  is_happy_customer  \n",
            "50   this phone doesn't work right i going to send ...              False  \n",
            "103  three stars i'm satisfied with this item - hig...               True  \n"
          ]
        }
      ]
    },
    {
      "cell_type": "markdown",
      "source": [
        "As we can see from the above,below are the anomalies found:\n",
        "- Order price:ORD254410 has price 41,340 but also a poor customer review and ORD330030 of 40,385 where customer mentions the phone is a budget one.The prices which are extremely high compared to the rest do not logically make sense as they have such reviews.\n",
        "- Order ID: ORD136689 has an order total of 33,778.84 which is an anomalously high value.\n",
        "- Delivery Charges: This will be left untouched per specifications.\n",
        "- Warehouse distances: Order ID: ORD177234 and Order ID: ORD102215 both show distances above 2.7, which are unusually high compared to most other entries.\n",
        "\n",
        "We will proceed to investigate them further."
      ],
      "metadata": {
        "id": "gzGtLbl9X1k4"
      }
    },
    {
      "cell_type": "code",
      "source": [
        "# Investigate orders with high 'order_price'\n",
        "high_price_orders = dirty[dirty['order_price'] > 35000]\n",
        "print(\"Orders with high order_price:\")\n",
        "print(high_price_orders[['order_id', 'shopping_cart', 'order_price', 'order_total', 'latest_customer_review']])"
      ],
      "metadata": {
        "colab": {
          "base_uri": "https://localhost:8080/"
        },
        "id": "jdBD_Venb7Cf",
        "outputId": "4599b5ba-fb06-44bf-f972-e3e43890dacb"
      },
      "execution_count": null,
      "outputs": [
        {
          "output_type": "stream",
          "name": "stdout",
          "text": [
            "Orders with high order_price:\n",
            "      order_id                                      shopping_cart  \\\n",
            "91   ORD254410  [('Thunder line', 1), ('Toshika 750', 2), ('Al...   \n",
            "120  ORD422581  [('Thunder line', 2), ('pearTV', 1), ('Univers...   \n",
            "257  ORD371895  [('iAssist Line', 2), ('pearTV', 2), ('Alcon 1...   \n",
            "360  ORD330030  [('Toshika 750', 2), ('pearTV', 2), ('Alcon 10...   \n",
            "\n",
            "     order_price  order_total  \\\n",
            "91         41340     35190.76   \n",
            "120        35470     24171.71   \n",
            "257        36195     30846.08   \n",
            "360        40385     36422.39   \n",
            "\n",
            "                                latest_customer_review  \n",
            "91   did not meet the standard for the cost the pho...  \n",
            "120  well, just to hold on, until i get another one...  \n",
            "257  smooth working android for mid range price goo...  \n",
            "360  budget phone but works you can tell that this ...  \n"
          ]
        }
      ]
    },
    {
      "cell_type": "markdown",
      "source": [
        "We can see that the listed orders are having order prices with extremely excessive cost beyond the normal range."
      ],
      "metadata": {
        "id": "lFsvFGo4cjkf"
      }
    },
    {
      "cell_type": "markdown",
      "source": [
        "<div class=\"alert alert-block alert-warning\">\n",
        "\n",
        "# 1.3.  Columnwise Inspection  <a class=\"anchor\" name=\"inspect\"></a>\n",
        "    \n",
        "</div>"
      ],
      "metadata": {
        "id": "gU2FE-HQ_evy"
      }
    },
    {
      "cell_type": "markdown",
      "source": [
        "<div class=\"alert alert-block alert-info\">\n",
        "    \n",
        "### 1.3.1. Date <a class=\"anchor\" name=\"date\"></a>"
      ],
      "metadata": {
        "id": "V9UDkZtuk2JH"
      }
    },
    {
      "cell_type": "markdown",
      "source": [
        "\n",
        "The process entails verifying that the date column entries adhere to the accepted format of YYYY-MM-DD. A regular expression (regex) that defines the format (^\\d{4}-\\d{2}-\\d{2}$) is used to do this. The regex looks for precisely four year-related digits, a hyphen, two month-related digits, another hyphen, and two day-related digits."
      ],
      "metadata": {
        "id": "dL2RjkeSeMxQ"
      }
    },
    {
      "cell_type": "markdown",
      "source": [
        "Every row in the date column is compared with this pattern using the str.match() function. Rows that don't fit the pattern are filtered away since they are thought to have erroneous date formats. After that, these rows are shown for additional examination, with an emphasis on the order_id and date columns to draw attention to the particular entries with incorrect dates."
      ],
      "metadata": {
        "id": "QFnHWjAhep-O"
      }
    },
    {
      "cell_type": "code",
      "source": [
        "# Check for rows where the 'date' column does not follow the YYYY-MM-DD format\n",
        "# Define a regex pattern for the correct date format (YYYY-MM-DD)\n",
        "correct_date_format = r'^\\d{4}-\\d{2}-\\d{2}$'\n",
        "\n",
        "# Filter rows where the date does not match the pattern\n",
        "invalid_dates = dirty[~dirty['date'].str.match(correct_date_format)]\n",
        "\n",
        "# Display the invalid date entries\n",
        "print(\"Entries with invalid date formats:\")\n",
        "print(invalid_dates[['order_id', 'date']])"
      ],
      "metadata": {
        "colab": {
          "base_uri": "https://localhost:8080/"
        },
        "id": "f1wHjCALgyOS",
        "outputId": "49b456ff-1a8f-4d39-c735-6bb133744154"
      },
      "execution_count": null,
      "outputs": [
        {
          "output_type": "stream",
          "name": "stdout",
          "text": [
            "Entries with invalid date formats:\n",
            "      order_id        date\n",
            "48   ORD455432  07-01-2019\n",
            "80   ORD427881  02-02-2019\n",
            "82   ORD054520  03-06-2019\n",
            "121  ORD267714  01-09-2019\n",
            "125  ORD151504  06-08-2019\n",
            "167  ORD272271  12-05-2019\n",
            "169  ORD263501  12-07-2019\n",
            "188  ORD176361  05-08-2019\n",
            "197  ORD341244  08-05-2019\n",
            "283  ORD138306  07-08-2019\n",
            "344  ORD315851  04-05-2019\n"
          ]
        }
      ]
    },
    {
      "cell_type": "markdown",
      "source": [
        "As we can see the above entries don't follow the YYYY-MM-DD format."
      ],
      "metadata": {
        "id": "U6x2SJ9ng6Yo"
      }
    },
    {
      "cell_type": "markdown",
      "source": [
        "<div class=\"alert alert-block alert-info\">\n",
        "    \n",
        "### 1.3.2. Geographical Coordinates <a class=\"anchor\" name=\"cood\"></a>"
      ],
      "metadata": {
        "id": "X8i-5NPMk32y"
      }
    },
    {
      "cell_type": "markdown",
      "source": [
        "Finding and displaying rows in a dataset where the geographic coordinates (latitude and longitude) fall outside of the acceptable ranges is the goal of the code. The ideal range for latitude and longitude is -90 to 90 and -180 to 180, respectively.\n",
        "\n",
        "In order to determine whether any rows have latitude values less than -90 or more than 90 or longitude values less than -180 or greater than 180, the DataFrame is filtered. Any row that satisfies these requirements is deemed invalid. A new DataFrame named invalid_coordinates contains the rows that include invalid values.\n",
        "\n",
        "Lastly, it highlights the problematic items in the dataset by printing the order_id and the invalid customer_lat and customer_long values. This makes it simple to find and fix inaccurate geographic information.\n"
      ],
      "metadata": {
        "id": "D3yqqXXQpHDE"
      }
    },
    {
      "cell_type": "code",
      "source": [
        "# Check if customer_lat and customer_long fall within the valid range\n",
        "invalid_coordinates = dirty[\n",
        "    (dirty['customer_lat'] < -90) | (dirty['customer_lat'] > 90) |\n",
        "    (dirty['customer_long'] < -180) | (dirty['customer_long'] > 180)\n",
        "]\n",
        "\n",
        "# Display invalid latitude and longitude values\n",
        "print(\"Invalid latitude and longitude values:\")\n",
        "print(invalid_coordinates[['order_id', 'customer_lat', 'customer_long']])"
      ],
      "metadata": {
        "colab": {
          "base_uri": "https://localhost:8080/"
        },
        "id": "aSpEGtRfI6AZ",
        "outputId": "be9974a7-8629-43d4-cb16-eebd6d828a3e"
      },
      "execution_count": null,
      "outputs": [
        {
          "output_type": "stream",
          "name": "stdout",
          "text": [
            "Invalid latitude and longitude values:\n",
            "      order_id  customer_lat  customer_long\n",
            "12   ORD207648    145.013822     -37.817391\n",
            "28   ORD472705    144.987945     -37.803847\n",
            "40   ORD277891    144.958423     -37.824236\n",
            "51   ORD143604    144.932503     -37.806447\n",
            "70   ORD258300    144.938288     -37.812403\n",
            "103  ORD102215    144.916632     -37.804447\n",
            "105  ORD372234    144.976817     -37.817438\n",
            "117  ORD165141    144.958154     -37.812834\n",
            "127  ORD031135    145.013780     -37.805976\n",
            "189  ORD334471    144.949569     -37.807237\n",
            "192  ORD491789    144.954850     -37.814358\n",
            "200  ORD269826    144.982912     -37.824563\n",
            "234  ORD233484    144.935926     -37.810251\n",
            "236  ORD480007    144.961860     -37.811229\n",
            "242  ORD417119    144.984554     -37.805127\n",
            "285  ORD319763    144.956650     -37.818235\n",
            "291  ORD277613    144.989129     -37.799080\n",
            "300  ORD036085    144.974214     -37.801308\n",
            "308  ORD226236    144.981560     -37.820207\n",
            "405  ORD168492    144.961897     -37.820758\n",
            "433  ORD103091    144.960593     -37.821889\n",
            "437  ORD131395    144.953611     -37.812410\n",
            "454  ORD425519    144.960926     -37.822571\n",
            "455  ORD386615    145.007359     -37.811237\n",
            "466  ORD125488    144.968570     -37.809168\n",
            "483  ORD298079    144.974274     -37.818725\n",
            "498  ORD353265    144.950728     -37.807293\n"
          ]
        }
      ]
    },
    {
      "cell_type": "markdown",
      "source": [
        "<div class=\"alert alert-block alert-info\">\n",
        "    \n",
        "### 1.3.3. Warehouse Names <a class=\"anchor\" name=\"warehouse\"></a>"
      ],
      "metadata": {
        "id": "0Hur67G9KYNm"
      }
    },
    {
      "cell_type": "markdown",
      "source": [
        "To provide uniformity when counting unique values, this code normalizes the capitalization of warehouse names in the nearest_warehouse column. This is accomplished by saving the normalized values in a new column called nearest_warehouse_normalized and transforming all of the elements in the nearest_warehouse column to lowercase. Following normalization, variations in capitalization are ignored for counting the number of unique warehouse names.\n",
        "\n",
        "In order to compare the identical warehouse names with varying capitalizations, the original names are then grouped by their normalized variants. Lastly, the code shows the original names with their different capitalizations grouped under each normalized name and prints the number of distinct warehouse names. This makes it easier to spot capitalization errors in different warehouse names."
      ],
      "metadata": {
        "id": "wlKlA-6Iqzw7"
      }
    },
    {
      "cell_type": "code",
      "source": [
        "# First, convert all values in 'nearest_warehouse' column to lowercase to normalize the capitalization\n",
        "dirty['nearest_warehouse_normalized'] = dirty['nearest_warehouse'].str.lower()\n",
        "\n",
        "# Now, count the unique warehouse names after normalization\n",
        "unique_warehouses = dirty['nearest_warehouse_normalized'].nunique()\n",
        "\n",
        "# Get the original unique names and their normalized counterparts\n",
        "warehouse_counts = dirty.groupby('nearest_warehouse_normalized')['nearest_warehouse'].unique()\n",
        "\n",
        "# Display the result\n",
        "print(f\"Number of unique warehouse names (ignoring capitalization): {unique_warehouses}\")\n",
        "print(\"Warehouse names with different capitalizations grouped together:\")\n",
        "print(warehouse_counts)"
      ],
      "metadata": {
        "colab": {
          "base_uri": "https://localhost:8080/"
        },
        "id": "1WV_oYSuKbce",
        "outputId": "5f3c5aad-0440-4cb2-f554-952ccc805da3"
      },
      "execution_count": null,
      "outputs": [
        {
          "output_type": "stream",
          "name": "stdout",
          "text": [
            "Number of unique warehouse names (ignoring capitalization): 3\n",
            "Warehouse names with different capitalizations grouped together:\n",
            "nearest_warehouse_normalized\n",
            "bakers             [Bakers, bakers]\n",
            "nickolson    [Nickolson, nickolson]\n",
            "thompson       [Thompson, thompson]\n",
            "Name: nearest_warehouse, dtype: object\n"
          ]
        }
      ]
    },
    {
      "cell_type": "markdown",
      "source": [
        "<div class=\"alert alert-block alert-info\">\n",
        "    \n",
        "### 1.3.4. Shopping Cart <a class=\"anchor\" name=\"cart\"></a>"
      ],
      "metadata": {
        "id": "6dplnsoRNGdO"
      }
    },
    {
      "cell_type": "markdown",
      "source": [
        "This function performs multiple checks on the shopping_cart field to ensure data quality. Each part performs the following functions:\n",
        "\n",
        "* **Search for null or missing values:** It filters the rows in the shopping_cart column that have null or missing values, indicating that no information about the shopping cart for that order was provided. These rows are identified and shown using their order_id.\n",
        "\n",
        " Look for shopping carts that are empty or improperly formatted. It looks for entries with an empty string or incorrect formatting (such as an empty list) in the shopping_cart column. In these instances, the shopping cart field was filled out but contained invalid data, which is noted and shown.\n",
        "\n",
        "* **Search for Invalid Quantities (Negative or Zero):** The code retrieves the item quantities from the shopping_cart column and determines whether any of them are zero or negative using regular expressions. The rows with invalid quantities are indicated and shown.\n",
        "\n",
        "* **Verify the Shopping Cart Structure for Inconsistencies:** This phase looks for rows with irregular shopping cart formatting, such as those without commas or brackets. The impacted rows are shown, and these discrepancies may be a sign of incorrect data entry.\n",
        "\n",
        "* **Check for Duplicate Items in the Same Cart:** By extracting product names or IDs and determining whether any of them occur more than once, the code looks for duplicate items in the same shopping cart. Duplicate product rows in the shopping basket are highlighted and shown.\n",
        "\n",
        "Every one of these procedures guarantees that the information in the shopping_cart column is accurate, clear, and devoid of mistakes like duplicate entries, incorrect formatting, missing values, and invalid numbers.\n",
        "\n"
      ],
      "metadata": {
        "id": "-5SepIu9rvQ_"
      }
    },
    {
      "cell_type": "code",
      "source": [
        "# Check for null or missing values in the 'shopping_cart' column\n",
        "null_shopping_cart = dirty[dirty['shopping_cart'].isnull()]\n",
        "print(\"Rows with missing or null shopping cart values:\")\n",
        "print(null_shopping_cart[['order_id', 'shopping_cart']])\n",
        "\n",
        "# Check for empty or improperly formatted shopping carts (e.g., empty strings or invalid lists)\n",
        "empty_shopping_cart = dirty[dirty['shopping_cart'].str.strip() == '']\n",
        "print(\"Rows with empty shopping carts:\")\n",
        "print(empty_shopping_cart[['order_id', 'shopping_cart']])\n",
        "\n",
        "# Look for invalid quantities (negative or zero) by extracting quantities from the shopping cart\n",
        "import re\n",
        "\n",
        "def find_invalid_quantities(cart):\n",
        "    # Regular expression to match quantities (e.g., number of items)\n",
        "    quantities = re.findall(r'\\d+', str(cart))\n",
        "    return any(int(q) <= 0 for q in quantities)\n",
        "\n",
        "invalid_quantities = dirty[dirty['shopping_cart'].apply(find_invalid_quantities)]\n",
        "print(\"Rows with invalid (negative or zero) quantities in shopping cart:\")\n",
        "print(invalid_quantities[['order_id', 'shopping_cart']])\n",
        "\n",
        "# Check for inconsistencies in the structure by looking for special characters or incorrect formats\n",
        "invalid_format_cart = dirty[~dirty['shopping_cart'].str.contains(r'[\\[\\],]', regex=True)]\n",
        "print(\"Rows with inconsistent or invalid formats in the shopping cart column:\")\n",
        "print(invalid_format_cart[['order_id', 'shopping_cart']])\n",
        "\n",
        "# Check for duplicate products within the same cart by splitting and finding duplicates\n",
        "def check_for_duplicates(cart):\n",
        "    products = re.findall(r'\\w+', str(cart))  # Extract product names/IDs\n",
        "    return len(products) != len(set(products))  # Check for duplicates\n",
        "\n",
        "duplicate_products_cart = dirty[dirty['shopping_cart'].apply(check_for_duplicates)]\n",
        "print(\"Rows with duplicate products in shopping cart:\")\n",
        "print(duplicate_products_cart[['order_id', 'shopping_cart']])"
      ],
      "metadata": {
        "colab": {
          "base_uri": "https://localhost:8080/"
        },
        "id": "ox0xUnN2NIWi",
        "outputId": "463f6c0d-5ee4-42a9-d038-f14f93bc907a"
      },
      "execution_count": null,
      "outputs": [
        {
          "output_type": "stream",
          "name": "stdout",
          "text": [
            "Rows with missing or null shopping cart values:\n",
            "Empty DataFrame\n",
            "Columns: [order_id, shopping_cart]\n",
            "Index: []\n",
            "Rows with empty shopping carts:\n",
            "Empty DataFrame\n",
            "Columns: [order_id, shopping_cart]\n",
            "Index: []\n",
            "Rows with invalid (negative or zero) quantities in shopping cart:\n",
            "Empty DataFrame\n",
            "Columns: [order_id, shopping_cart]\n",
            "Index: []\n",
            "Rows with inconsistent or invalid formats in the shopping cart column:\n",
            "Empty DataFrame\n",
            "Columns: [order_id, shopping_cart]\n",
            "Index: []\n",
            "Rows with duplicate products in shopping cart:\n",
            "      order_id                                      shopping_cart\n",
            "0    ORD057529              [('iAssist Line', 2), ('iStream', 2)]\n",
            "1    ORD182030  [('Olivia x460', 2), ('iStream', 1), ('Thunder...\n",
            "2    ORD386119               [('Toshika 750', 2), ('iStream', 2)]\n",
            "3    ORD488733  [('Lucent 330S', 2), ('iStream', 2), ('Alcon 1...\n",
            "5    ORD320331  [('Lucent 330S', 2), ('iStream', 1), ('iAssist...\n",
            "..         ...                                                ...\n",
            "494  ORD440539   [('iStream', 2), ('Alcon 10', 2), ('pearTV', 1)]\n",
            "495  ORD332197  [('iStream', 1), ('Alcon 10', 2), ('Lucent 330...\n",
            "496  ORD300278               [('iStream', 1), ('Olivia x460', 1)]\n",
            "497  ORD421261  [('Olivia x460', 1), ('pearTV', 1), ('iStream'...\n",
            "499  ORD327057  [('Lucent 330S', 2), ('Olivia x460', 1), ('iSt...\n",
            "\n",
            "[415 rows x 2 columns]\n"
          ]
        }
      ]
    },
    {
      "cell_type": "markdown",
      "source": [
        "In the above we have looked for:\n",
        "- Missing or Null Shopping Cart Values: None are there.\n",
        "- Empty Carts: ALso not there\n",
        "- Invalide quantities like negatives/zero: Not there\n",
        "- Invalid/ Inconsistent formats: Not there\n",
        "- Duplicate Products in the same cart: Exist so we have to combine duplicates and consolidate for same product."
      ],
      "metadata": {
        "id": "tyr8JQHsNle1"
      }
    },
    {
      "cell_type": "markdown",
      "source": [
        "<div class=\"alert alert-block alert-info\">\n",
        "    \n",
        "### 1.3.5. Order Price <a class=\"anchor\" name=\"price\"></a>"
      ],
      "metadata": {
        "id": "-ZJxowmvOpVj"
      }
    },
    {
      "cell_type": "markdown",
      "source": [
        "Check for Missing or Null Values: The code searches the dataset for rows that have null or missing values in the order_price column. For certain orders, these missing values can represent insufficient data. The rows with missing order_price are filtered and displayed, along with the matching order_id and order_price.\n",
        "\n",
        "\n",
        "Check for Non-Numeric Values: This function determines if the order_price column contains any non-numeric values. Numerical operations may encounter issues with non-numeric values. After identifying the rows with non-numeric values and applying a function to force them to NaN, the code shows the rows along with their order_id and order_price.\n",
        "\n",
        "Order_price to Numeric: Any invalid or non-numeric items are immediately forced to NaN when the order_price column is converted to numeric values. This guarantees that every entry in the column is either null or numeric. Standardizing the data for subsequent analysis is aided by this stage.\n",
        "\n",
        "Check for Negative Order Prices: The code finds any rows where the order_price is negative after making sure that the order_price column only contains numeric values. Errors in data entry may be indicated by negative order prices; these rows are marked and shown.\n",
        "\n",
        "Verify Zero Order Prices: The code determines whether any rows have an order_price that is precisely zero. These rows are likewise noted and shown, and an order price of zero may be a mistake or unusual case.\n",
        "\n",
        "In conclusion, the code checks for missing, non-numeric, negative, and zero values, handles any discrepancies, and converts the column to numeric format for additional analysis in order to guarantee the authenticity of the order_price field.\n",
        "\n"
      ],
      "metadata": {
        "id": "HMIugjtl5Jpg"
      }
    },
    {
      "cell_type": "code",
      "source": [
        "# Check for missing or null values in the 'order_price' column\n",
        "missing_order_price = dirty[dirty['order_price'].isnull()]\n",
        "print(\"Rows with missing or null order price values:\")\n",
        "print(missing_order_price[['order_id', 'order_price']])\n",
        "\n",
        "# Check for non-numeric values in the 'order_price' column (if any non-numeric values exist)\n",
        "non_numeric_order_price = dirty[~dirty['order_price'].apply(lambda x: pd.to_numeric(x, errors='coerce')).notna()]\n",
        "print(\"Rows with non-numeric order price values:\")\n",
        "print(non_numeric_order_price[['order_id', 'order_price']])\n",
        "\n",
        "# Convert 'order_price' column to numeric (this will handle any potential non-numeric entries)\n",
        "dirty['order_price'] = pd.to_numeric(dirty['order_price'], errors='coerce')\n",
        "\n",
        "# Check for negative order prices\n",
        "negative_order_price = dirty[dirty['order_price'] < 0]\n",
        "print(\"Rows with negative order price values:\")\n",
        "print(negative_order_price[['order_id', 'order_price']])\n",
        "\n",
        "# Check for zero order prices\n",
        "zero_order_price = dirty[dirty['order_price'] == 0]\n",
        "print(\"Rows with zero order price values:\")\n",
        "print(zero_order_price[['order_id', 'order_price']])\n"
      ],
      "metadata": {
        "colab": {
          "base_uri": "https://localhost:8080/"
        },
        "id": "Snf99Qt3OrBA",
        "outputId": "b8639cb3-949d-4e6c-84e4-87d7f4a3f948"
      },
      "execution_count": null,
      "outputs": [
        {
          "output_type": "stream",
          "name": "stdout",
          "text": [
            "Rows with missing or null order price values:\n",
            "Empty DataFrame\n",
            "Columns: [order_id, order_price]\n",
            "Index: []\n",
            "Rows with non-numeric order price values:\n",
            "Empty DataFrame\n",
            "Columns: [order_id, order_price]\n",
            "Index: []\n",
            "Rows with negative order price values:\n",
            "Empty DataFrame\n",
            "Columns: [order_id, order_price]\n",
            "Index: []\n",
            "Rows with zero order price values:\n",
            "Empty DataFrame\n",
            "Columns: [order_id, order_price]\n",
            "Index: []\n"
          ]
        }
      ]
    },
    {
      "cell_type": "markdown",
      "source": [
        "I will further investigate this by computing unit price and then further compute order_total"
      ],
      "metadata": {
        "id": "oMsPOI7Rvu9g"
      }
    },
    {
      "cell_type": "markdown",
      "source": [
        "<div class=\"alert alert-block alert-info\">\n",
        "    \n",
        "### 1.3.6. is_expedited_delivery <a class=\"anchor\" name=\"expedite\"></a>"
      ],
      "metadata": {
        "id": "u8_8JQkbzv7b"
      }
    },
    {
      "cell_type": "code",
      "source": [
        "import pandas as pd\n",
        "import ast\n",
        "from collections import defaultdict\n",
        "\n",
        "# Step 1: Check for unexpected values in the 'is_expedited_delivery' column\n",
        "# We expect this column to contain only boolean values (True or False)\n",
        "anomalies_expedited = dirty[~dirty['is_expedited_delivery'].isin([True, False])]\n",
        "\n",
        "# Display any anomalies found\n",
        "print(\"Rows with anomalies in 'is_expedited_delivery':\")\n",
        "print(anomalies_expedited[['order_id', 'is_expedited_delivery']])\n",
        "\n",
        "# Step 2: Check for patterns where 'is_expedited_delivery' doesn't align with other columns\n",
        "# For example, if expedited delivery has unusually low delivery charges\n",
        "anomalous_patterns = dirty[(dirty['is_expedited_delivery'] == True) & (dirty['delivery_charges'] < 50)]\n",
        "\n",
        "# Display rows with potential anomalous patterns\n",
        "print(\"\\nRows where expedited delivery has unusually low delivery charges:\")\n",
        "print(anomalous_patterns[['order_id', 'is_expedited_delivery', 'delivery_charges']])"
      ],
      "metadata": {
        "colab": {
          "base_uri": "https://localhost:8080/"
        },
        "id": "9Coxx_EKz0rm",
        "outputId": "526f7131-15f7-4499-9a63-6db92c8c53a6"
      },
      "execution_count": null,
      "outputs": [
        {
          "output_type": "stream",
          "name": "stdout",
          "text": [
            "Rows with anomalies in 'is_expedited_delivery':\n",
            "Empty DataFrame\n",
            "Columns: [order_id, is_expedited_delivery]\n",
            "Index: []\n",
            "\n",
            "Rows where expedited delivery has unusually low delivery charges:\n",
            "      order_id  is_expedited_delivery  delivery_charges\n",
            "295  ORD048889                   True             48.72\n",
            "392  ORD041956                   True             49.89\n"
          ]
        }
      ]
    },
    {
      "cell_type": "markdown",
      "source": [
        "We can further investigate this by doing sentiment analysis and crosschecking what the customer feels."
      ],
      "metadata": {
        "id": "PvI4cUTb0Kbx"
      }
    },
    {
      "cell_type": "code",
      "source": [
        "# Investigate orders with long distances to the nearest warehouse\n",
        "high_distance_orders = dirty[dirty['distance_to_nearest_warehouse'] > 2.5]\n",
        "print(\"Orders with long distance to nearest warehouse:\")\n",
        "print(high_distance_orders[['order_id', 'distance_to_nearest_warehouse', 'customer_lat', 'customer_long', 'latest_customer_review']])"
      ],
      "metadata": {
        "colab": {
          "base_uri": "https://localhost:8080/"
        },
        "id": "VDHnEO6teIVw",
        "outputId": "487e4ad7-b569-4400-9f96-224e8982c531"
      },
      "execution_count": null,
      "outputs": [
        {
          "output_type": "stream",
          "name": "stdout",
          "text": [
            "Orders with long distance to nearest warehouse:\n",
            "      order_id  distance_to_nearest_warehouse  customer_lat  customer_long  \\\n",
            "50   ORD177234                         2.7422    -37.803561     144.918101   \n",
            "103  ORD102215                         2.8292    144.916632     -37.804447   \n",
            "\n",
            "                                latest_customer_review  \n",
            "50   this phone doesn't work right i going to send ...  \n",
            "103  three stars i'm satisfied with this item - hig...  \n"
          ]
        }
      ]
    },
    {
      "cell_type": "markdown",
      "source": [
        "<div class=\"alert alert-block alert-info\">\n",
        "    \n",
        "### 1.3.7. Season <a class=\"anchor\" name=\"season\"></a>"
      ],
      "metadata": {
        "id": "GPtGVV_dUYIq"
      }
    },
    {
      "cell_type": "code",
      "source": [
        "# Check for unique values in the 'season' column\n",
        "unique_seasons = dirty['season'].unique()\n",
        "print(\"Unique values in the 'season' column:\")\n",
        "print(unique_seasons)\n",
        "\n",
        "# Normalize capitalization to check for inconsistent casing\n",
        "dirty['season_normalized'] = dirty['season'].str.lower()\n",
        "\n",
        "# Check for invalid seasons (anything not in the list of expected values)\n",
        "expected_seasons = ['summer', 'winter', 'spring', 'autumn']\n",
        "invalid_seasons = dirty[~dirty['season_normalized'].isin(expected_seasons)]\n",
        "print(\"\\nRows with invalid or unrecognized seasons:\")\n",
        "print(invalid_seasons[['order_id', 'season']])\n",
        "\n",
        "# Check for missing or null values\n",
        "missing_seasons = dirty[dirty['season'].isnull()]\n",
        "print(\"\\nRows with missing or null season values:\")\n",
        "print(missing_seasons[['order_id', 'season']])\n",
        "\n",
        "# Check for abbreviations (you can add any that you expect to be common)\n",
        "abbreviations = dirty[dirty['season_normalized'].str.len() <= 3]\n",
        "print(\"\\nRows with potential abbreviations in the season column:\")\n",
        "print(abbreviations[['order_id', 'season']])"
      ],
      "metadata": {
        "colab": {
          "base_uri": "https://localhost:8080/"
        },
        "id": "6zRLk1DJUbrB",
        "outputId": "fc066777-c036-4658-d52c-a799d7b17334"
      },
      "execution_count": null,
      "outputs": [
        {
          "output_type": "stream",
          "name": "stdout",
          "text": [
            "Unique values in the 'season' column:\n",
            "['Winter' 'Spring' 'summer' 'Summer' 'Autumn' 'winter' 'autumn' 'spring']\n",
            "\n",
            "Rows with invalid or unrecognized seasons:\n",
            "Empty DataFrame\n",
            "Columns: [order_id, season]\n",
            "Index: []\n",
            "\n",
            "Rows with missing or null season values:\n",
            "Empty DataFrame\n",
            "Columns: [order_id, season]\n",
            "Index: []\n",
            "\n",
            "Rows with potential abbreviations in the season column:\n",
            "Empty DataFrame\n",
            "Columns: [order_id, season]\n",
            "Index: []\n"
          ]
        }
      ]
    },
    {
      "cell_type": "markdown",
      "source": [
        "<div class=\"alert alert-block alert-info\">\n",
        "    \n",
        "### 1.3.8. Order Total <a class=\"anchor\" name=\"total\"></a>"
      ],
      "metadata": {
        "id": "CZQgbk5ab95a"
      }
    },
    {
      "cell_type": "code",
      "source": [
        "# Check for missing or null values in the 'order_total' column\n",
        "missing_order_total = dirty[dirty['order_total'].isnull()]\n",
        "print(\"Rows with missing or null order total values:\")\n",
        "print(missing_order_total[['order_id', 'order_total']])\n",
        "\n",
        "# Check for non-numeric values in the 'order_total' column (if any non-numeric values exist)\n",
        "non_numeric_order_total = dirty[~dirty['order_total'].apply(lambda x: pd.to_numeric(x, errors='coerce')).notna()]\n",
        "print(\"Rows with non-numeric order total values:\")\n",
        "print(non_numeric_order_total[['order_id', 'order_total']])\n",
        "\n",
        "# Convert 'order_total' column to numeric (this will handle any potential non-numeric entries)\n",
        "dirty['order_total'] = pd.to_numeric(dirty['order_total'], errors='coerce')\n",
        "\n",
        "# Check for negative order totals\n",
        "negative_order_total = dirty[dirty['order_total'] < 0]\n",
        "print(\"Rows with negative order total values:\")\n",
        "print(negative_order_total[['order_id', 'order_total']])\n",
        "\n",
        "# Check for zero order totals\n",
        "zero_order_total = dirty[dirty['order_total'] == 0]\n",
        "print(\"Rows with zero order total values:\")\n",
        "print(zero_order_total[['order_id', 'order_total']])"
      ],
      "metadata": {
        "colab": {
          "base_uri": "https://localhost:8080/"
        },
        "id": "ZrnpnzwWb_3H",
        "outputId": "6c426094-7481-4fc2-8ec7-15a773814fc6"
      },
      "execution_count": null,
      "outputs": [
        {
          "output_type": "stream",
          "name": "stdout",
          "text": [
            "Rows with missing or null order total values:\n",
            "Empty DataFrame\n",
            "Columns: [order_id, order_total]\n",
            "Index: []\n",
            "Rows with non-numeric order total values:\n",
            "Empty DataFrame\n",
            "Columns: [order_id, order_total]\n",
            "Index: []\n",
            "Rows with negative order total values:\n",
            "Empty DataFrame\n",
            "Columns: [order_id, order_total]\n",
            "Index: []\n",
            "Rows with zero order total values:\n",
            "Empty DataFrame\n",
            "Columns: [order_id, order_total]\n",
            "Index: []\n"
          ]
        }
      ]
    },
    {
      "cell_type": "markdown",
      "source": [
        "<div class=\"alert alert-block alert-info\">\n",
        "    \n",
        "# 2. Corrections <a class=\"anchor\" name=\"correction\"></a>"
      ],
      "metadata": {
        "id": "uMFK5RTvhDa8"
      }
    },
    {
      "cell_type": "markdown",
      "source": [
        "<div class=\"alert alert-block alert-info\">\n",
        "    \n",
        "### 2.1 Date <a class=\"anchor\" name=\"date2\"></a>"
      ],
      "metadata": {
        "id": "tal_kNbbJmrw"
      }
    },
    {
      "cell_type": "code",
      "source": [
        "\n",
        "# Try to convert the 'date' column to the correct datetime format\n",
        "dirty['corrected_date'] = pd.to_datetime(dirty['date'], errors='coerce', format='%Y-%m-%d')\n",
        "\n",
        "# Check if there are still any invalid dates (rows where conversion failed)\n",
        "invalid_dates_after_conversion = dirty[dirty['corrected_date'].isna()]\n",
        "\n",
        "# Display the rows with invalid dates after conversion\n",
        "print(\"Invalid dates after conversion:\")\n",
        "print(invalid_dates_after_conversion[['order_id', 'date']])\n",
        "\n",
        "# Replace original 'date' column with corrected dates\n",
        "dirty['date'] = dirty['corrected_date']\n",
        "\n",
        "# Drop the 'corrected_date' temporary column\n",
        "dirty.drop(columns=['corrected_date'], inplace=True)\n"
      ],
      "metadata": {
        "colab": {
          "base_uri": "https://localhost:8080/"
        },
        "id": "HyEAELcohFfE",
        "outputId": "5a9a8983-4c32-448f-a58c-62291d4a0614"
      },
      "execution_count": null,
      "outputs": [
        {
          "output_type": "stream",
          "name": "stdout",
          "text": [
            "Invalid dates after conversion:\n",
            "      order_id        date\n",
            "8    ORD346000  2019-22-12\n",
            "17   ORD060218  2019-21-02\n",
            "48   ORD455432  07-01-2019\n",
            "80   ORD427881  02-02-2019\n",
            "81   ORD449762  2019-31-12\n",
            "82   ORD054520  03-06-2019\n",
            "90   ORD255221  2019-25-07\n",
            "121  ORD267714  01-09-2019\n",
            "125  ORD151504  06-08-2019\n",
            "163  ORD253351  2019-20-05\n",
            "167  ORD272271  12-05-2019\n",
            "169  ORD263501  12-07-2019\n",
            "188  ORD176361  05-08-2019\n",
            "194  ORD401619  2019-25-07\n",
            "197  ORD341244  08-05-2019\n",
            "214  ORD077550  2019-19-04\n",
            "225  ORD339649  2019-16-08\n",
            "245  ORD074084  2019-16-03\n",
            "258  ORD153842  2019-30-12\n",
            "281  ORD109885  2019-23-06\n",
            "282  ORD267542  2019-13-06\n",
            "283  ORD138306  07-08-2019\n",
            "321  ORD090777  2019-24-01\n",
            "344  ORD315851  04-05-2019\n",
            "383  ORD055519  2019-26-11\n",
            "450  ORD497010  2019-13-11\n",
            "472  ORD370737  2019-29-01\n"
          ]
        }
      ]
    },
    {
      "cell_type": "markdown",
      "source": [
        "<div class=\"alert alert-block alert-info\">\n",
        "    \n",
        "### 2.2. Coordinates <a class=\"anchor\" name=\"cood2\"></a>"
      ],
      "metadata": {
        "id": "DpToj_1ZJojx"
      }
    },
    {
      "cell_type": "code",
      "source": [
        "# Define a function to swap latitude and longitude\n",
        "def swap_lat_long(row):\n",
        "    if ((row['customer_lat'] < -90 or row['customer_lat'] > 90) and\n",
        "        (row['customer_long'] >= -90 and row['customer_long'] <= 90)):\n",
        "        # If latitude is out of range but longitude is in the valid range, swap them\n",
        "        return row['customer_long'], row['customer_lat']\n",
        "    else:\n",
        "        # Otherwise, keep them as is\n",
        "        return row['customer_lat'], row['customer_long']\n",
        "\n",
        "# Apply the function to swap the coordinates where necessary\n",
        "dirty[['customer_lat', 'customer_long']] = dirty.apply(\n",
        "    lambda row: pd.Series(swap_lat_long(row)), axis=1\n",
        ")\n",
        "\n",
        "# Display the corrected values to ensure the swap has been applied\n",
        "print(\"Corrected latitude and longitude values where needed:\")\n",
        "print(dirty[['order_id', 'customer_lat', 'customer_long']].head())\n"
      ],
      "metadata": {
        "colab": {
          "base_uri": "https://localhost:8080/"
        },
        "id": "RCZL4cyKJr0b",
        "outputId": "1cbb7f69-c11e-45e9-8f68-4ec7d9c65db7"
      },
      "execution_count": null,
      "outputs": [
        {
          "output_type": "stream",
          "name": "stdout",
          "text": [
            "Corrected latitude and longitude values where needed:\n",
            "    order_id  customer_lat  customer_long\n",
            "0  ORD057529    -37.815375     144.959666\n",
            "1  ORD182030    -37.804926     144.969378\n",
            "2  ORD386119    -37.814882     144.954931\n",
            "3  ORD488733    -37.811022     144.950512\n",
            "4  ORD131365    -37.810645     144.975660\n"
          ]
        }
      ]
    },
    {
      "cell_type": "markdown",
      "source": [
        "<div class=\"alert alert-block alert-info\">\n",
        "    \n",
        "### 2.3. Season <a class=\"anchor\" name=\"season2\"></a>"
      ],
      "metadata": {
        "id": "XOpJqbEOVBO6"
      }
    },
    {
      "cell_type": "code",
      "source": [
        "# Normalize the season names by capitalizing the first letter of each season\n",
        "dirty['season'] = dirty['season'].str.capitalize()\n",
        "\n",
        "# Check the unique values again to ensure consistency\n",
        "unique_seasons_after_fix = dirty['season'].unique()\n",
        "print(\"Unique values in the 'season' column after fixing capitalization:\")\n",
        "print(unique_seasons_after_fix)"
      ],
      "metadata": {
        "id": "vhOSjH46VCis",
        "outputId": "49223fe9-0246-45b7-aecb-0becfd194bb6",
        "colab": {
          "base_uri": "https://localhost:8080/"
        }
      },
      "execution_count": null,
      "outputs": [
        {
          "output_type": "stream",
          "name": "stdout",
          "text": [
            "Unique values in the 'season' column after fixing capitalization:\n",
            "['Winter' 'Spring' 'Summer' 'Autumn']\n"
          ]
        }
      ]
    },
    {
      "cell_type": "markdown",
      "source": [
        "<div class=\"alert alert-block alert-info\">\n",
        "    \n",
        "### 2.4. Warehouse Names <a class=\"anchor\" name=\"name\"></a>"
      ],
      "metadata": {
        "id": "ggUe0yqzKlIk"
      }
    },
    {
      "cell_type": "code",
      "source": [
        "# Normalize the 'nearest_warehouse' column by converting all values to lowercase\n",
        "dirty['nearest_warehouse'] = dirty['nearest_warehouse'].str.lower()\n",
        "\n",
        "# Display the dataframe to verify the changes\n",
        "print(\"Updated 'nearest_warehouse' column with names combined (ignoring capitalization):\")\n",
        "print(dirty[['nearest_warehouse']].drop_duplicates())\n"
      ],
      "metadata": {
        "colab": {
          "base_uri": "https://localhost:8080/"
        },
        "id": "ZjQzknAsKm4y",
        "outputId": "945443b9-7999-4290-f832-ae046c634479"
      },
      "execution_count": null,
      "outputs": [
        {
          "output_type": "stream",
          "name": "stdout",
          "text": [
            "Updated 'nearest_warehouse' column with names combined (ignoring capitalization):\n",
            "  nearest_warehouse\n",
            "0         nickolson\n",
            "2          thompson\n",
            "5            bakers\n"
          ]
        }
      ]
    },
    {
      "cell_type": "markdown",
      "source": [
        "<div class=\"alert alert-block alert-info\">\n",
        "    \n",
        "### 2.5. Warehouse Distance <a class=\"anchor\" name=\"dist\"></a>"
      ],
      "metadata": {
        "id": "zS0OxiTb0xBD"
      }
    },
    {
      "cell_type": "code",
      "source": [
        "# Load the warehouse data from the CSV file\n",
        "warehouses_data_path = '/content/drive/Shareddrives/FIT5196_S2_2024/GroupAssessment2/warehouses.csv'\n",
        "warehouse = pd.read_csv(warehouses_data_path)"
      ],
      "metadata": {
        "id": "SvMKBoIi02U_"
      },
      "execution_count": null,
      "outputs": []
    },
    {
      "cell_type": "code",
      "source": [
        "warehouse.head()"
      ],
      "metadata": {
        "colab": {
          "base_uri": "https://localhost:8080/",
          "height": 143
        },
        "id": "RfDgnSTm1Idu",
        "outputId": "54657ffa-66ca-4f20-c0ab-2adbf7c68fa2"
      },
      "execution_count": null,
      "outputs": [
        {
          "output_type": "execute_result",
          "data": {
            "text/plain": [
              "       names        lat         lon\n",
              "0  Nickolson -37.818595  144.969551\n",
              "1   Thompson -37.812673  144.947069\n",
              "2     Bakers -37.809996  144.995232"
            ],
            "text/html": [
              "\n",
              "  <div id=\"df-1078766d-c445-4e6d-ad3e-6d490f662e66\" class=\"colab-df-container\">\n",
              "    <div>\n",
              "<style scoped>\n",
              "    .dataframe tbody tr th:only-of-type {\n",
              "        vertical-align: middle;\n",
              "    }\n",
              "\n",
              "    .dataframe tbody tr th {\n",
              "        vertical-align: top;\n",
              "    }\n",
              "\n",
              "    .dataframe thead th {\n",
              "        text-align: right;\n",
              "    }\n",
              "</style>\n",
              "<table border=\"1\" class=\"dataframe\">\n",
              "  <thead>\n",
              "    <tr style=\"text-align: right;\">\n",
              "      <th></th>\n",
              "      <th>names</th>\n",
              "      <th>lat</th>\n",
              "      <th>lon</th>\n",
              "    </tr>\n",
              "  </thead>\n",
              "  <tbody>\n",
              "    <tr>\n",
              "      <th>0</th>\n",
              "      <td>Nickolson</td>\n",
              "      <td>-37.818595</td>\n",
              "      <td>144.969551</td>\n",
              "    </tr>\n",
              "    <tr>\n",
              "      <th>1</th>\n",
              "      <td>Thompson</td>\n",
              "      <td>-37.812673</td>\n",
              "      <td>144.947069</td>\n",
              "    </tr>\n",
              "    <tr>\n",
              "      <th>2</th>\n",
              "      <td>Bakers</td>\n",
              "      <td>-37.809996</td>\n",
              "      <td>144.995232</td>\n",
              "    </tr>\n",
              "  </tbody>\n",
              "</table>\n",
              "</div>\n",
              "    <div class=\"colab-df-buttons\">\n",
              "\n",
              "  <div class=\"colab-df-container\">\n",
              "    <button class=\"colab-df-convert\" onclick=\"convertToInteractive('df-1078766d-c445-4e6d-ad3e-6d490f662e66')\"\n",
              "            title=\"Convert this dataframe to an interactive table.\"\n",
              "            style=\"display:none;\">\n",
              "\n",
              "  <svg xmlns=\"http://www.w3.org/2000/svg\" height=\"24px\" viewBox=\"0 -960 960 960\">\n",
              "    <path d=\"M120-120v-720h720v720H120Zm60-500h600v-160H180v160Zm220 220h160v-160H400v160Zm0 220h160v-160H400v160ZM180-400h160v-160H180v160Zm440 0h160v-160H620v160ZM180-180h160v-160H180v160Zm440 0h160v-160H620v160Z\"/>\n",
              "  </svg>\n",
              "    </button>\n",
              "\n",
              "  <style>\n",
              "    .colab-df-container {\n",
              "      display:flex;\n",
              "      gap: 12px;\n",
              "    }\n",
              "\n",
              "    .colab-df-convert {\n",
              "      background-color: #E8F0FE;\n",
              "      border: none;\n",
              "      border-radius: 50%;\n",
              "      cursor: pointer;\n",
              "      display: none;\n",
              "      fill: #1967D2;\n",
              "      height: 32px;\n",
              "      padding: 0 0 0 0;\n",
              "      width: 32px;\n",
              "    }\n",
              "\n",
              "    .colab-df-convert:hover {\n",
              "      background-color: #E2EBFA;\n",
              "      box-shadow: 0px 1px 2px rgba(60, 64, 67, 0.3), 0px 1px 3px 1px rgba(60, 64, 67, 0.15);\n",
              "      fill: #174EA6;\n",
              "    }\n",
              "\n",
              "    .colab-df-buttons div {\n",
              "      margin-bottom: 4px;\n",
              "    }\n",
              "\n",
              "    [theme=dark] .colab-df-convert {\n",
              "      background-color: #3B4455;\n",
              "      fill: #D2E3FC;\n",
              "    }\n",
              "\n",
              "    [theme=dark] .colab-df-convert:hover {\n",
              "      background-color: #434B5C;\n",
              "      box-shadow: 0px 1px 3px 1px rgba(0, 0, 0, 0.15);\n",
              "      filter: drop-shadow(0px 1px 2px rgba(0, 0, 0, 0.3));\n",
              "      fill: #FFFFFF;\n",
              "    }\n",
              "  </style>\n",
              "\n",
              "    <script>\n",
              "      const buttonEl =\n",
              "        document.querySelector('#df-1078766d-c445-4e6d-ad3e-6d490f662e66 button.colab-df-convert');\n",
              "      buttonEl.style.display =\n",
              "        google.colab.kernel.accessAllowed ? 'block' : 'none';\n",
              "\n",
              "      async function convertToInteractive(key) {\n",
              "        const element = document.querySelector('#df-1078766d-c445-4e6d-ad3e-6d490f662e66');\n",
              "        const dataTable =\n",
              "          await google.colab.kernel.invokeFunction('convertToInteractive',\n",
              "                                                    [key], {});\n",
              "        if (!dataTable) return;\n",
              "\n",
              "        const docLinkHtml = 'Like what you see? Visit the ' +\n",
              "          '<a target=\"_blank\" href=https://colab.research.google.com/notebooks/data_table.ipynb>data table notebook</a>'\n",
              "          + ' to learn more about interactive tables.';\n",
              "        element.innerHTML = '';\n",
              "        dataTable['output_type'] = 'display_data';\n",
              "        await google.colab.output.renderOutput(dataTable, element);\n",
              "        const docLink = document.createElement('div');\n",
              "        docLink.innerHTML = docLinkHtml;\n",
              "        element.appendChild(docLink);\n",
              "      }\n",
              "    </script>\n",
              "  </div>\n",
              "\n",
              "\n",
              "<div id=\"df-68646851-847a-4925-b0cb-b5b76ec07e2f\">\n",
              "  <button class=\"colab-df-quickchart\" onclick=\"quickchart('df-68646851-847a-4925-b0cb-b5b76ec07e2f')\"\n",
              "            title=\"Suggest charts\"\n",
              "            style=\"display:none;\">\n",
              "\n",
              "<svg xmlns=\"http://www.w3.org/2000/svg\" height=\"24px\"viewBox=\"0 0 24 24\"\n",
              "     width=\"24px\">\n",
              "    <g>\n",
              "        <path d=\"M19 3H5c-1.1 0-2 .9-2 2v14c0 1.1.9 2 2 2h14c1.1 0 2-.9 2-2V5c0-1.1-.9-2-2-2zM9 17H7v-7h2v7zm4 0h-2V7h2v10zm4 0h-2v-4h2v4z\"/>\n",
              "    </g>\n",
              "</svg>\n",
              "  </button>\n",
              "\n",
              "<style>\n",
              "  .colab-df-quickchart {\n",
              "      --bg-color: #E8F0FE;\n",
              "      --fill-color: #1967D2;\n",
              "      --hover-bg-color: #E2EBFA;\n",
              "      --hover-fill-color: #174EA6;\n",
              "      --disabled-fill-color: #AAA;\n",
              "      --disabled-bg-color: #DDD;\n",
              "  }\n",
              "\n",
              "  [theme=dark] .colab-df-quickchart {\n",
              "      --bg-color: #3B4455;\n",
              "      --fill-color: #D2E3FC;\n",
              "      --hover-bg-color: #434B5C;\n",
              "      --hover-fill-color: #FFFFFF;\n",
              "      --disabled-bg-color: #3B4455;\n",
              "      --disabled-fill-color: #666;\n",
              "  }\n",
              "\n",
              "  .colab-df-quickchart {\n",
              "    background-color: var(--bg-color);\n",
              "    border: none;\n",
              "    border-radius: 50%;\n",
              "    cursor: pointer;\n",
              "    display: none;\n",
              "    fill: var(--fill-color);\n",
              "    height: 32px;\n",
              "    padding: 0;\n",
              "    width: 32px;\n",
              "  }\n",
              "\n",
              "  .colab-df-quickchart:hover {\n",
              "    background-color: var(--hover-bg-color);\n",
              "    box-shadow: 0 1px 2px rgba(60, 64, 67, 0.3), 0 1px 3px 1px rgba(60, 64, 67, 0.15);\n",
              "    fill: var(--button-hover-fill-color);\n",
              "  }\n",
              "\n",
              "  .colab-df-quickchart-complete:disabled,\n",
              "  .colab-df-quickchart-complete:disabled:hover {\n",
              "    background-color: var(--disabled-bg-color);\n",
              "    fill: var(--disabled-fill-color);\n",
              "    box-shadow: none;\n",
              "  }\n",
              "\n",
              "  .colab-df-spinner {\n",
              "    border: 2px solid var(--fill-color);\n",
              "    border-color: transparent;\n",
              "    border-bottom-color: var(--fill-color);\n",
              "    animation:\n",
              "      spin 1s steps(1) infinite;\n",
              "  }\n",
              "\n",
              "  @keyframes spin {\n",
              "    0% {\n",
              "      border-color: transparent;\n",
              "      border-bottom-color: var(--fill-color);\n",
              "      border-left-color: var(--fill-color);\n",
              "    }\n",
              "    20% {\n",
              "      border-color: transparent;\n",
              "      border-left-color: var(--fill-color);\n",
              "      border-top-color: var(--fill-color);\n",
              "    }\n",
              "    30% {\n",
              "      border-color: transparent;\n",
              "      border-left-color: var(--fill-color);\n",
              "      border-top-color: var(--fill-color);\n",
              "      border-right-color: var(--fill-color);\n",
              "    }\n",
              "    40% {\n",
              "      border-color: transparent;\n",
              "      border-right-color: var(--fill-color);\n",
              "      border-top-color: var(--fill-color);\n",
              "    }\n",
              "    60% {\n",
              "      border-color: transparent;\n",
              "      border-right-color: var(--fill-color);\n",
              "    }\n",
              "    80% {\n",
              "      border-color: transparent;\n",
              "      border-right-color: var(--fill-color);\n",
              "      border-bottom-color: var(--fill-color);\n",
              "    }\n",
              "    90% {\n",
              "      border-color: transparent;\n",
              "      border-bottom-color: var(--fill-color);\n",
              "    }\n",
              "  }\n",
              "</style>\n",
              "\n",
              "  <script>\n",
              "    async function quickchart(key) {\n",
              "      const quickchartButtonEl =\n",
              "        document.querySelector('#' + key + ' button');\n",
              "      quickchartButtonEl.disabled = true;  // To prevent multiple clicks.\n",
              "      quickchartButtonEl.classList.add('colab-df-spinner');\n",
              "      try {\n",
              "        const charts = await google.colab.kernel.invokeFunction(\n",
              "            'suggestCharts', [key], {});\n",
              "      } catch (error) {\n",
              "        console.error('Error during call to suggestCharts:', error);\n",
              "      }\n",
              "      quickchartButtonEl.classList.remove('colab-df-spinner');\n",
              "      quickchartButtonEl.classList.add('colab-df-quickchart-complete');\n",
              "    }\n",
              "    (() => {\n",
              "      let quickchartButtonEl =\n",
              "        document.querySelector('#df-68646851-847a-4925-b0cb-b5b76ec07e2f button');\n",
              "      quickchartButtonEl.style.display =\n",
              "        google.colab.kernel.accessAllowed ? 'block' : 'none';\n",
              "    })();\n",
              "  </script>\n",
              "</div>\n",
              "\n",
              "    </div>\n",
              "  </div>\n"
            ],
            "application/vnd.google.colaboratory.intrinsic+json": {
              "type": "dataframe",
              "variable_name": "warehouse",
              "summary": "{\n  \"name\": \"warehouse\",\n  \"rows\": 3,\n  \"fields\": [\n    {\n      \"column\": \"names\",\n      \"properties\": {\n        \"dtype\": \"string\",\n        \"num_unique_values\": 3,\n        \"samples\": [\n          \"Nickolson\",\n          \"Thompson\",\n          \"Bakers\"\n        ],\n        \"semantic_type\": \"\",\n        \"description\": \"\"\n      }\n    },\n    {\n      \"column\": \"lat\",\n      \"properties\": {\n        \"dtype\": \"number\",\n        \"std\": 0.004400296597201879,\n        \"min\": -37.818595,\n        \"max\": -37.8099961,\n        \"num_unique_values\": 3,\n        \"samples\": [\n          -37.818595,\n          -37.8126732,\n          -37.8099961\n        ],\n        \"semantic_type\": \"\",\n        \"description\": \"\"\n      }\n    },\n    {\n      \"column\": \"lon\",\n      \"properties\": {\n        \"dtype\": \"number\",\n        \"std\": 0.024099248892242943,\n        \"min\": 144.9470689,\n        \"max\": 144.99523200000002,\n        \"num_unique_values\": 3,\n        \"samples\": [\n          144.969551,\n          144.9470689,\n          144.99523200000002\n        ],\n        \"semantic_type\": \"\",\n        \"description\": \"\"\n      }\n    }\n  ]\n}"
            }
          },
          "metadata": {},
          "execution_count": 28
        }
      ]
    },
    {
      "cell_type": "code",
      "source": [
        "import pandas as pd\n",
        "import numpy as np\n",
        "from math import radians, sin, cos, sqrt, atan2\n",
        "\n",
        "# Function to calculate Haversine distance between two points (lat1, lon1) and (lat2, lon2)\n",
        "def haversine(lat1, lon1, lat2, lon2):\n",
        "    # Convert latitudes and longitudes from degrees to radians\n",
        "    lat1, lon1, lat2, lon2 = map(radians, [lat1, lon1, lat2, lon2])\n",
        "\n",
        "    # Haversine formula\n",
        "    dlat = lat2 - lat1\n",
        "    dlon = lon2 - lon1\n",
        "    a = sin(dlat / 2)**2 + cos(lat1) * cos(lat2) * sin(dlon / 2)**2\n",
        "    c = 2 * atan2(sqrt(a), sqrt(1 - a))\n",
        "    r = 6371  # Radius of Earth in kilometers\n",
        "    return r * c  # Distance in kilometers\n",
        "\n",
        "# Function to compute the nearest warehouse distance\n",
        "def compute_nearest_warehouse_distance(customer_lat, customer_long, warehouse_df):\n",
        "    # Initialize the minimum distance and corresponding warehouse\n",
        "    min_distance = float('inf')\n",
        "\n",
        "    # Iterate through each warehouse\n",
        "    for index, row in warehouse_df.iterrows():\n",
        "        distance = haversine(customer_lat, customer_long, row['lat'], row['lon'])\n",
        "        if distance < min_distance:\n",
        "            min_distance = distance\n",
        "    return min_distance\n",
        "\n",
        "# Apply the function to calculate 'computed_warehouse_distance'\n",
        "dirty['computed_warehouse_distance'] = dirty.apply(\n",
        "    lambda row: compute_nearest_warehouse_distance(row['customer_lat'], row['customer_long'], warehouse), axis=1\n",
        ")\n",
        "\n",
        "# Step 1: Validate the original 'distance_to_nearest_warehouse' against 'computed_warehouse_distance'\n",
        "discrepancies = dirty[dirty['distance_to_nearest_warehouse'] != dirty['computed_warehouse_distance']]\n",
        "\n",
        "# Display rows where there are discrepancies\n",
        "print(\"Rows with discrepancies in 'distance_to_nearest_warehouse':\")\n",
        "print(discrepancies[['order_id', 'distance_to_nearest_warehouse', 'computed_warehouse_distance']])\n",
        "\n",
        "# Step 2: Correct the original 'distance_to_nearest_warehouse' column\n",
        "dirty.loc[dirty['distance_to_nearest_warehouse'] != dirty['computed_warehouse_distance'], 'distance_to_nearest_warehouse'] = dirty['computed_warehouse_distance']\n",
        "\n",
        "# Display the corrected rows\n",
        "print(\"\\nUpdated rows with corrected 'distance_to_nearest_warehouse':\")\n",
        "print(dirty.loc[dirty['order_id'].isin(discrepancies['order_id'])][['order_id', 'distance_to_nearest_warehouse', 'computed_warehouse_distance']])\n"
      ],
      "metadata": {
        "colab": {
          "base_uri": "https://localhost:8080/"
        },
        "id": "SBQiS0f12TwK",
        "outputId": "483e40e8-cca6-4d1c-a16b-e8150352837f"
      },
      "execution_count": null,
      "outputs": [
        {
          "output_type": "stream",
          "name": "stdout",
          "text": [
            "Rows with discrepancies in 'distance_to_nearest_warehouse':\n",
            "      order_id  distance_to_nearest_warehouse  computed_warehouse_distance\n",
            "0    ORD057529                         0.9403                     0.939245\n",
            "1    ORD182030                         0.7087                     1.519966\n",
            "2    ORD386119                         0.7338                     0.733041\n",
            "3    ORD488733                         0.3542                     0.353777\n",
            "4    ORD131365                         1.0353                     1.034130\n",
            "..         ...                            ...                          ...\n",
            "495  ORD332197                         0.8561                     0.855112\n",
            "496  ORD300278                         1.0092                     1.008082\n",
            "497  ORD421261                         0.9757                     0.974675\n",
            "498  ORD353265                         0.6799                     0.679111\n",
            "499  ORD327057                         1.2195                     1.218163\n",
            "\n",
            "[500 rows x 3 columns]\n",
            "\n",
            "Updated rows with corrected 'distance_to_nearest_warehouse':\n",
            "      order_id  distance_to_nearest_warehouse  computed_warehouse_distance\n",
            "0    ORD057529                       0.939245                     0.939245\n",
            "1    ORD182030                       1.519966                     1.519966\n",
            "2    ORD386119                       0.733041                     0.733041\n",
            "3    ORD488733                       0.353777                     0.353777\n",
            "4    ORD131365                       1.034130                     1.034130\n",
            "..         ...                            ...                          ...\n",
            "495  ORD332197                       0.855112                     0.855112\n",
            "496  ORD300278                       1.008082                     1.008082\n",
            "497  ORD421261                       0.974675                     0.974675\n",
            "498  ORD353265                       0.679111                     0.679111\n",
            "499  ORD327057                       1.218163                     1.218163\n",
            "\n",
            "[500 rows x 3 columns]\n"
          ]
        }
      ]
    },
    {
      "cell_type": "markdown",
      "source": [
        "<div class=\"alert alert-block alert-info\">\n",
        "    \n",
        "### 2.6. Expedite <a class=\"anchor\" name=\"exp2\"></a>"
      ],
      "metadata": {
        "id": "mELknC6l2_IH"
      }
    },
    {
      "cell_type": "code",
      "source": [
        "# Ensure that the 'computed_warehouse_distance' column has been calculated previously\n",
        "\n",
        "# Find the minimum and maximum values of the computed warehouse distances\n",
        "min_distance = dirty['computed_warehouse_distance'].min()\n",
        "max_distance = dirty['computed_warehouse_distance'].max()\n",
        "\n",
        "# Display the min and max values\n",
        "print(f\"Minimum computed warehouse distance: {min_distance:.4f} km\")\n",
        "print(f\"Maximum computed warehouse distance: {max_distance:.4f} km\")"
      ],
      "metadata": {
        "colab": {
          "base_uri": "https://localhost:8080/"
        },
        "id": "9WWMf4XG3Azo",
        "outputId": "9d81efb8-2893-4344-926e-f6a7d1a7c184"
      },
      "execution_count": null,
      "outputs": [
        {
          "output_type": "stream",
          "name": "stdout",
          "text": [
            "Minimum computed warehouse distance: 0.0318 km\n",
            "Maximum computed warehouse distance: 2.8714 km\n"
          ]
        }
      ]
    },
    {
      "cell_type": "code",
      "source": [
        "from textblob import TextBlob\n",
        "\n",
        "# Step 1: Function to analyze sentiment using TextBlob\n",
        "def analyze_sentiment(review):\n",
        "    if isinstance(review, str) and review.strip():  # Check if the review is a valid non-empty string\n",
        "        analysis = TextBlob(review)\n",
        "        # Return polarity score (ranges from -1 to 1)\n",
        "        return analysis.sentiment.polarity\n",
        "    return 0  # Return 0 for non-string or empty reviews\n",
        "\n",
        "# Step 2: Apply the sentiment analysis function to the 'latest_customer_review' column\n",
        "dirty['review_sentiment'] = dirty['latest_customer_review'].apply(analyze_sentiment)\n",
        "\n",
        "# Step 3: Define distance threshold for expedited delivery\n",
        "expedited_distance_threshold = 1  # Deliveries within 1 km are considered for expedited delivery\n",
        "\n",
        "# Step 4: Determine if delivery is expedited based on distance and review sentiment\n",
        "# Consider delivery expedited if distance <= 1 km and review sentiment is positive (> 0)\n",
        "def determine_expedited_delivery(row):\n",
        "    # Check distance and sentiment conditions\n",
        "    if row['distance_to_nearest_warehouse'] <= expedited_distance_threshold and row['review_sentiment'] > 0:\n",
        "        return True\n",
        "    else:\n",
        "        return False\n",
        "\n",
        "# Apply the expedited delivery determination function\n",
        "dirty['computed_is_expedited_delivery'] = dirty.apply(determine_expedited_delivery, axis=1)\n",
        "\n",
        "# Step 5: Validate against the existing 'is_expedited_delivery' column\n",
        "expedited_anomalies = dirty[dirty['is_expedited_delivery'] != dirty['computed_is_expedited_delivery']]\n",
        "\n",
        "# Display rows where there's a mismatch between the computed and original values\n",
        "print(\"Rows with mismatch between computed and original 'is_expedited_delivery':\")\n",
        "print(expedited_anomalies[['order_id', 'distance_to_nearest_warehouse', 'latest_customer_review', 'review_sentiment', 'is_expedited_delivery', 'computed_is_expedited_delivery']])\n",
        "\n",
        "# Optionally, correct the 'is_expedited_delivery' column\n",
        "dirty.loc[dirty['order_id'].isin(expedited_anomalies['order_id']), 'is_expedited_delivery'] = dirty['computed_is_expedited_delivery']\n",
        "\n",
        "# Display corrected rows\n",
        "print(\"\\nCorrected 'is_expedited_delivery' values:\")\n",
        "corrected_rows = dirty.loc[dirty['order_id'].isin(expedited_anomalies['order_id'])]\n",
        "print(corrected_rows[['order_id', 'is_expedited_delivery', 'computed_is_expedited_delivery']])\n"
      ],
      "metadata": {
        "colab": {
          "base_uri": "https://localhost:8080/"
        },
        "id": "_iewT5zE4Hnv",
        "outputId": "5f7bc46f-36cc-4a40-a3aa-bfe8e59071ba"
      },
      "execution_count": null,
      "outputs": [
        {
          "output_type": "stream",
          "name": "stdout",
          "text": [
            "Rows with mismatch between computed and original 'is_expedited_delivery':\n",
            "      order_id  distance_to_nearest_warehouse  \\\n",
            "2    ORD386119                       0.733041   \n",
            "3    ORD488733                       0.353777   \n",
            "4    ORD131365                       1.034130   \n",
            "5    ORD320331                       0.174294   \n",
            "6    ORD327578                       1.928413   \n",
            "..         ...                            ...   \n",
            "492  ORD186628                       0.707905   \n",
            "495  ORD332197                       0.855112   \n",
            "496  ORD300278                       1.008082   \n",
            "497  ORD421261                       0.974675   \n",
            "498  ORD353265                       0.679111   \n",
            "\n",
            "                                latest_customer_review  review_sentiment  \\\n",
            "2    pretty cool. i have only begun to figure out t...          0.200000   \n",
            "3    working great! my mom still using working grea...          1.000000   \n",
            "4            olivia all the way best phone i ever had.          1.000000   \n",
            "5    so far i love it. the only thing that was miss...          0.200000   \n",
            "6    spartan technologies phone is advertised as a ...         -0.700000   \n",
            "..                                                 ...               ...   \n",
            "492                                       so good like          0.700000   \n",
            "495  great phone for the price! a great smart phone...          0.689286   \n",
            "496  five stars cant go wrong bought it just for th...         -0.250000   \n",
            "497  best value for what i paid cheapest android on...          1.000000   \n",
            "498  this purchase has been awful i can say i was t...         -0.141667   \n",
            "\n",
            "     is_expedited_delivery  computed_is_expedited_delivery  \n",
            "2                    False                            True  \n",
            "3                    False                            True  \n",
            "4                     True                           False  \n",
            "5                    False                            True  \n",
            "6                     True                           False  \n",
            "..                     ...                             ...  \n",
            "492                  False                            True  \n",
            "495                  False                            True  \n",
            "496                   True                           False  \n",
            "497                  False                            True  \n",
            "498                   True                           False  \n",
            "\n",
            "[270 rows x 6 columns]\n",
            "\n",
            "Corrected 'is_expedited_delivery' values:\n",
            "      order_id  is_expedited_delivery  computed_is_expedited_delivery\n",
            "2    ORD386119                   True                            True\n",
            "3    ORD488733                   True                            True\n",
            "4    ORD131365                  False                           False\n",
            "5    ORD320331                   True                            True\n",
            "6    ORD327578                  False                           False\n",
            "..         ...                    ...                             ...\n",
            "492  ORD186628                   True                            True\n",
            "495  ORD332197                   True                            True\n",
            "496  ORD300278                  False                           False\n",
            "497  ORD421261                   True                            True\n",
            "498  ORD353265                  False                           False\n",
            "\n",
            "[270 rows x 3 columns]\n"
          ]
        }
      ]
    },
    {
      "cell_type": "markdown",
      "source": [
        "<div class=\"alert alert-block alert-info\">\n",
        "    \n",
        "### 2.7. is_happy_customer <a class=\"anchor\" name=\"happy\"></a>"
      ],
      "metadata": {
        "id": "_Ryym7h07MnX"
      }
    },
    {
      "cell_type": "code",
      "source": [
        "def correct_is_happy_customer(row):\n",
        "    if row['review_sentiment'] > 0:  # Positive sentiment\n",
        "        return True\n",
        "    else:  # Neutral or negative sentiment\n",
        "        return False\n",
        "\n",
        "# Apply the function to create the corrected 'computed_is_happy_customer' column\n",
        "dirty['computed_is_happy_customer'] = dirty.apply(correct_is_happy_customer, axis=1)\n",
        "\n",
        "# Step 4: Validate and find discrepancies between existing and computed 'is_happy_customer'\n",
        "happiness_anomalies = dirty[dirty['is_happy_customer'] != dirty['computed_is_happy_customer']]\n",
        "\n",
        "# Display rows where there's a mismatch between the computed and original values\n",
        "print(\"Rows with mismatch between computed and original 'is_happy_customer':\")\n",
        "print(happiness_anomalies[['order_id', 'latest_customer_review', 'review_sentiment', 'is_happy_customer', 'computed_is_happy_customer']])\n",
        "\n",
        "# Step 5: Correct the 'is_happy_customer' column based on sentiment analysis\n",
        "dirty.loc[dirty['order_id'].isin(happiness_anomalies['order_id']), 'is_happy_customer'] = dirty['computed_is_happy_customer']\n",
        "\n",
        "# Display corrected rows\n",
        "print(\"\\nCorrected 'is_happy_customer' values:\")\n",
        "corrected_rows = dirty.loc[dirty['order_id'].isin(happiness_anomalies['order_id'])]\n",
        "print(corrected_rows[['order_id', 'is_happy_customer', 'computed_is_happy_customer']])"
      ],
      "metadata": {
        "colab": {
          "base_uri": "https://localhost:8080/"
        },
        "id": "dYgWZL7h7O42",
        "outputId": "f383b595-51ed-42f8-b70d-0357ec62a785"
      },
      "execution_count": null,
      "outputs": [
        {
          "output_type": "stream",
          "name": "stdout",
          "text": [
            "Rows with mismatch between computed and original 'is_happy_customer':\n",
            "      order_id                             latest_customer_review  \\\n",
            "0    ORD057529                                                NaN   \n",
            "36   ORD266748  dont buy it the slider sit very lose on the ph...   \n",
            "38   ORD207057  the phone is great. been always a fan of olivi...   \n",
            "50   ORD177234  this phone doesn't work right i going to send ...   \n",
            "60   ORD288786  ordered two of these phones, both of them had ...   \n",
            "..         ...                                                ...   \n",
            "480  ORD351772  thoughts of being able to have the thunder \"gr...   \n",
            "481  ORD383002                 excellent nice phone and very fast   \n",
            "486  ORD133257  phone could not make calls the phone worked at...   \n",
            "488  ORD016677  three stars this phone has had its issues with...   \n",
            "496  ORD300278  five stars cant go wrong bought it just for th...   \n",
            "\n",
            "     review_sentiment  is_happy_customer  computed_is_happy_customer  \n",
            "0            0.000000               True                       False  \n",
            "36           0.100000              False                        True  \n",
            "38           0.800000              False                        True  \n",
            "50           0.190476              False                        True  \n",
            "60           0.041667              False                        True  \n",
            "..                ...                ...                         ...  \n",
            "480          0.156250              False                        True  \n",
            "481          0.620000              False                        True  \n",
            "486          0.175000              False                        True  \n",
            "488         -0.125000               True                       False  \n",
            "496         -0.250000               True                       False  \n",
            "\n",
            "[69 rows x 5 columns]\n",
            "\n",
            "Corrected 'is_happy_customer' values:\n",
            "      order_id  is_happy_customer  computed_is_happy_customer\n",
            "0    ORD057529              False                       False\n",
            "36   ORD266748               True                        True\n",
            "38   ORD207057               True                        True\n",
            "50   ORD177234               True                        True\n",
            "60   ORD288786               True                        True\n",
            "..         ...                ...                         ...\n",
            "480  ORD351772               True                        True\n",
            "481  ORD383002               True                        True\n",
            "486  ORD133257               True                        True\n",
            "488  ORD016677              False                       False\n",
            "496  ORD300278              False                       False\n",
            "\n",
            "[69 rows x 3 columns]\n"
          ]
        }
      ]
    },
    {
      "cell_type": "markdown",
      "source": [
        "<div class=\"alert alert-block alert-info\">\n",
        "    \n",
        "### 2.8.Shopping Cart <a class=\"anchor\" name=\"cart2\"></a>"
      ],
      "metadata": {
        "id": "H4ayLDFpONYa"
      }
    },
    {
      "cell_type": "code",
      "source": [
        "import ast\n",
        "from collections import defaultdict\n",
        "\n",
        "# Function to combine duplicate products by summing their quantities\n",
        "def combine_duplicates(cart):\n",
        "    # Convert string representation of list into an actual list of tuples\n",
        "    cart_items = ast.literal_eval(cart)\n",
        "\n",
        "    # Dictionary to store the combined quantities for each product\n",
        "    product_quantities = defaultdict(int)\n",
        "\n",
        "    # Loop through each product and quantity, and sum up quantities for duplicates\n",
        "    for item in cart_items:\n",
        "        product, quantity = item\n",
        "        product_quantities[product] += quantity\n",
        "\n",
        "    # Convert the dictionary back to a list of tuples\n",
        "    combined_cart = [(product, quantity) for product, quantity in product_quantities.items()]\n",
        "\n",
        "    return combined_cart\n",
        "\n",
        "# Apply the function to rows with shopping cart data to remove duplicate products\n",
        "dirty['shopping_cart'] = dirty['shopping_cart'].apply(lambda cart: str(combine_duplicates(cart)))\n",
        "\n",
        "# Display some rows to verify the changes\n",
        "print(\"Updated shopping cart with combined quantities for duplicate products:\")\n",
        "print(dirty[['order_id', 'shopping_cart']].head())\n"
      ],
      "metadata": {
        "colab": {
          "base_uri": "https://localhost:8080/"
        },
        "id": "DG17AdKQOP3P",
        "outputId": "dd156b82-8897-4ed8-bb81-5644c4cc0a13"
      },
      "execution_count": null,
      "outputs": [
        {
          "output_type": "stream",
          "name": "stdout",
          "text": [
            "Updated shopping cart with combined quantities for duplicate products:\n",
            "    order_id                                      shopping_cart\n",
            "0  ORD057529              [('iAssist Line', 2), ('iStream', 2)]\n",
            "1  ORD182030  [('Olivia x460', 2), ('iStream', 1), ('Thunder...\n",
            "2  ORD386119               [('Toshika 750', 2), ('iStream', 2)]\n",
            "3  ORD488733  [('Lucent 330S', 2), ('iStream', 2), ('Alcon 1...\n",
            "4  ORD131365         [('Universe Note', 1), ('Olivia x460', 2)]\n"
          ]
        }
      ]
    },
    {
      "cell_type": "markdown",
      "source": [
        "<div class=\"alert alert-block alert-info\">\n",
        "    \n",
        "### 2.9. Order Price <a class=\"anchor\" name=\"price2\"></a>"
      ],
      "metadata": {
        "id": "TTeA8YMSOjd4"
      }
    },
    {
      "cell_type": "code",
      "source": [
        "# Function to calculate unit price for each item in the shopping_cart\n",
        "def calculate_unit_price(row):\n",
        "    try:\n",
        "        # Convert the string representation of the shopping_cart into a list of tuples\n",
        "        cart = ast.literal_eval(row['shopping_cart'])\n",
        "        total_quantity = sum(item[1] for item in cart)  # Sum of all quantities\n",
        "        unit_price = row['order_price'] / total_quantity  # Calculate unit price based on total price and quantity\n",
        "        return unit_price\n",
        "    except (SyntaxError, ZeroDivisionError, TypeError):\n",
        "        return np.nan  # Return NaN for rows where calculation is not possible\n",
        "\n",
        "# Apply the function to each row and create a new column 'unit_price'\n",
        "dirty['unit_price'] = dirty.apply(calculate_unit_price, axis=1)\n",
        "\n",
        "# Function to recalculate the order price using the unit price and the updated shopping cart\n",
        "def recalculate_order_price(row):\n",
        "    try:\n",
        "        # Convert the shopping_cart back to a list of tuples\n",
        "        cart = ast.literal_eval(row['shopping_cart'])\n",
        "        # Multiply each product's quantity by the unit price to get the computed order price\n",
        "        computed_price = sum(row['unit_price'] * item[1] for item in cart)\n",
        "        return computed_price\n",
        "    except (ValueError, SyntaxError, TypeError):\n",
        "        return np.nan  # Return NaN if recalculation is not possible\n",
        "\n",
        "# Apply the function to create a new column 'computed_order_price'\n",
        "dirty['computed_order_price'] = dirty.apply(recalculate_order_price, axis=1)\n",
        "\n",
        "# Display the first few rows of the dataset with the new computed order price\n",
        "print(dirty[['order_id', 'shopping_cart', 'order_price', 'unit_price', 'computed_order_price']].head())"
      ],
      "metadata": {
        "id": "LmBtZJdzOlm4",
        "colab": {
          "base_uri": "https://localhost:8080/"
        },
        "outputId": "994be524-47d0-4fd8-8d9d-fae9ce19ddfc"
      },
      "execution_count": null,
      "outputs": [
        {
          "output_type": "stream",
          "name": "stdout",
          "text": [
            "    order_id                                      shopping_cart  order_price  \\\n",
            "0  ORD057529              [('iAssist Line', 2), ('iStream', 2)]         4750   \n",
            "1  ORD182030  [('Olivia x460', 2), ('iStream', 1), ('Thunder...         9230   \n",
            "2  ORD386119               [('Toshika 750', 2), ('iStream', 2)]         8940   \n",
            "3  ORD488733  [('Lucent 330S', 2), ('iStream', 2), ('Alcon 1...        25670   \n",
            "4  ORD131365         [('Universe Note', 1), ('Olivia x460', 2)]         5900   \n",
            "\n",
            "    unit_price  computed_order_price  \n",
            "0  1187.500000                4750.0  \n",
            "1  1538.333333                9230.0  \n",
            "2  2235.000000                8940.0  \n",
            "3  3208.750000               25670.0  \n",
            "4  1966.666667                5900.0  \n"
          ]
        }
      ]
    },
    {
      "cell_type": "code",
      "source": [
        "# Validate the order_price against the computed_order_price\n",
        "incorrect_rows = dirty[dirty['order_price'] != dirty['computed_order_price']]\n",
        "\n",
        "# Display rows where the order_price does not match the computed_order_price\n",
        "print(\"Rows with incorrect order_price:\")\n",
        "print(incorrect_rows[['order_id', 'order_price', 'computed_order_price']])\n",
        "\n",
        "# Correct the order_price to match the computed_order_price for those rows\n",
        "dirty.loc[dirty['order_price'] != dirty['computed_order_price'], 'order_price'] = dirty['computed_order_price']\n",
        "\n",
        "# Display confirmation that the incorrect order prices have been corrected\n",
        "print(\"\\nUpdated rows with corrected order_price:\")\n",
        "print(dirty.loc[dirty['order_id'].isin(incorrect_rows['order_id'])][['order_id', 'order_price', 'computed_order_price']])"
      ],
      "metadata": {
        "colab": {
          "base_uri": "https://localhost:8080/"
        },
        "id": "jVoHKkx_xhvo",
        "outputId": "f5cf8a06-06b5-46d1-d06f-2844faedae37"
      },
      "execution_count": null,
      "outputs": [
        {
          "output_type": "stream",
          "name": "stdout",
          "text": [
            "Rows with incorrect order_price:\n",
            "      order_id  order_price  computed_order_price\n",
            "19   ORD390859        13465               13465.0\n",
            "54   ORD499960         7490                7490.0\n",
            "96   ORD461046        15800               15800.0\n",
            "100  ORD253637        13445               13445.0\n",
            "105  ORD372234        26750               26750.0\n",
            "159  ORD266706        13400               13400.0\n",
            "205  ORD191823        14690               14690.0\n",
            "233  ORD212579        13280               13280.0\n",
            "247  ORD283974        15820               15820.0\n",
            "257  ORD371895        36195               36195.0\n",
            "262  ORD204317        24310               24310.0\n",
            "271  ORD454454        16085               16085.0\n",
            "285  ORD319763         9790                9790.0\n",
            "313  ORD099690        10560               10560.0\n",
            "316  ORD372806        13940               13940.0\n",
            "325  ORD490918        30650               30650.0\n",
            "326  ORD028198        32180               32180.0\n",
            "360  ORD330030        40385               40385.0\n",
            "377  ORD074461        29140               29140.0\n",
            "378  ORD439535        28720               28720.0\n",
            "379  ORD265161        20980               20980.0\n",
            "390  ORD136689        33710               33710.0\n",
            "403  ORD059519         8155                8155.0\n",
            "413  ORD455665        31540               31540.0\n",
            "427  ORD199725        25250               25250.0\n",
            "458  ORD077953        12475               12475.0\n",
            "483  ORD298079         7480                7480.0\n",
            "\n",
            "Updated rows with corrected order_price:\n",
            "      order_id  order_price  computed_order_price\n",
            "19   ORD390859      13465.0               13465.0\n",
            "54   ORD499960       7490.0                7490.0\n",
            "96   ORD461046      15800.0               15800.0\n",
            "100  ORD253637      13445.0               13445.0\n",
            "105  ORD372234      26750.0               26750.0\n",
            "159  ORD266706      13400.0               13400.0\n",
            "205  ORD191823      14690.0               14690.0\n",
            "233  ORD212579      13280.0               13280.0\n",
            "247  ORD283974      15820.0               15820.0\n",
            "257  ORD371895      36195.0               36195.0\n",
            "262  ORD204317      24310.0               24310.0\n",
            "271  ORD454454      16085.0               16085.0\n",
            "285  ORD319763       9790.0                9790.0\n",
            "313  ORD099690      10560.0               10560.0\n",
            "316  ORD372806      13940.0               13940.0\n",
            "325  ORD490918      30650.0               30650.0\n",
            "326  ORD028198      32180.0               32180.0\n",
            "360  ORD330030      40385.0               40385.0\n",
            "377  ORD074461      29140.0               29140.0\n",
            "378  ORD439535      28720.0               28720.0\n",
            "379  ORD265161      20980.0               20980.0\n",
            "390  ORD136689      33710.0               33710.0\n",
            "403  ORD059519       8155.0                8155.0\n",
            "413  ORD455665      31540.0               31540.0\n",
            "427  ORD199725      25250.0               25250.0\n",
            "458  ORD077953      12475.0               12475.0\n",
            "483  ORD298079       7480.0                7480.0\n"
          ]
        },
        {
          "output_type": "stream",
          "name": "stderr",
          "text": [
            "<ipython-input-35-8a7e8dc15d14>:9: FutureWarning: Setting an item of incompatible dtype is deprecated and will raise an error in a future version of pandas. Value '[13465.  7490. 15800. 13445. 26750. 13400. 14690. 13280. 15820. 36195.\n",
            " 24310. 16085.  9790. 10560. 13940. 30650. 32180. 40385. 29140. 28720.\n",
            " 20980. 33710.  8155. 31540. 25250. 12475.  7480.]' has dtype incompatible with int64, please explicitly cast to a compatible dtype first.\n",
            "  dirty.loc[dirty['order_price'] != dirty['computed_order_price'], 'order_price'] = dirty['computed_order_price']\n"
          ]
        }
      ]
    },
    {
      "cell_type": "markdown",
      "source": [
        "<div class=\"alert alert-block alert-info\">\n",
        "    \n",
        "### Order Total <a class=\"anchor\" name=\"total2\"></a>"
      ],
      "metadata": {
        "id": "Kb615D7rysUF"
      }
    },
    {
      "cell_type": "code",
      "source": [
        "from collections import defaultdict\n",
        "\n",
        "# Function to compute the order total based on the coupon discount and delivery charges\n",
        "def compute_order_total(row):\n",
        "    # Apply coupon discount only to the order price\n",
        "    discounted_price = row['order_price'] * (1 - (row['coupon_discount'] / 100))\n",
        "    # Add delivery charges\n",
        "    computed_total = discounted_price + row['delivery_charges']\n",
        "    return computed_total\n",
        "\n",
        "# Apply the function to compute 'computed_order_total'\n",
        "dirty['computed_order_total'] = dirty.apply(compute_order_total, axis=1)\n",
        "\n",
        "# Validate the order_total against the computed_order_total\n",
        "incorrect_total_rows = dirty[dirty['order_total'] != dirty['computed_order_total']]\n",
        "\n",
        "# Display rows where the order_total does not match the computed_order_total\n",
        "print(\"Rows with incorrect order_total:\")\n",
        "print(incorrect_total_rows[['order_id', 'order_total', 'computed_order_total']])\n",
        "\n",
        "# Correct the order_total to match the computed_order_total for those rows\n",
        "dirty.loc[dirty['order_total'] != dirty['computed_order_total'], 'order_total'] = dirty['computed_order_total']\n",
        "\n",
        "# Display confirmation that the incorrect order totals have been corrected\n",
        "print(\"\\nUpdated rows with corrected order_total:\")\n",
        "print(dirty.loc[dirty['order_id'].isin(incorrect_total_rows['order_id'])][['order_id', 'order_total', 'computed_order_total']])\n"
      ],
      "metadata": {
        "colab": {
          "base_uri": "https://localhost:8080/"
        },
        "id": "5nLB4TEIyxqK",
        "outputId": "adddb988-99f2-4d78-e6b4-0f7b04568288"
      },
      "execution_count": null,
      "outputs": [
        {
          "output_type": "stream",
          "name": "stdout",
          "text": [
            "Rows with incorrect order_total:\n",
            "      order_id  order_total  computed_order_total\n",
            "7    ORD472675      7385.51               4288.85\n",
            "10   ORD482404      8217.12               6557.28\n",
            "14   ORD289119     14906.80              15486.77\n",
            "15   ORD005543     10078.11              11887.11\n",
            "19   ORD390859     12166.32              12166.32\n",
            "..         ...          ...                   ...\n",
            "476  ORD412513     19380.90              16999.65\n",
            "483  ORD298079      7179.45               7179.45\n",
            "484  ORD390367     20868.29               8930.89\n",
            "491  ORD228652      2692.26               5797.26\n",
            "497  ORD421261      7629.98               6990.06\n",
            "\n",
            "[81 rows x 3 columns]\n",
            "\n",
            "Updated rows with corrected order_total:\n",
            "      order_id  order_total  computed_order_total\n",
            "7    ORD472675      4288.85               4288.85\n",
            "10   ORD482404      6557.28               6557.28\n",
            "14   ORD289119     15486.77              15486.77\n",
            "15   ORD005543     11887.11              11887.11\n",
            "19   ORD390859     12166.32              12166.32\n",
            "..         ...          ...                   ...\n",
            "476  ORD412513     16999.65              16999.65\n",
            "483  ORD298079      7179.45               7179.45\n",
            "484  ORD390367      8930.89               8930.89\n",
            "491  ORD228652      5797.26               5797.26\n",
            "497  ORD421261      6990.06               6990.06\n",
            "\n",
            "[81 rows x 3 columns]\n"
          ]
        }
      ]
    },
    {
      "cell_type": "code",
      "source": [
        "# List of computed columns to be dropped\n",
        "columns_to_drop = [\n",
        "    'computed_warehouse_distance', 'computed_is_expedited_delivery',\n",
        "    'computed_is_happy_customer', 'review_sentiment',\n",
        "    'unit_price', 'computed_order_price', 'computed_order_total'\n",
        "]\n",
        "\n",
        "# Drop the computed columns\n",
        "dirty.drop(columns=columns_to_drop, inplace=True)\n",
        "\n",
        "# Save the cleaned dataset to CSV\n",
        "dirty.to_csv('146_dirty_data_solution.csv', index=False)\n",
        "\n",
        "print(\"Data cleaning complete. CSV file saved as 'dirty_corrected_data.csv'.\")"
      ],
      "metadata": {
        "colab": {
          "base_uri": "https://localhost:8080/"
        },
        "id": "ENv6MPUH8zoP",
        "outputId": "e3ee4d1c-9733-4fa7-997e-c99627cdc8fd"
      },
      "execution_count": null,
      "outputs": [
        {
          "output_type": "stream",
          "name": "stdout",
          "text": [
            "Data cleaning complete. CSV file saved as 'dirty_corrected_data.csv'.\n"
          ]
        }
      ]
    },
    {
      "cell_type": "markdown",
      "source": [
        "<div class=\"alert alert-block alert-info\">\n",
        "    \n",
        "# Outlier Data <a class=\"anchor\" name=\"Outlier\"></a>"
      ],
      "metadata": {
        "id": "WH5A2CoH3es1"
      }
    },
    {
      "cell_type": "markdown",
      "source": [
        "<div class=\"alert alert-block alert-info\">\n",
        "    \n",
        "### 3.1. Data Loading and Cleaning <a class=\"anchor\" name=\"Cleaning\"></a>"
      ],
      "metadata": {
        "id": "QZ-8nOyOzMuC"
      }
    },
    {
      "cell_type": "code",
      "source": [
        "import pandas as pd\n",
        "import matplotlib.pyplot as plt\n",
        "import seaborn as sns\n",
        "\n",
        "# Load the outlier data\n",
        "outlier_data_path = '/content/drive/Shareddrives/FIT5196_S2_2024/GroupAssessment2/student_data/Group146/Group146_outlier_data.csv'\n",
        "outlier_data = pd.read_csv(outlier_data_path)"
      ],
      "metadata": {
        "id": "Mso2lfiQ3nfr"
      },
      "execution_count": null,
      "outputs": []
    },
    {
      "cell_type": "code",
      "source": [
        "# 1. Checking for missing values\n",
        "missing_values = outlier_data.isnull().sum()\n",
        "print(\"Missing:\\n\", missing_values)"
      ],
      "metadata": {
        "colab": {
          "base_uri": "https://localhost:8080/"
        },
        "id": "Lnm-HL6o4FcY",
        "outputId": "c1be4839-1b82-492d-d71e-cf449386f27e"
      },
      "execution_count": null,
      "outputs": [
        {
          "output_type": "stream",
          "name": "stdout",
          "text": [
            "Missing:\n",
            " order_id                         0\n",
            "customer_id                      0\n",
            "date                             0\n",
            "nearest_warehouse                0\n",
            "shopping_cart                    0\n",
            "order_price                      0\n",
            "delivery_charges                 0\n",
            "customer_lat                     0\n",
            "customer_long                    0\n",
            "coupon_discount                  0\n",
            "order_total                      0\n",
            "season                           0\n",
            "is_expedited_delivery            0\n",
            "distance_to_nearest_warehouse    0\n",
            "latest_customer_review           0\n",
            "is_happy_customer                0\n",
            "dtype: int64\n"
          ]
        }
      ]
    },
    {
      "cell_type": "code",
      "source": [
        "# 2. Summary statistics\n",
        "summary_statistics = outlier_data.describe()\n",
        "print(\"Summary Statistics:\\n\", summary_statistics)"
      ],
      "metadata": {
        "colab": {
          "base_uri": "https://localhost:8080/"
        },
        "id": "BslEELwm4N8r",
        "outputId": "80bee9f0-29fe-4ea2-f430-0ff8178578f9"
      },
      "execution_count": null,
      "outputs": [
        {
          "output_type": "stream",
          "name": "stdout",
          "text": [
            "Summary Statistics:\n",
            "         order_price  delivery_charges  customer_lat  customer_long  \\\n",
            "count    500.000000        500.000000    500.000000     500.000000   \n",
            "mean   13291.070000         77.350720    -37.811894     144.967515   \n",
            "std     7547.262268         17.699491      0.007584       0.021655   \n",
            "min     1010.000000         27.400000    -37.834290     144.904907   \n",
            "25%     7531.250000         65.260000    -37.818033     144.952490   \n",
            "50%    12400.000000         76.265000    -37.811967     144.965640   \n",
            "75%    17918.750000         87.131250    -37.805854     144.983060   \n",
            "max    38420.000000        157.695000    -37.792619     145.046450   \n",
            "\n",
            "       coupon_discount   order_total  distance_to_nearest_warehouse  \n",
            "count       500.000000    500.000000                     500.000000  \n",
            "mean         10.530000  11997.624720                       1.103379  \n",
            "std           8.861498   6956.544231                       0.557319  \n",
            "min           0.000000   1037.980000                       0.026500  \n",
            "25%           3.750000   6669.127500                       0.702475  \n",
            "50%          10.000000  10924.960000                       1.061400  \n",
            "75%          15.000000  16435.591250                       1.392975  \n",
            "max          25.000000  38492.040000                       4.550900  \n"
          ]
        }
      ]
    },
    {
      "cell_type": "markdown",
      "source": [
        "<div class=\"alert alert-block alert-info\">\n",
        "    \n",
        "### 3.2.Delivery Charges <a class=\"anchor\" name=\"Charge\"></a>"
      ],
      "metadata": {
        "id": "SN4ZPtAvGgBf"
      }
    },
    {
      "cell_type": "code",
      "source": [
        "# Boxplot to detect outliers in the 'delivery_charges' column\n",
        "plt.figure(figsize=(10, 6))\n",
        "sns.boxplot(y=outlier_data['delivery_charges'])\n",
        "plt.title('Boxplot for Delivery Charges')\n",
        "plt.show()"
      ],
      "metadata": {
        "colab": {
          "base_uri": "https://localhost:8080/",
          "height": 468
        },
        "id": "YNUkFLvA4T3b",
        "outputId": "e3b2e0c7-7566-4867-db1f-5722991b216e"
      },
      "execution_count": null,
      "outputs": [
        {
          "output_type": "display_data",
          "data": {
            "text/plain": [
              "<Figure size 1000x600 with 1 Axes>"
            ],
            "image/png": "[encoded data removed]"
          },
          "metadata": {}
        }
      ]
    },
    {
      "cell_type": "markdown",
      "source": [
        "This boxplot visualizes the distribution of delivery charges:\n",
        "\n",
        "* The box represents the interquartile range (IQR), which contains the middle 50% of the data. The line inside the box is the median, indicating that most delivery charges are around 80.\n",
        "* The whiskers extend to the minimum and maximum values within 1.5 times the IQR. Any points outside this range are considered outliers and are shown as individual circles.\n",
        "* Several outliers can be observed above 120 and below 60, suggesting some delivery charges are significantly higher or lower than the majority of the data.\n",
        "* This boxplot helps to quickly identify the spread of delivery charges, the central tendency, and any unusual values."
      ],
      "metadata": {
        "id": "nMdE6r3ALxCp"
      }
    },
    {
      "cell_type": "code",
      "source": [
        "# Summary statistics of the 'delivery_charges' column\n",
        "print(\"Summary statistics of 'delivery_charges':\")\n",
        "print(outlier_data['delivery_charges'].describe())"
      ],
      "metadata": {
        "colab": {
          "base_uri": "https://localhost:8080/"
        },
        "id": "uJb_qjn68kvr",
        "outputId": "dee80417-6d9c-423a-def3-afc94c42fbd9"
      },
      "execution_count": null,
      "outputs": [
        {
          "output_type": "stream",
          "name": "stdout",
          "text": [
            "Summary statistics of 'delivery_charges':\n",
            "count    500.000000\n",
            "mean      77.350720\n",
            "std       17.699491\n",
            "min       27.400000\n",
            "25%       65.260000\n",
            "50%       76.265000\n",
            "75%       87.131250\n",
            "max      157.695000\n",
            "Name: delivery_charges, dtype: float64\n"
          ]
        }
      ]
    },
    {
      "cell_type": "markdown",
      "source": [
        "<div class=\"alert alert-block alert-info\">\n",
        "    \n",
        "### 3.2.1. Interquantile Range <a class=\"anchor\" name=\"Inter\"></a>"
      ],
      "metadata": {
        "id": "fCFt0rVB2QWZ"
      }
    },
    {
      "cell_type": "markdown",
      "source": [
        "In this section we will be doing the IQR method to to detect and remove outliers in the dataset's delivery_charges column. The following steps I have done the following methods."
      ],
      "metadata": {
        "id": "YhNGCr7WHiqF"
      }
    },
    {
      "cell_type": "code",
      "source": [
        "# Calculate Q1 (25th percentile) and Q3 (75th percentile) of the 'delivery_charges'\n",
        "Q1 = outlier_data['delivery_charges'].quantile(0.25)\n",
        "Q3 = outlier_data['delivery_charges'].quantile(0.75)\n",
        "\n",
        "# Calculate IQR (Interquartile Range)\n",
        "IQR = Q3 - Q1\n",
        "\n",
        "# Define lower and upper bounds for detecting outliers\n",
        "lower_bound = Q1 - 1.5 * IQR\n",
        "upper_bound = Q3 + 1.5 * IQR\n",
        "\n",
        "# Print the results\n",
        "print(f\"Q1 (25th percentile): {Q1}\")\n",
        "print(f\"Q3 (75th percentile): {Q3}\")\n",
        "print(f\"IQR: {IQR}\")\n",
        "print(f\"Lower bound: {lower_bound}\")\n",
        "print(f\"Upper bound: {upper_bound}\")\n",
        "\n",
        "# Filter out the outlier rows\n",
        "df_no_outliers = outlier_data[(outlier_data['delivery_charges'] >= lower_bound) & (outlier_data['delivery_charges'] <= upper_bound)]\n"
      ],
      "metadata": {
        "colab": {
          "base_uri": "https://localhost:8080/"
        },
        "id": "-b916dpigaGl",
        "outputId": "864aaff1-2d0a-4efd-f966-129ba6dac67e"
      },
      "execution_count": null,
      "outputs": [
        {
          "output_type": "stream",
          "name": "stdout",
          "text": [
            "Q1 (25th percentile): 65.26\n",
            "Q3 (75th percentile): 87.13125\n",
            "IQR: 21.87124999999999\n",
            "Lower bound: 32.45312500000002\n",
            "Upper bound: 119.93812499999999\n"
          ]
        }
      ]
    },
    {
      "cell_type": "markdown",
      "source": [
        "Calculation of the Interquartile Range (IQR): The IQR quantifies the distribution of the middle 50% of data points. It is calculated by taking the 75th percentile (Q3) and subtracting it from the 25th percentile (Q1). The outcome is a range that is anticipated to contain the vast majority of the data.\n",
        "\n",
        "Outlier Detection: Values that fall outside or beyond the allowed range—generally 1.5 times the IQR beyond Q1 and Q3—are considered outliers. In particular:\n",
        "\n",
        "Lower Bound: Outliers are defined as values that fall below Q1 - 1.5 * IQR.\n",
        "Upper Bound: Outliers are defined as values greater than Q3 + 1.5 * IQR.\n",
        "\n",
        "Outlier Removal: The script filters the dataset to eliminate rows with delivery_charges that fall outside of the higher and lower bounds after specifying the bounds. This guarantees that only values that are inside the permissible range are kept for additional examination.\n",
        "\n",
        "This technique is frequently used in data analysis to purify datasets by removing extreme values that could distort analysis or produce false findings.\n",
        "\n"
      ],
      "metadata": {
        "id": "WT7SaZ6u5DET"
      }
    },
    {
      "cell_type": "markdown",
      "source": [
        "<div class=\"alert alert-block alert-info\">\n",
        "    \n",
        "### 3.2.2. Linear Regression Model <a class=\"anchor\" name=\"Model\"></a>"
      ],
      "metadata": {
        "id": "lnQKLNUE2W8D"
      }
    },
    {
      "cell_type": "code",
      "source": [
        "import pandas as pd\n",
        "from sklearn.model_selection import train_test_split\n",
        "from sklearn.linear_model import LinearRegression\n",
        "from sklearn.metrics import mean_squared_error, r2_score\n",
        "import matplotlib.pyplot as plt\n",
        "\n",
        "# Selecting the feature (order_price) and target (delivery_charges)\n",
        "X = outlier_data[['order_price']]\n",
        "y = outlier_data['delivery_charges']\n",
        "\n",
        "# Splitting the dataset into training and test sets\n",
        "X_train, X_test, y_train, y_test = train_test_split(X, y, test_size=0.2, random_state=42)\n",
        "\n",
        "# Creating the linear regression model\n",
        "model = LinearRegression()\n",
        "\n",
        "# Fitting the model on the training data\n",
        "model.fit(X_train, y_train)\n",
        "\n",
        "# Making predictions on the test data\n",
        "y_pred = model.predict(X_test)\n",
        "\n",
        "# Evaluating the model\n",
        "mse = mean_squared_error(y_test, y_pred)\n",
        "r2 = r2_score(y_test, y_pred)\n",
        "\n",
        "print(f'Mean Squared Error (MSE): {mse}')\n",
        "print(f'R-squared (R2): {r2}')\n",
        "\n",
        "# Plotting the regression line\n",
        "plt.figure(figsize=(10, 6))\n",
        "plt.scatter(X_test, y_test, color='blue', label='Actual Delivery Charges')\n",
        "plt.plot(X_test, y_pred, color='red', linewidth=2, label='Predicted Delivery Charges')\n",
        "plt.title('Linear Regression: Order Price vs Delivery Charges')\n",
        "plt.xlabel('Order Price')\n",
        "plt.ylabel('Delivery Charges')\n",
        "plt.legend()\n",
        "plt.show()"
      ],
      "metadata": {
        "colab": {
          "base_uri": "https://localhost:8080/",
          "height": 537
        },
        "id": "6hyQT3BY7UxP",
        "outputId": "7ee93a5f-49c6-4941-9bc6-b3f12736bcc4"
      },
      "execution_count": null,
      "outputs": [
        {
          "output_type": "stream",
          "name": "stdout",
          "text": [
            "Mean Squared Error (MSE): 307.2441545315521\n",
            "R-squared (R2): -0.02983241283451754\n"
          ]
        },
        {
          "output_type": "display_data",
          "data": {
            "text/plain": [
              "<Figure size 1000x600 with 1 Axes>"
            ],
            "image/png": "[encoded data removed]"
          },
          "metadata": {}
        }
      ]
    },
    {
      "cell_type": "markdown",
      "source": [
        "\n",
        "This plot shows the relationship between Order Price and Delivery Charges:\n",
        "\n",
        "* The blue dots represent actual delivery charges, and the red line shows the predicted trend from the linear regression model.\n",
        "\n",
        "* The Mean Squared Error (MSE) is 307.24, indicating the model has moderate prediction error.\n",
        "\n",
        "* The R-squared (R²) value is −0.03, which means the model fails to capture any meaningful relationship between order price and delivery charges.\n",
        "\n",
        "* In summary, order price has no significant linear impact on delivery charges, and the model does not provide accurate predictions for this relationship."
      ],
      "metadata": {
        "id": "ehhDRYAm5jOn"
      }
    },
    {
      "cell_type": "markdown",
      "source": [
        "<div class=\"alert alert-block alert-info\">\n",
        "    \n",
        "### 3.3. Converting Output <a class=\"anchor\" name=\"Converting\"></a>"
      ],
      "metadata": {
        "id": "CWS1JeRY0BM5"
      }
    },
    {
      "cell_type": "code",
      "source": [
        "# Save the cleaned dataset to CSV\n",
        "outlier_data.to_csv('146_outlier_data_solution.csv', index=False)\n",
        "\n",
        "print(\"Data cleaning complete. CSV file saved.\")"
      ],
      "metadata": {
        "colab": {
          "base_uri": "https://localhost:8080/"
        },
        "id": "p76j6uvz_u3R",
        "outputId": "558b904b-50e6-46fa-83c2-f3126bf6a7cd"
      },
      "execution_count": null,
      "outputs": [
        {
          "output_type": "stream",
          "name": "stdout",
          "text": [
            "Data cleaning complete. CSV file saved.\n"
          ]
        }
      ]
    },
    {
      "cell_type": "markdown",
      "source": [
        "<div class=\"alert alert-block alert-warning\">\n",
        "\n",
        "# 4.  Missing Data<a class=\"anchor\" name=\"#missing\"></a>\n",
        "    \n",
        "</div>"
      ],
      "metadata": {
        "id": "PHrdcf0fRlpS"
      }
    },
    {
      "cell_type": "markdown",
      "source": [
        "<div class=\"alert alert-block alert-warning\">\n",
        "\n",
        "# 4.1.  EDA<a class=\"anchor\" name=\"eda2\"></a>\n",
        "    \n",
        "</div>"
      ],
      "metadata": {
        "id": "Mbyaf1XFp3L3"
      }
    },
    {
      "cell_type": "code",
      "source": [
        "import pandas as pd\n",
        "import matplotlib.pyplot as plt\n",
        "import seaborn as sns\n",
        "\n",
        "# Load the missing data\n",
        "missing_data_path = '/content/drive/Shareddrives/FIT5196_S2_2024/GroupAssessment2/student_data/Group146/Group146_missing_data.csv'\n",
        "missing_data = pd.read_csv(missing_data_path)\n",
        "\n",
        "# 1. Check for missing values\n",
        "missing_values = missing_data.isnull().sum()\n",
        "print(\"Missing Values:\\n\", missing_values)"
      ],
      "metadata": {
        "colab": {
          "base_uri": "https://localhost:8080/"
        },
        "outputId": "996f286c-3307-417a-bdbd-a18284cfb6cc",
        "id": "jgjCn6B1Rear"
      },
      "execution_count": null,
      "outputs": [
        {
          "output_type": "stream",
          "name": "stdout",
          "text": [
            "Missing Values:\n",
            " order_id                          0\n",
            "customer_id                       0\n",
            "date                              0\n",
            "nearest_warehouse                55\n",
            "shopping_cart                     0\n",
            "order_price                      15\n",
            "delivery_charges                 40\n",
            "customer_lat                      0\n",
            "customer_long                     0\n",
            "coupon_discount                   0\n",
            "order_total                      15\n",
            "season                            0\n",
            "is_expedited_delivery             0\n",
            "distance_to_nearest_warehouse    31\n",
            "latest_customer_review            0\n",
            "is_happy_customer                40\n",
            "dtype: int64\n"
          ]
        }
      ]
    },
    {
      "cell_type": "code",
      "source": [
        "# Display rows with missing values\n",
        "print(\"\\nRows with missing values:\")\n",
        "print(missing_data[missing_data.isnull().any(axis=1)])"
      ],
      "metadata": {
        "colab": {
          "base_uri": "https://localhost:8080/"
        },
        "outputId": "b5d91ffe-c8a6-4802-d96c-85c9e8f70120",
        "id": "x7jnAWuURear"
      },
      "execution_count": null,
      "outputs": [
        {
          "output_type": "stream",
          "name": "stdout",
          "text": [
            "\n",
            "Rows with missing values:\n",
            "      order_id   customer_id        date nearest_warehouse  \\\n",
            "2    ORD198226  ID2181275341  2019-05-12               NaN   \n",
            "4    ORD490839  ID1982329495  2019-04-04            Bakers   \n",
            "7    ORD413688  ID0176693430  2019-04-27         Nickolson   \n",
            "12   ORD342586  ID0636756265  2019-04-19               NaN   \n",
            "14   ORD421220  ID0304466089  2019-10-21               NaN   \n",
            "..         ...           ...         ...               ...   \n",
            "476  ORD082978  ID4957761347  2019-02-07               NaN   \n",
            "477  ORD497625  ID0060095861  2019-09-22            Bakers   \n",
            "481  ORD411174  ID0628761345  2019-02-24               NaN   \n",
            "485  ORD359769  ID0547586925  2019-12-26            Bakers   \n",
            "495  ORD463166  ID0575572031  2019-08-13         Nickolson   \n",
            "\n",
            "                                         shopping_cart  order_price  \\\n",
            "2           [('Universe Note', 2), ('Toshika 750', 2)]      15540.0   \n",
            "4    [('Olivia x460', 2), ('Thunder line', 2), ('iA...      12120.0   \n",
            "7    [('Lucent 330S', 2), ('Toshika 750', 2), ('iSt...          NaN   \n",
            "12   [('Universe Note', 1), ('Lucent 330S', 2), ('T...      11130.0   \n",
            "14   [('Thunder line', 1), ('iStream', 2), ('Olivia...       4930.0   \n",
            "..                                                 ...          ...   \n",
            "476  [('Alcon 10', 1), ('iAssist Line', 2), ('Lucen...      20220.0   \n",
            "477  [('Olivia x460', 2), ('Toshika 750', 1), ('Uni...      16530.0   \n",
            "481         [('Lucent 330S', 1), ('Universe Note', 2)]       8130.0   \n",
            "485  [('Olivia x460', 1), ('Alcon 10', 2), ('Thunde...          NaN   \n",
            "495        [('iAssist Line', 1), ('Universe Note', 1)]       5675.0   \n",
            "\n",
            "     delivery_charges  customer_lat  customer_long  coupon_discount  \\\n",
            "2               65.56    -37.810403     144.960810               25   \n",
            "4                 NaN    -37.802228     144.990599               15   \n",
            "7               81.00    -37.810747     144.963653               25   \n",
            "12              78.57    -37.820914     144.952137               15   \n",
            "14              72.98    -37.818224     144.964299               15   \n",
            "..                ...           ...            ...              ...   \n",
            "476             70.85    -37.824593     144.929618               15   \n",
            "477               NaN    -37.817692     144.991288               10   \n",
            "481             63.77    -37.808344     144.979053               10   \n",
            "485             72.81    -37.813744     144.987619                0   \n",
            "495             66.19    -37.824355     144.980221               25   \n",
            "\n",
            "     order_total  season  is_expedited_delivery  \\\n",
            "2       11720.56  Autumn                  False   \n",
            "4       10381.03  Autumn                   True   \n",
            "7            NaN  Autumn                   True   \n",
            "12       9539.07  Autumn                   True   \n",
            "14       4263.48  Spring                  False   \n",
            "..           ...     ...                    ...   \n",
            "476     17257.85  Summer                  False   \n",
            "477     14979.70  Spring                   True   \n",
            "481      7380.77  Summer                  False   \n",
            "485          NaN  Summer                  False   \n",
            "495      4322.44  Winter                  False   \n",
            "\n",
            "     distance_to_nearest_warehouse  \\\n",
            "2                           1.1927   \n",
            "4                           0.9559   \n",
            "7                           1.0160   \n",
            "12                             NaN   \n",
            "14                             NaN   \n",
            "..                             ...   \n",
            "476                            NaN   \n",
            "477                         0.9242   \n",
            "481                         1.4144   \n",
            "485                         0.7889   \n",
            "495                         1.1364   \n",
            "\n",
            "                                latest_customer_review  is_happy_customer  \n",
            "2                               four stars excellent !                1.0  \n",
            "4    three stars the screen is pretty small and har...                1.0  \n",
            "7    if you want a phone with a great battery this ...                1.0  \n",
            "12   three stars perfect - but cant get internet an...                1.0  \n",
            "14   good phone for great money i'm very happy with...                1.0  \n",
            "..                                                 ...                ...  \n",
            "476  will be returning bought verizon phone new. to...                0.0  \n",
            "477  five stars best flip phone on the market using...                1.0  \n",
            "481                  buyer beware it's not the real s8                0.0  \n",
            "485  great purchase my daughter loves the phone and...                1.0  \n",
            "495  love it! amazing phone! i purchased from wareh...                NaN  \n",
            "\n",
            "[150 rows x 16 columns]\n"
          ]
        }
      ]
    },
    {
      "cell_type": "code",
      "source": [
        "#  Summary statistics for numerical columns\n",
        "summary_statistics = missing_data.describe()\n",
        "print(\"Summary Statistics:\\n\", summary_statistics)"
      ],
      "metadata": {
        "colab": {
          "base_uri": "https://localhost:8080/"
        },
        "outputId": "8fc12656-cbda-4a6d-cb46-b949bf731b98",
        "id": "kReSY3ygRear"
      },
      "execution_count": null,
      "outputs": [
        {
          "output_type": "stream",
          "name": "stdout",
          "text": [
            "Summary Statistics:\n",
            "         order_price  delivery_charges  customer_lat  customer_long  \\\n",
            "count    485.000000        460.000000    500.000000     500.000000   \n",
            "mean   13520.154639         77.122326    -37.812292     144.966127   \n",
            "std     7807.896672         14.844337      0.007625       0.020865   \n",
            "min      580.000000         45.200000    -37.828904     144.920370   \n",
            "25%     6930.000000         65.850000    -37.818472     144.951614   \n",
            "50%    11830.000000         76.490000    -37.812372     144.963172   \n",
            "75%    19155.000000         83.520000    -37.805697     144.980832   \n",
            "max    39290.000000        112.470000    -37.792619     145.018623   \n",
            "\n",
            "       coupon_discount   order_total  distance_to_nearest_warehouse  \\\n",
            "count       500.000000    485.000000                     469.000000   \n",
            "mean         10.330000  12202.275258                       1.096292   \n",
            "std           8.431089   7102.824323                       0.481124   \n",
            "min           0.000000    661.900000                       0.050400   \n",
            "25%           5.000000   6465.540000                       0.772200   \n",
            "50%          10.000000  10836.280000                       1.052500   \n",
            "75%          15.000000  17356.620000                       1.417400   \n",
            "max          25.000000  37388.390000                       2.631500   \n",
            "\n",
            "       is_happy_customer  \n",
            "count         460.000000  \n",
            "mean            0.776087  \n",
            "std             0.417318  \n",
            "min             0.000000  \n",
            "25%             1.000000  \n",
            "50%             1.000000  \n",
            "75%             1.000000  \n",
            "max             1.000000  \n"
          ]
        }
      ]
    },
    {
      "cell_type": "code",
      "source": [
        "# Plot histograms for numerical columns to understand their distribution\n",
        "plt.figure(figsize=(14, 8))\n",
        "\n",
        "plt.subplot(2, 2, 1)\n",
        "sns.histplot(missing_data['order_price'], bins=30, kde=True)\n",
        "plt.title('Order Price Distribution')\n",
        "\n",
        "plt.subplot(2, 2, 2)\n",
        "sns.histplot(missing_data['delivery_charges'], bins=30, kde=True)\n",
        "plt.title('Delivery Charges Distribution')\n",
        "\n",
        "plt.subplot(2, 2, 3)\n",
        "sns.histplot(missing_data['order_total'], bins=30, kde=True)\n",
        "plt.title('Order Total Distribution')\n",
        "\n",
        "plt.subplot(2, 2, 4)\n",
        "sns.histplot(missing_data['distance_to_nearest_warehouse'], bins=30, kde=True)\n",
        "plt.title('Distance to Nearest Warehouse Distribution')\n",
        "\n",
        "plt.tight_layout()\n",
        "plt.show()"
      ],
      "metadata": {
        "colab": {
          "base_uri": "https://localhost:8080/",
          "height": 446
        },
        "outputId": "bf3e3379-9f09-47e1-fb9a-5ff500711190",
        "id": "SWX3dAM8Reas"
      },
      "execution_count": null,
      "outputs": [
        {
          "output_type": "display_data",
          "data": {
            "text/plain": [
              "<Figure size 1400x800 with 4 Axes>"
            ],
            "image/png": "[encoded data removed]"
          },
          "metadata": {}
        }
      ]
    },
    {
      "cell_type": "markdown",
      "source": [
        "The main patterns shown in the charts are as follows:\n",
        "\n",
        "1. **Order Price Distribution**: Higher prices gradually decline, with the majority of orders falling between 5,000 and 15,000.\n",
        "The distribution of delivery charges is bimodal, with peaks at 65–70 and 75–80, indicating different levels of delivery fees.\n",
        "3. **Order Total Distribution** - Most totals fall between 5,000 and 15,000, which is comparable to order price.\n",
        "4. **Distance to Nearest Warehouse** - The majority of clients are situated within a one-kilometer radius of a warehouse, while a smaller percentage are farther away.\n",
        "\n",
        "These patterns draw attention to typical price ranges, shipping fee schedules, and warehouse accessibility.\n"
      ],
      "metadata": {
        "id": "OqA1fPuIVfUW"
      }
    },
    {
      "cell_type": "markdown",
      "source": [
        "<div class=\"alert alert-block alert-warning\">\n",
        "\n",
        "# 4.2.  Missing values<a class=\"anchor\" name=\"miss\"></a>\n",
        "    \n",
        "</div>"
      ],
      "metadata": {
        "id": "HqEPUF-ae3qV"
      }
    },
    {
      "cell_type": "code",
      "source": [
        "missing_data.isnull().sum()"
      ],
      "metadata": {
        "id": "omV6UKZbWnsE",
        "colab": {
          "base_uri": "https://localhost:8080/",
          "height": 585
        },
        "outputId": "061ccbd4-f49d-486a-879e-ab57cad70755"
      },
      "execution_count": null,
      "outputs": [
        {
          "output_type": "execute_result",
          "data": {
            "text/plain": [
              "order_id                          0\n",
              "customer_id                       0\n",
              "date                              0\n",
              "nearest_warehouse                55\n",
              "shopping_cart                     0\n",
              "order_price                      15\n",
              "delivery_charges                 40\n",
              "customer_lat                      0\n",
              "customer_long                     0\n",
              "coupon_discount                   0\n",
              "order_total                      15\n",
              "season                            0\n",
              "is_expedited_delivery             0\n",
              "distance_to_nearest_warehouse    31\n",
              "latest_customer_review            0\n",
              "is_happy_customer                40\n",
              "dtype: int64"
            ],
            "text/html": [
              "<div>\n",
              "<style scoped>\n",
              "    .dataframe tbody tr th:only-of-type {\n",
              "        vertical-align: middle;\n",
              "    }\n",
              "\n",
              "    .dataframe tbody tr th {\n",
              "        vertical-align: top;\n",
              "    }\n",
              "\n",
              "    .dataframe thead th {\n",
              "        text-align: right;\n",
              "    }\n",
              "</style>\n",
              "<table border=\"1\" class=\"dataframe\">\n",
              "  <thead>\n",
              "    <tr style=\"text-align: right;\">\n",
              "      <th></th>\n",
              "      <th>0</th>\n",
              "    </tr>\n",
              "  </thead>\n",
              "  <tbody>\n",
              "    <tr>\n",
              "      <th>order_id</th>\n",
              "      <td>0</td>\n",
              "    </tr>\n",
              "    <tr>\n",
              "      <th>customer_id</th>\n",
              "      <td>0</td>\n",
              "    </tr>\n",
              "    <tr>\n",
              "      <th>date</th>\n",
              "      <td>0</td>\n",
              "    </tr>\n",
              "    <tr>\n",
              "      <th>nearest_warehouse</th>\n",
              "      <td>55</td>\n",
              "    </tr>\n",
              "    <tr>\n",
              "      <th>shopping_cart</th>\n",
              "      <td>0</td>\n",
              "    </tr>\n",
              "    <tr>\n",
              "      <th>order_price</th>\n",
              "      <td>15</td>\n",
              "    </tr>\n",
              "    <tr>\n",
              "      <th>delivery_charges</th>\n",
              "      <td>40</td>\n",
              "    </tr>\n",
              "    <tr>\n",
              "      <th>customer_lat</th>\n",
              "      <td>0</td>\n",
              "    </tr>\n",
              "    <tr>\n",
              "      <th>customer_long</th>\n",
              "      <td>0</td>\n",
              "    </tr>\n",
              "    <tr>\n",
              "      <th>coupon_discount</th>\n",
              "      <td>0</td>\n",
              "    </tr>\n",
              "    <tr>\n",
              "      <th>order_total</th>\n",
              "      <td>15</td>\n",
              "    </tr>\n",
              "    <tr>\n",
              "      <th>season</th>\n",
              "      <td>0</td>\n",
              "    </tr>\n",
              "    <tr>\n",
              "      <th>is_expedited_delivery</th>\n",
              "      <td>0</td>\n",
              "    </tr>\n",
              "    <tr>\n",
              "      <th>distance_to_nearest_warehouse</th>\n",
              "      <td>31</td>\n",
              "    </tr>\n",
              "    <tr>\n",
              "      <th>latest_customer_review</th>\n",
              "      <td>0</td>\n",
              "    </tr>\n",
              "    <tr>\n",
              "      <th>is_happy_customer</th>\n",
              "      <td>40</td>\n",
              "    </tr>\n",
              "  </tbody>\n",
              "</table>\n",
              "</div><br><label><b>dtype:</b> int64</label>"
            ]
          },
          "metadata": {},
          "execution_count": 50
        }
      ]
    },
    {
      "cell_type": "markdown",
      "source": [
        "As we can see from the above, it appears there are missing columns in following columns-\n",
        "\n",
        "- nearest_warehouse\n",
        "- order_price\n",
        "- delivery_charges\n",
        "- order_total\n",
        "- distance_to_nearest_warehouse\n",
        "- is_happy_customer\n",
        "\n",
        "We will continue understanding these missing values and imputing them with appropriate values"
      ],
      "metadata": {
        "id": "epXHwqdSe2I3"
      }
    },
    {
      "cell_type": "markdown",
      "source": [
        "## Summary Statistics"
      ],
      "metadata": {
        "id": "DJHExJFJhDWY"
      }
    },
    {
      "cell_type": "code",
      "source": [
        "missing_data.describe()"
      ],
      "metadata": {
        "colab": {
          "base_uri": "https://localhost:8080/",
          "height": 320
        },
        "id": "cHbkseDahFSm",
        "outputId": "0efec49b-a909-4063-c571-37e2ca465fa5"
      },
      "execution_count": null,
      "outputs": [
        {
          "output_type": "execute_result",
          "data": {
            "text/plain": [
              "        order_price  delivery_charges  customer_lat  customer_long  \\\n",
              "count    485.000000        460.000000    500.000000     500.000000   \n",
              "mean   13520.154639         77.122326    -37.812292     144.966127   \n",
              "std     7807.896672         14.844337      0.007625       0.020865   \n",
              "min      580.000000         45.200000    -37.828904     144.920370   \n",
              "25%     6930.000000         65.850000    -37.818472     144.951614   \n",
              "50%    11830.000000         76.490000    -37.812372     144.963172   \n",
              "75%    19155.000000         83.520000    -37.805697     144.980832   \n",
              "max    39290.000000        112.470000    -37.792619     145.018623   \n",
              "\n",
              "       coupon_discount   order_total  distance_to_nearest_warehouse  \\\n",
              "count       500.000000    485.000000                     469.000000   \n",
              "mean         10.330000  12202.275258                       1.096292   \n",
              "std           8.431089   7102.824323                       0.481124   \n",
              "min           0.000000    661.900000                       0.050400   \n",
              "25%           5.000000   6465.540000                       0.772200   \n",
              "50%          10.000000  10836.280000                       1.052500   \n",
              "75%          15.000000  17356.620000                       1.417400   \n",
              "max          25.000000  37388.390000                       2.631500   \n",
              "\n",
              "       is_happy_customer  \n",
              "count         460.000000  \n",
              "mean            0.776087  \n",
              "std             0.417318  \n",
              "min             0.000000  \n",
              "25%             1.000000  \n",
              "50%             1.000000  \n",
              "75%             1.000000  \n",
              "max             1.000000  "
            ],
            "text/html": [
              "\n",
              "  <div id=\"df-7f588018-dff0-40b7-8a83-f5c3c8fffe6d\" class=\"colab-df-container\">\n",
              "    <div>\n",
              "<style scoped>\n",
              "    .dataframe tbody tr th:only-of-type {\n",
              "        vertical-align: middle;\n",
              "    }\n",
              "\n",
              "    .dataframe tbody tr th {\n",
              "        vertical-align: top;\n",
              "    }\n",
              "\n",
              "    .dataframe thead th {\n",
              "        text-align: right;\n",
              "    }\n",
              "</style>\n",
              "<table border=\"1\" class=\"dataframe\">\n",
              "  <thead>\n",
              "    <tr style=\"text-align: right;\">\n",
              "      <th></th>\n",
              "      <th>order_price</th>\n",
              "      <th>delivery_charges</th>\n",
              "      <th>customer_lat</th>\n",
              "      <th>customer_long</th>\n",
              "      <th>coupon_discount</th>\n",
              "      <th>order_total</th>\n",
              "      <th>distance_to_nearest_warehouse</th>\n",
              "      <th>is_happy_customer</th>\n",
              "    </tr>\n",
              "  </thead>\n",
              "  <tbody>\n",
              "    <tr>\n",
              "      <th>count</th>\n",
              "      <td>485.000000</td>\n",
              "      <td>460.000000</td>\n",
              "      <td>500.000000</td>\n",
              "      <td>500.000000</td>\n",
              "      <td>500.000000</td>\n",
              "      <td>485.000000</td>\n",
              "      <td>469.000000</td>\n",
              "      <td>460.000000</td>\n",
              "    </tr>\n",
              "    <tr>\n",
              "      <th>mean</th>\n",
              "      <td>13520.154639</td>\n",
              "      <td>77.122326</td>\n",
              "      <td>-37.812292</td>\n",
              "      <td>144.966127</td>\n",
              "      <td>10.330000</td>\n",
              "      <td>12202.275258</td>\n",
              "      <td>1.096292</td>\n",
              "      <td>0.776087</td>\n",
              "    </tr>\n",
              "    <tr>\n",
              "      <th>std</th>\n",
              "      <td>7807.896672</td>\n",
              "      <td>14.844337</td>\n",
              "      <td>0.007625</td>\n",
              "      <td>0.020865</td>\n",
              "      <td>8.431089</td>\n",
              "      <td>7102.824323</td>\n",
              "      <td>0.481124</td>\n",
              "      <td>0.417318</td>\n",
              "    </tr>\n",
              "    <tr>\n",
              "      <th>min</th>\n",
              "      <td>580.000000</td>\n",
              "      <td>45.200000</td>\n",
              "      <td>-37.828904</td>\n",
              "      <td>144.920370</td>\n",
              "      <td>0.000000</td>\n",
              "      <td>661.900000</td>\n",
              "      <td>0.050400</td>\n",
              "      <td>0.000000</td>\n",
              "    </tr>\n",
              "    <tr>\n",
              "      <th>25%</th>\n",
              "      <td>6930.000000</td>\n",
              "      <td>65.850000</td>\n",
              "      <td>-37.818472</td>\n",
              "      <td>144.951614</td>\n",
              "      <td>5.000000</td>\n",
              "      <td>6465.540000</td>\n",
              "      <td>0.772200</td>\n",
              "      <td>1.000000</td>\n",
              "    </tr>\n",
              "    <tr>\n",
              "      <th>50%</th>\n",
              "      <td>11830.000000</td>\n",
              "      <td>76.490000</td>\n",
              "      <td>-37.812372</td>\n",
              "      <td>144.963172</td>\n",
              "      <td>10.000000</td>\n",
              "      <td>10836.280000</td>\n",
              "      <td>1.052500</td>\n",
              "      <td>1.000000</td>\n",
              "    </tr>\n",
              "    <tr>\n",
              "      <th>75%</th>\n",
              "      <td>19155.000000</td>\n",
              "      <td>83.520000</td>\n",
              "      <td>-37.805697</td>\n",
              "      <td>144.980832</td>\n",
              "      <td>15.000000</td>\n",
              "      <td>17356.620000</td>\n",
              "      <td>1.417400</td>\n",
              "      <td>1.000000</td>\n",
              "    </tr>\n",
              "    <tr>\n",
              "      <th>max</th>\n",
              "      <td>39290.000000</td>\n",
              "      <td>112.470000</td>\n",
              "      <td>-37.792619</td>\n",
              "      <td>145.018623</td>\n",
              "      <td>25.000000</td>\n",
              "      <td>37388.390000</td>\n",
              "      <td>2.631500</td>\n",
              "      <td>1.000000</td>\n",
              "    </tr>\n",
              "  </tbody>\n",
              "</table>\n",
              "</div>\n",
              "    <div class=\"colab-df-buttons\">\n",
              "\n",
              "  <div class=\"colab-df-container\">\n",
              "    <button class=\"colab-df-convert\" onclick=\"convertToInteractive('df-7f588018-dff0-40b7-8a83-f5c3c8fffe6d')\"\n",
              "            title=\"Convert this dataframe to an interactive table.\"\n",
              "            style=\"display:none;\">\n",
              "\n",
              "  <svg xmlns=\"http://www.w3.org/2000/svg\" height=\"24px\" viewBox=\"0 -960 960 960\">\n",
              "    <path d=\"M120-120v-720h720v720H120Zm60-500h600v-160H180v160Zm220 220h160v-160H400v160Zm0 220h160v-160H400v160ZM180-400h160v-160H180v160Zm440 0h160v-160H620v160ZM180-180h160v-160H180v160Zm440 0h160v-160H620v160Z\"/>\n",
              "  </svg>\n",
              "    </button>\n",
              "\n",
              "  <style>\n",
              "    .colab-df-container {\n",
              "      display:flex;\n",
              "      gap: 12px;\n",
              "    }\n",
              "\n",
              "    .colab-df-convert {\n",
              "      background-color: #E8F0FE;\n",
              "      border: none;\n",
              "      border-radius: 50%;\n",
              "      cursor: pointer;\n",
              "      display: none;\n",
              "      fill: #1967D2;\n",
              "      height: 32px;\n",
              "      padding: 0 0 0 0;\n",
              "      width: 32px;\n",
              "    }\n",
              "\n",
              "    .colab-df-convert:hover {\n",
              "      background-color: #E2EBFA;\n",
              "      box-shadow: 0px 1px 2px rgba(60, 64, 67, 0.3), 0px 1px 3px 1px rgba(60, 64, 67, 0.15);\n",
              "      fill: #174EA6;\n",
              "    }\n",
              "\n",
              "    .colab-df-buttons div {\n",
              "      margin-bottom: 4px;\n",
              "    }\n",
              "\n",
              "    [theme=dark] .colab-df-convert {\n",
              "      background-color: #3B4455;\n",
              "      fill: #D2E3FC;\n",
              "    }\n",
              "\n",
              "    [theme=dark] .colab-df-convert:hover {\n",
              "      background-color: #434B5C;\n",
              "      box-shadow: 0px 1px 3px 1px rgba(0, 0, 0, 0.15);\n",
              "      filter: drop-shadow(0px 1px 2px rgba(0, 0, 0, 0.3));\n",
              "      fill: #FFFFFF;\n",
              "    }\n",
              "  </style>\n",
              "\n",
              "    <script>\n",
              "      const buttonEl =\n",
              "        document.querySelector('#df-7f588018-dff0-40b7-8a83-f5c3c8fffe6d button.colab-df-convert');\n",
              "      buttonEl.style.display =\n",
              "        google.colab.kernel.accessAllowed ? 'block' : 'none';\n",
              "\n",
              "      async function convertToInteractive(key) {\n",
              "        const element = document.querySelector('#df-7f588018-dff0-40b7-8a83-f5c3c8fffe6d');\n",
              "        const dataTable =\n",
              "          await google.colab.kernel.invokeFunction('convertToInteractive',\n",
              "                                                    [key], {});\n",
              "        if (!dataTable) return;\n",
              "\n",
              "        const docLinkHtml = 'Like what you see? Visit the ' +\n",
              "          '<a target=\"_blank\" href=https://colab.research.google.com/notebooks/data_table.ipynb>data table notebook</a>'\n",
              "          + ' to learn more about interactive tables.';\n",
              "        element.innerHTML = '';\n",
              "        dataTable['output_type'] = 'display_data';\n",
              "        await google.colab.output.renderOutput(dataTable, element);\n",
              "        const docLink = document.createElement('div');\n",
              "        docLink.innerHTML = docLinkHtml;\n",
              "        element.appendChild(docLink);\n",
              "      }\n",
              "    </script>\n",
              "  </div>\n",
              "\n",
              "\n",
              "<div id=\"df-08cd5b05-a874-4cbe-b8d5-d54f15bd2ab1\">\n",
              "  <button class=\"colab-df-quickchart\" onclick=\"quickchart('df-08cd5b05-a874-4cbe-b8d5-d54f15bd2ab1')\"\n",
              "            title=\"Suggest charts\"\n",
              "            style=\"display:none;\">\n",
              "\n",
              "<svg xmlns=\"http://www.w3.org/2000/svg\" height=\"24px\"viewBox=\"0 0 24 24\"\n",
              "     width=\"24px\">\n",
              "    <g>\n",
              "        <path d=\"M19 3H5c-1.1 0-2 .9-2 2v14c0 1.1.9 2 2 2h14c1.1 0 2-.9 2-2V5c0-1.1-.9-2-2-2zM9 17H7v-7h2v7zm4 0h-2V7h2v10zm4 0h-2v-4h2v4z\"/>\n",
              "    </g>\n",
              "</svg>\n",
              "  </button>\n",
              "\n",
              "<style>\n",
              "  .colab-df-quickchart {\n",
              "      --bg-color: #E8F0FE;\n",
              "      --fill-color: #1967D2;\n",
              "      --hover-bg-color: #E2EBFA;\n",
              "      --hover-fill-color: #174EA6;\n",
              "      --disabled-fill-color: #AAA;\n",
              "      --disabled-bg-color: #DDD;\n",
              "  }\n",
              "\n",
              "  [theme=dark] .colab-df-quickchart {\n",
              "      --bg-color: #3B4455;\n",
              "      --fill-color: #D2E3FC;\n",
              "      --hover-bg-color: #434B5C;\n",
              "      --hover-fill-color: #FFFFFF;\n",
              "      --disabled-bg-color: #3B4455;\n",
              "      --disabled-fill-color: #666;\n",
              "  }\n",
              "\n",
              "  .colab-df-quickchart {\n",
              "    background-color: var(--bg-color);\n",
              "    border: none;\n",
              "    border-radius: 50%;\n",
              "    cursor: pointer;\n",
              "    display: none;\n",
              "    fill: var(--fill-color);\n",
              "    height: 32px;\n",
              "    padding: 0;\n",
              "    width: 32px;\n",
              "  }\n",
              "\n",
              "  .colab-df-quickchart:hover {\n",
              "    background-color: var(--hover-bg-color);\n",
              "    box-shadow: 0 1px 2px rgba(60, 64, 67, 0.3), 0 1px 3px 1px rgba(60, 64, 67, 0.15);\n",
              "    fill: var(--button-hover-fill-color);\n",
              "  }\n",
              "\n",
              "  .colab-df-quickchart-complete:disabled,\n",
              "  .colab-df-quickchart-complete:disabled:hover {\n",
              "    background-color: var(--disabled-bg-color);\n",
              "    fill: var(--disabled-fill-color);\n",
              "    box-shadow: none;\n",
              "  }\n",
              "\n",
              "  .colab-df-spinner {\n",
              "    border: 2px solid var(--fill-color);\n",
              "    border-color: transparent;\n",
              "    border-bottom-color: var(--fill-color);\n",
              "    animation:\n",
              "      spin 1s steps(1) infinite;\n",
              "  }\n",
              "\n",
              "  @keyframes spin {\n",
              "    0% {\n",
              "      border-color: transparent;\n",
              "      border-bottom-color: var(--fill-color);\n",
              "      border-left-color: var(--fill-color);\n",
              "    }\n",
              "    20% {\n",
              "      border-color: transparent;\n",
              "      border-left-color: var(--fill-color);\n",
              "      border-top-color: var(--fill-color);\n",
              "    }\n",
              "    30% {\n",
              "      border-color: transparent;\n",
              "      border-left-color: var(--fill-color);\n",
              "      border-top-color: var(--fill-color);\n",
              "      border-right-color: var(--fill-color);\n",
              "    }\n",
              "    40% {\n",
              "      border-color: transparent;\n",
              "      border-right-color: var(--fill-color);\n",
              "      border-top-color: var(--fill-color);\n",
              "    }\n",
              "    60% {\n",
              "      border-color: transparent;\n",
              "      border-right-color: var(--fill-color);\n",
              "    }\n",
              "    80% {\n",
              "      border-color: transparent;\n",
              "      border-right-color: var(--fill-color);\n",
              "      border-bottom-color: var(--fill-color);\n",
              "    }\n",
              "    90% {\n",
              "      border-color: transparent;\n",
              "      border-bottom-color: var(--fill-color);\n",
              "    }\n",
              "  }\n",
              "</style>\n",
              "\n",
              "  <script>\n",
              "    async function quickchart(key) {\n",
              "      const quickchartButtonEl =\n",
              "        document.querySelector('#' + key + ' button');\n",
              "      quickchartButtonEl.disabled = true;  // To prevent multiple clicks.\n",
              "      quickchartButtonEl.classList.add('colab-df-spinner');\n",
              "      try {\n",
              "        const charts = await google.colab.kernel.invokeFunction(\n",
              "            'suggestCharts', [key], {});\n",
              "      } catch (error) {\n",
              "        console.error('Error during call to suggestCharts:', error);\n",
              "      }\n",
              "      quickchartButtonEl.classList.remove('colab-df-spinner');\n",
              "      quickchartButtonEl.classList.add('colab-df-quickchart-complete');\n",
              "    }\n",
              "    (() => {\n",
              "      let quickchartButtonEl =\n",
              "        document.querySelector('#df-08cd5b05-a874-4cbe-b8d5-d54f15bd2ab1 button');\n",
              "      quickchartButtonEl.style.display =\n",
              "        google.colab.kernel.accessAllowed ? 'block' : 'none';\n",
              "    })();\n",
              "  </script>\n",
              "</div>\n",
              "\n",
              "    </div>\n",
              "  </div>\n"
            ],
            "application/vnd.google.colaboratory.intrinsic+json": {
              "type": "dataframe",
              "summary": "{\n  \"name\": \"missing_data\",\n  \"rows\": 8,\n  \"fields\": [\n    {\n      \"column\": \"order_price\",\n      \"properties\": {\n        \"dtype\": \"number\",\n        \"std\": 12552.460793376244,\n        \"min\": 485.0,\n        \"max\": 39290.0,\n        \"num_unique_values\": 8,\n        \"samples\": [\n          13520.154639175258,\n          11830.0,\n          485.0\n        ],\n        \"semantic_type\": \"\",\n        \"description\": \"\"\n      }\n    },\n    {\n      \"column\": \"delivery_charges\",\n      \"properties\": {\n        \"dtype\": \"number\",\n        \"std\": 141.5369869077814,\n        \"min\": 14.844336758279834,\n        \"max\": 460.0,\n        \"num_unique_values\": 8,\n        \"samples\": [\n          77.12232608695652,\n          76.49,\n          460.0\n        ],\n        \"semantic_type\": \"\",\n        \"description\": \"\"\n      }\n    },\n    {\n      \"column\": \"customer_lat\",\n      \"properties\": {\n        \"dtype\": \"number\",\n        \"std\": 188.6996346049822,\n        \"min\": -37.8289044,\n        \"max\": 500.0,\n        \"num_unique_values\": 8,\n        \"samples\": [\n          -37.8122923992,\n          -37.81237180000001,\n          500.0\n        ],\n        \"semantic_type\": \"\",\n        \"description\": \"\"\n      }\n    },\n    {\n      \"column\": \"customer_long\",\n      \"properties\": {\n        \"dtype\": \"number\",\n        \"std\": 142.19745994187974,\n        \"min\": 0.0208651802287497,\n        \"max\": 500.0,\n        \"num_unique_values\": 8,\n        \"samples\": [\n          144.96612732039998,\n          144.96317155,\n          500.0\n        ],\n        \"semantic_type\": \"\",\n        \"description\": \"\"\n      }\n    },\n    {\n      \"column\": \"coupon_discount\",\n      \"properties\": {\n        \"dtype\": \"number\",\n        \"std\": 173.20614007564686,\n        \"min\": 0.0,\n        \"max\": 500.0,\n        \"num_unique_values\": 8,\n        \"samples\": [\n          10.33,\n          10.0,\n          500.0\n        ],\n        \"semantic_type\": \"\",\n        \"description\": \"\"\n      }\n    },\n    {\n      \"column\": \"order_total\",\n      \"properties\": {\n        \"dtype\": \"number\",\n        \"std\": 11885.687212288442,\n        \"min\": 485.0,\n        \"max\": 37388.39,\n        \"num_unique_values\": 8,\n        \"samples\": [\n          12202.275257731959,\n          10836.28,\n          485.0\n        ],\n        \"semantic_type\": \"\",\n        \"description\": \"\"\n      }\n    },\n    {\n      \"column\": \"distance_to_nearest_warehouse\",\n      \"properties\": {\n        \"dtype\": \"number\",\n        \"std\": 165.43940357957334,\n        \"min\": 0.0504,\n        \"max\": 469.0,\n        \"num_unique_values\": 8,\n        \"samples\": [\n          1.0962923240938167,\n          1.0525,\n          469.0\n        ],\n        \"semantic_type\": \"\",\n        \"description\": \"\"\n      }\n    },\n    {\n      \"column\": \"is_happy_customer\",\n      \"properties\": {\n        \"dtype\": \"number\",\n        \"std\": 162.37265930356483,\n        \"min\": 0.0,\n        \"max\": 460.0,\n        \"num_unique_values\": 5,\n        \"samples\": [\n          0.7760869565217391,\n          1.0,\n          0.41731833098005744\n        ],\n        \"semantic_type\": \"\",\n        \"description\": \"\"\n      }\n    }\n  ]\n}"
            }
          },
          "metadata": {},
          "execution_count": 51
        }
      ]
    },
    {
      "cell_type": "code",
      "source": [
        "missing_data.shape"
      ],
      "metadata": {
        "colab": {
          "base_uri": "https://localhost:8080/"
        },
        "id": "tsKK3vEGhKOP",
        "outputId": "12176f3b-66db-4457-856b-6b2500bbdb9c"
      },
      "execution_count": null,
      "outputs": [
        {
          "output_type": "execute_result",
          "data": {
            "text/plain": [
              "(500, 16)"
            ]
          },
          "metadata": {},
          "execution_count": 52
        }
      ]
    },
    {
      "cell_type": "code",
      "source": [
        "missing_data.info()"
      ],
      "metadata": {
        "colab": {
          "base_uri": "https://localhost:8080/"
        },
        "id": "vbBDTqYThN0z",
        "outputId": "e7fa293c-1145-4384-a105-077c388c0e72"
      },
      "execution_count": null,
      "outputs": [
        {
          "output_type": "stream",
          "name": "stdout",
          "text": [
            "<class 'pandas.core.frame.DataFrame'>\n",
            "RangeIndex: 500 entries, 0 to 499\n",
            "Data columns (total 16 columns):\n",
            " #   Column                         Non-Null Count  Dtype  \n",
            "---  ------                         --------------  -----  \n",
            " 0   order_id                       500 non-null    object \n",
            " 1   customer_id                    500 non-null    object \n",
            " 2   date                           500 non-null    object \n",
            " 3   nearest_warehouse              445 non-null    object \n",
            " 4   shopping_cart                  500 non-null    object \n",
            " 5   order_price                    485 non-null    float64\n",
            " 6   delivery_charges               460 non-null    float64\n",
            " 7   customer_lat                   500 non-null    float64\n",
            " 8   customer_long                  500 non-null    float64\n",
            " 9   coupon_discount                500 non-null    int64  \n",
            " 10  order_total                    485 non-null    float64\n",
            " 11  season                         500 non-null    object \n",
            " 12  is_expedited_delivery          500 non-null    bool   \n",
            " 13  distance_to_nearest_warehouse  469 non-null    float64\n",
            " 14  latest_customer_review         500 non-null    object \n",
            " 15  is_happy_customer              460 non-null    float64\n",
            "dtypes: bool(1), float64(7), int64(1), object(7)\n",
            "memory usage: 59.2+ KB\n"
          ]
        }
      ]
    },
    {
      "cell_type": "markdown",
      "source": [
        "<div class=\"alert alert-block alert-warning\">\n",
        "\n",
        "# 4.3.  Column wise Inspection<a class=\"anchor\" name=\"col2\"></a>\n",
        "    \n",
        "</div>"
      ],
      "metadata": {
        "id": "ucVc19Ylq4xv"
      }
    },
    {
      "cell_type": "markdown",
      "source": [
        "## nearest_warehouse"
      ],
      "metadata": {
        "id": "8fvRuhypfU94"
      }
    },
    {
      "cell_type": "markdown",
      "source": [
        "### Data Distribution"
      ],
      "metadata": {
        "id": "pTtdsY-Dfctt"
      }
    },
    {
      "cell_type": "code",
      "source": [
        "import seaborn as sns\n",
        "import matplotlib.pyplot as plt\n",
        "\n",
        "# Plotting a basic histogram for the 'nearest_warehouse' column using seaborn\n",
        "plt.figure(figsize=(10,6))\n",
        "sns.histplot(missing_data['nearest_warehouse'], bins=30, kde=True, color='skyblue')\n",
        "plt.title('Histogram of Nearest Warehouse')\n",
        "plt.xlabel('Nearest Warehouse')\n",
        "plt.ylabel('Frequency')\n",
        "plt.xticks(rotation=45)\n",
        "plt.tight_layout()\n",
        "\n",
        "# Show the plot\n",
        "plt.show()"
      ],
      "metadata": {
        "colab": {
          "base_uri": "https://localhost:8080/",
          "height": 467
        },
        "id": "AhCqW3IKfYld",
        "outputId": "daad5fde-9286-468a-a488-7b377a3d34c2"
      },
      "execution_count": null,
      "outputs": [
        {
          "output_type": "display_data",
          "data": {
            "text/plain": [
              "<Figure size 1000x600 with 1 Axes>"
            ],
            "image/png": "[encoded data removed]"
          },
          "metadata": {}
        }
      ]
    },
    {
      "cell_type": "markdown",
      "source": [
        "The frequency of orders based on the closest warehouse is shown by this histogram:\n",
        "\n",
        "With roughly 150 and 300 orders, respectively, the **Nickolson** and **Thompson** warehouses have the greatest order frequencies.\n",
        "Less than 100 orders are placed at the **Bakers** warehouse, which has the lowest order frequency.\n",
        "\n",
        "This implies that, in comparison to Bakers, the Nickolson and Thompson warehouses serve a larger clientele.\n"
      ],
      "metadata": {
        "id": "oXJnhBePVweA"
      }
    },
    {
      "cell_type": "markdown",
      "source": [
        "## Import the warehouse data"
      ],
      "metadata": {
        "id": "bgw1PmRLhgBk"
      }
    },
    {
      "cell_type": "code",
      "source": [
        "# Load the warehouse data from the CSV file\n",
        "warehouses_data_path = '/content/drive/Shareddrives/FIT5196_S2_2024/GroupAssessment2/warehouses.csv'\n",
        "warehouse = pd.read_csv(warehouses_data_path)"
      ],
      "metadata": {
        "id": "vK3EgBkFhi5L"
      },
      "execution_count": null,
      "outputs": []
    },
    {
      "cell_type": "markdown",
      "source": [
        "We load this to proceed to Calculate the enarest warehouse using the Haversine formula provided in the specs."
      ],
      "metadata": {
        "id": "CVEMy6bMj6Cr"
      }
    },
    {
      "cell_type": "code",
      "source": [
        "import numpy as np\n",
        "import pandas as pd\n",
        "\n",
        "# Define the Haversine formula to calculate distance between two points on the Earth's surface\n",
        "def haversine(lat1, lon1, lat2, lon2):\n",
        "    # Convert latitude and longitude from degrees to radians\n",
        "    lat1, lon1, lat2, lon2 = map(np.radians, [lat1, lon1, lat2, lon2])\n",
        "\n",
        "    # Haversine formula\n",
        "    dlat = lat2 - lat1\n",
        "    dlon = lon2 - lon1\n",
        "    a = np.sin(dlat / 2)**2 + np.cos(lat1) * np.cos(lat2) * np.sin(dlon / 2)**2\n",
        "    c = 2 * np.arcsin(np.sqrt(a))\n",
        "    r = 6371  # Radius of Earth in kilometers\n",
        "    return c * r\n",
        "\n",
        "# Define warehouse coordinates\n",
        "warehouses = pd.DataFrame({\n",
        "    'names': ['Nickolson', 'Thompson', 'Bakers'],\n",
        "    'lat': [-37.818595, -37.8126732, -37.8099961],\n",
        "    'lon': [144.969551, 144.9470689, 144.995232]\n",
        "})\n",
        "\n",
        "# Distance calculation\n",
        "distances = pd.DataFrame({\n",
        "    warehouse: haversine(missing_data['customer_lat'], missing_data['customer_long'], warehouses.loc[i, 'lat'], warehouses.loc[i, 'lon'])\n",
        "    for i, warehouse in enumerate(warehouses['names'])\n",
        "})\n",
        "\n",
        "# Impute missing 'nearest_warehouse' values based on the minimum distance\n",
        "missing_data['nearest_warehouse'] = missing_data['nearest_warehouse'].fillna(distances.idxmin(axis=1))\n",
        "\n",
        "# Displaying the imputed data\n",
        "print(missing_data)"
      ],
      "metadata": {
        "colab": {
          "base_uri": "https://localhost:8080/"
        },
        "id": "7Tqzr6nBkDuq",
        "outputId": "d1da8b5e-1ea9-4345-f70b-ad09920bf7e0"
      },
      "execution_count": null,
      "outputs": [
        {
          "output_type": "stream",
          "name": "stdout",
          "text": [
            "      order_id   customer_id        date nearest_warehouse  \\\n",
            "0    ORD412838  ID0591415025  2019-01-25         Nickolson   \n",
            "1    ORD425624  ID0733678621  2019-12-10         Nickolson   \n",
            "2    ORD198226  ID2181275341  2019-05-12         Nickolson   \n",
            "3    ORD429072  ID0131247295  2019-05-20         Nickolson   \n",
            "4    ORD490839  ID1982329495  2019-04-04            Bakers   \n",
            "..         ...           ...         ...               ...   \n",
            "495  ORD463166  ID0575572031  2019-08-13         Nickolson   \n",
            "496  ORD090621  ID0591432434  2019-02-25         Nickolson   \n",
            "497  ORD407242  ID0247277203  2019-06-22          Thompson   \n",
            "498  ORD025849  ID0248746680  2019-06-17            Bakers   \n",
            "499  ORD076987  ID0711327758  2019-12-05          Thompson   \n",
            "\n",
            "                                         shopping_cart  order_price  \\\n",
            "0    [('Lucent 330S', 2), ('Toshika 750', 2), ('Oli...      13550.0   \n",
            "1    [('iStream', 2), ('Lucent 330S', 2), ('pearTV'...      15380.0   \n",
            "2           [('Universe Note', 2), ('Toshika 750', 2)]      15540.0   \n",
            "3            [('iAssist Line', 1), ('Toshika 750', 1)]       6545.0   \n",
            "4    [('Olivia x460', 2), ('Thunder line', 2), ('iA...      12120.0   \n",
            "..                                                 ...          ...   \n",
            "495        [('iAssist Line', 1), ('Universe Note', 1)]       5675.0   \n",
            "496              [('Lucent 330S', 1), ('Alcon 10', 1)]      10180.0   \n",
            "497  [('iAssist Line', 2), ('Thunder line', 1), ('C...       7490.0   \n",
            "498  [('iStream', 2), ('Lucent 330S', 2), ('pearTV'...       9070.0   \n",
            "499  [('Universe Note', 1), ('pearTV', 2), ('Alcon ...      25170.0   \n",
            "\n",
            "     delivery_charges  customer_lat  customer_long  coupon_discount  \\\n",
            "0               71.83    -37.819163     144.961103                0   \n",
            "1               97.93    -37.823848     144.982519               15   \n",
            "2               65.56    -37.810403     144.960810               25   \n",
            "3               80.43    -37.813720     144.961040               15   \n",
            "4                 NaN    -37.802228     144.990599               15   \n",
            "..                ...           ...            ...              ...   \n",
            "495             66.19    -37.824355     144.980221               25   \n",
            "496             70.48    -37.818659     144.965357                5   \n",
            "497             79.71    -37.805014     144.956786                5   \n",
            "498             62.19    -37.816386     144.991188               25   \n",
            "499             97.61    -37.806250     144.958002                5   \n",
            "\n",
            "     order_total  season  is_expedited_delivery  \\\n",
            "0       13621.83  Summer                  False   \n",
            "1       13170.93  Summer                   True   \n",
            "2       11720.56  Autumn                  False   \n",
            "3        5643.68  Autumn                   True   \n",
            "4       10381.03  Autumn                   True   \n",
            "..           ...     ...                    ...   \n",
            "495      4322.44  Winter                  False   \n",
            "496      9741.48  Summer                  False   \n",
            "497      7195.21  Winter                   True   \n",
            "498      6864.69  Winter                   True   \n",
            "499     24009.11  Summer                   True   \n",
            "\n",
            "     distance_to_nearest_warehouse  \\\n",
            "0                           0.7456   \n",
            "1                           1.2815   \n",
            "2                           1.1927   \n",
            "3                           0.9245   \n",
            "4                           0.9559   \n",
            "..                             ...   \n",
            "495                         1.1364   \n",
            "496                         0.3689   \n",
            "497                         1.2071   \n",
            "498                         0.7953   \n",
            "499                         1.1983   \n",
            "\n",
            "                                latest_customer_review  is_happy_customer  \n",
            "0    works great- awesome deal i was hesitant to pu...                  1  \n",
            "1    works on verizon wireless prepaid great phone....                  1  \n",
            "2                               four stars excellent !                  1  \n",
            "3    great value for the price i bought the phone f...                  1  \n",
            "4    three stars the screen is pretty small and har...                  1  \n",
            "..                                                 ...                ...  \n",
            "495  love it! amazing phone! i purchased from wareh...                  1  \n",
            "496  okayish its good for regular utility. its perf...                  1  \n",
            "497                        good pixel xl is very good.                  1  \n",
            "498           phone could not get turned on by carrier                  0  \n",
            "499  universe note 8 note 8 flawless! it looked bra...                  1  \n",
            "\n",
            "[500 rows x 16 columns]\n"
          ]
        }
      ]
    },
    {
      "cell_type": "code",
      "source": [
        "missing_data['nearest_warehouse'].isnull().sum()"
      ],
      "metadata": {
        "colab": {
          "base_uri": "https://localhost:8080/"
        },
        "id": "zJD2_7u2mFjC",
        "outputId": "6fb76f4e-8779-4cb9-d653-eedce244b72e"
      },
      "execution_count": null,
      "outputs": [
        {
          "output_type": "execute_result",
          "data": {
            "text/plain": [
              "0"
            ]
          },
          "metadata": {},
          "execution_count": 64
        }
      ]
    },
    {
      "cell_type": "markdown",
      "source": [
        "## Before -After"
      ],
      "metadata": {
        "id": "72cQe2QPkmGn"
      }
    },
    {
      "cell_type": "code",
      "source": [
        "# Display rows where 'nearest_warehouse' values were missing before imputation\n",
        "missing_before_imputation = missing_data[missing_data['nearest_warehouse'].isnull()]\n",
        "\n",
        "# After imputation, display the rows with imputed values for 'nearest_warehouse'\n",
        "missing_after_imputation = missing_data[missing_data['nearest_warehouse'].notnull()]\n",
        "\n",
        "# Display both before and after imputation\n",
        "print(\"Before Imputation:\")\n",
        "print(missing_before_imputation)\n",
        "\n",
        "print(\"\\nAfter Imputation:\")\n",
        "print(missing_after_imputation)"
      ],
      "metadata": {
        "colab": {
          "base_uri": "https://localhost:8080/"
        },
        "id": "w1C4vvn_kXWn",
        "outputId": "db9c6196-75aa-4a99-d7cb-f93f20570c65"
      },
      "execution_count": null,
      "outputs": [
        {
          "output_type": "stream",
          "name": "stdout",
          "text": [
            "Before Imputation:\n",
            "Empty DataFrame\n",
            "Columns: [order_id, customer_id, date, nearest_warehouse, shopping_cart, order_price, delivery_charges, customer_lat, customer_long, coupon_discount, order_total, season, is_expedited_delivery, distance_to_nearest_warehouse, latest_customer_review, is_happy_customer]\n",
            "Index: []\n",
            "\n",
            "After Imputation:\n",
            "      order_id   customer_id        date nearest_warehouse  \\\n",
            "0    ORD412838  ID0591415025  2019-01-25         Nickolson   \n",
            "1    ORD425624  ID0733678621  2019-12-10         Nickolson   \n",
            "2    ORD198226  ID2181275341  2019-05-12         Nickolson   \n",
            "3    ORD429072  ID0131247295  2019-05-20         Nickolson   \n",
            "4    ORD490839  ID1982329495  2019-04-04            Bakers   \n",
            "..         ...           ...         ...               ...   \n",
            "495  ORD463166  ID0575572031  2019-08-13         Nickolson   \n",
            "496  ORD090621  ID0591432434  2019-02-25         Nickolson   \n",
            "497  ORD407242  ID0247277203  2019-06-22          Thompson   \n",
            "498  ORD025849  ID0248746680  2019-06-17            Bakers   \n",
            "499  ORD076987  ID0711327758  2019-12-05          Thompson   \n",
            "\n",
            "                                         shopping_cart  order_price  \\\n",
            "0    [('Lucent 330S', 2), ('Toshika 750', 2), ('Oli...      13550.0   \n",
            "1    [('iStream', 2), ('Lucent 330S', 2), ('pearTV'...      15380.0   \n",
            "2           [('Universe Note', 2), ('Toshika 750', 2)]      15540.0   \n",
            "3            [('iAssist Line', 1), ('Toshika 750', 1)]       6545.0   \n",
            "4    [('Olivia x460', 2), ('Thunder line', 2), ('iA...      12120.0   \n",
            "..                                                 ...          ...   \n",
            "495        [('iAssist Line', 1), ('Universe Note', 1)]       5675.0   \n",
            "496              [('Lucent 330S', 1), ('Alcon 10', 1)]      10180.0   \n",
            "497  [('iAssist Line', 2), ('Thunder line', 1), ('C...       7490.0   \n",
            "498  [('iStream', 2), ('Lucent 330S', 2), ('pearTV'...       9070.0   \n",
            "499  [('Universe Note', 1), ('pearTV', 2), ('Alcon ...      25170.0   \n",
            "\n",
            "     delivery_charges  customer_lat  customer_long  coupon_discount  \\\n",
            "0               71.83    -37.819163     144.961103                0   \n",
            "1               97.93    -37.823848     144.982519               15   \n",
            "2               65.56    -37.810403     144.960810               25   \n",
            "3               80.43    -37.813720     144.961040               15   \n",
            "4                 NaN    -37.802228     144.990599               15   \n",
            "..                ...           ...            ...              ...   \n",
            "495             66.19    -37.824355     144.980221               25   \n",
            "496             70.48    -37.818659     144.965357                5   \n",
            "497             79.71    -37.805014     144.956786                5   \n",
            "498             62.19    -37.816386     144.991188               25   \n",
            "499             97.61    -37.806250     144.958002                5   \n",
            "\n",
            "     order_total  season  is_expedited_delivery  \\\n",
            "0       13621.83  Summer                  False   \n",
            "1       13170.93  Summer                   True   \n",
            "2       11720.56  Autumn                  False   \n",
            "3        5643.68  Autumn                   True   \n",
            "4       10381.03  Autumn                   True   \n",
            "..           ...     ...                    ...   \n",
            "495      4322.44  Winter                  False   \n",
            "496      9741.48  Summer                  False   \n",
            "497      7195.21  Winter                   True   \n",
            "498      6864.69  Winter                   True   \n",
            "499     24009.11  Summer                   True   \n",
            "\n",
            "     distance_to_nearest_warehouse  \\\n",
            "0                           0.7456   \n",
            "1                           1.2815   \n",
            "2                           1.1927   \n",
            "3                           0.9245   \n",
            "4                           0.9559   \n",
            "..                             ...   \n",
            "495                         1.1364   \n",
            "496                         0.3689   \n",
            "497                         1.2071   \n",
            "498                         0.7953   \n",
            "499                         1.1983   \n",
            "\n",
            "                                latest_customer_review  is_happy_customer  \n",
            "0    works great- awesome deal i was hesitant to pu...                  1  \n",
            "1    works on verizon wireless prepaid great phone....                  1  \n",
            "2                               four stars excellent !                  1  \n",
            "3    great value for the price i bought the phone f...                  1  \n",
            "4    three stars the screen is pretty small and har...                  1  \n",
            "..                                                 ...                ...  \n",
            "495  love it! amazing phone! i purchased from wareh...                  1  \n",
            "496  okayish its good for regular utility. its perf...                  1  \n",
            "497                        good pixel xl is very good.                  1  \n",
            "498           phone could not get turned on by carrier                  0  \n",
            "499  universe note 8 note 8 flawless! it looked bra...                  1  \n",
            "\n",
            "[500 rows x 16 columns]\n"
          ]
        }
      ]
    },
    {
      "cell_type": "markdown",
      "source": [
        "As we have now imputed the values to identify the nearest warehouses, we can proceed calculate and impute values for distance_to_nearest_warehouse-"
      ],
      "metadata": {
        "id": "eEuVJ2pSlKTy"
      }
    },
    {
      "cell_type": "markdown",
      "source": [
        "## distance_to_nearest_warehouse"
      ],
      "metadata": {
        "id": "HLrDtCn7mcNQ"
      }
    },
    {
      "cell_type": "code",
      "source": [
        "# Calculate distance for all records based on 'nearest_warehouse'\n",
        "def calculate_distance(row):\n",
        "    # Get the coordinates of the assigned nearest warehouse\n",
        "    warehouse_row = warehouses[warehouses['names'] == row['nearest_warehouse']]\n",
        "\n",
        "    if warehouse_row.empty:\n",
        "        return None  # If the warehouse name is missing or not matched, return None\n",
        "\n",
        "    warehouse_lat = warehouse_row['lat'].values[0]\n",
        "    warehouse_lon = warehouse_row['lon'].values[0]\n",
        "\n",
        "    # Calculate the distance using the Haversine formula\n",
        "    return haversine(row['customer_lat'], row['customer_long'], warehouse_lat, warehouse_lon)\n",
        "\n",
        "# Impute missing 'distance_to_nearest_warehouse' values\n",
        "missing_data['distance_to_nearest_warehouse'] = missing_data.apply(\n",
        "    lambda row: calculate_distance(row) if pd.isnull(row['distance_to_nearest_warehouse']) else row['distance_to_nearest_warehouse'], axis=1\n",
        ")\n",
        "\n",
        "# Displaying the imputed data\n",
        "print(missing_data[['order_id', 'nearest_warehouse', 'distance_to_nearest_warehouse']])"
      ],
      "metadata": {
        "colab": {
          "base_uri": "https://localhost:8080/"
        },
        "id": "jdEDEoVflXgl",
        "outputId": "df1ea4a2-db8a-4bd6-ef8b-ef2ddab25e89"
      },
      "execution_count": null,
      "outputs": [
        {
          "output_type": "stream",
          "name": "stdout",
          "text": [
            "      order_id nearest_warehouse  distance_to_nearest_warehouse\n",
            "0    ORD412838         Nickolson                         0.7456\n",
            "1    ORD425624         Nickolson                         1.2815\n",
            "2    ORD198226         Nickolson                         1.1927\n",
            "3    ORD429072         Nickolson                         0.9245\n",
            "4    ORD490839            Bakers                         0.9559\n",
            "..         ...               ...                            ...\n",
            "495  ORD463166         Nickolson                         1.1364\n",
            "496  ORD090621         Nickolson                         0.3689\n",
            "497  ORD407242          Thompson                         1.2071\n",
            "498  ORD025849            Bakers                         0.7953\n",
            "499  ORD076987          Thompson                         1.1983\n",
            "\n",
            "[500 rows x 3 columns]\n"
          ]
        }
      ]
    },
    {
      "cell_type": "code",
      "source": [
        "missing_data['distance_to_nearest_warehouse'].isnull().sum()"
      ],
      "metadata": {
        "colab": {
          "base_uri": "https://localhost:8080/"
        },
        "id": "PKSSSNnTlqla",
        "outputId": "1298974d-0aee-4319-9a63-4879c905947e"
      },
      "execution_count": null,
      "outputs": [
        {
          "output_type": "execute_result",
          "data": {
            "text/plain": [
              "0"
            ]
          },
          "metadata": {},
          "execution_count": 67
        }
      ]
    },
    {
      "cell_type": "markdown",
      "source": [
        "We have succesfully now imputed the distances to the nearest warehouses that were previously computed using Haversine formula."
      ],
      "metadata": {
        "id": "98KdvXCamMcJ"
      }
    },
    {
      "cell_type": "markdown",
      "source": [
        "## is_happy_customer"
      ],
      "metadata": {
        "id": "cySRy9hdngmP"
      }
    },
    {
      "cell_type": "code",
      "source": [
        "# Step 1: Install nltk and import the required libraries\n",
        "import nltk\n",
        "from nltk.sentiment.vader import SentimentIntensityAnalyzer\n",
        "\n",
        "# Download the VADER lexicon\n",
        "nltk.download('vader_lexicon')\n",
        "\n",
        "# Step 2: Initialize the sentiment analyzer\n",
        "sia = SentimentIntensityAnalyzer()\n",
        "\n",
        "# Step 3: Define a function to classify sentiment based on 'latest_customer_review'\n",
        "def classify_sentiment(review):\n",
        "    # Get the polarity scores\n",
        "    sentiment_score = sia.polarity_scores(review)\n",
        "\n",
        "    # Return 1 (happy) if compound score is >= 0.05, otherwise 0 (not happy)\n",
        "    if sentiment_score['compound'] >= 0.05:\n",
        "        return 1\n",
        "    else:\n",
        "        return 0\n",
        "\n",
        "# Step 4: Apply the sentiment analysis function to the 'latest_customer_review' column\n",
        "missing_data['is_happy_customer'] = missing_data['latest_customer_review'].apply(classify_sentiment)\n",
        "\n",
        "# Display the updated data\n",
        "print(missing_data[['latest_customer_review', 'is_happy_customer']].head())"
      ],
      "metadata": {
        "colab": {
          "base_uri": "https://localhost:8080/"
        },
        "id": "_J8hRfLdndYf",
        "outputId": "df310493-ce02-45b2-caeb-8dbf93539009"
      },
      "execution_count": null,
      "outputs": [
        {
          "output_type": "stream",
          "name": "stderr",
          "text": [
            "[nltk_data] Downloading package vader_lexicon to /root/nltk_data...\n",
            "[nltk_data]   Package vader_lexicon is already up-to-date!\n"
          ]
        },
        {
          "output_type": "stream",
          "name": "stdout",
          "text": [
            "                              latest_customer_review  is_happy_customer\n",
            "0  works great- awesome deal i was hesitant to pu...                  1\n",
            "1  works on verizon wireless prepaid great phone....                  1\n",
            "2                             four stars excellent !                  1\n",
            "3  great value for the price i bought the phone f...                  1\n",
            "4  three stars the screen is pretty small and har...                  1\n"
          ]
        }
      ]
    },
    {
      "cell_type": "code",
      "source": [
        "missing_data['is_happy_customer'].isnull().sum()"
      ],
      "metadata": {
        "colab": {
          "base_uri": "https://localhost:8080/"
        },
        "id": "tH1udVjenlnn",
        "outputId": "eff3315c-a34a-4274-df86-321d1c719171"
      },
      "execution_count": null,
      "outputs": [
        {
          "output_type": "execute_result",
          "data": {
            "text/plain": [
              "0"
            ]
          },
          "metadata": {},
          "execution_count": 69
        }
      ]
    },
    {
      "cell_type": "markdown",
      "source": [
        "## Order_price"
      ],
      "metadata": {
        "id": "rebfHh53o76G"
      }
    },
    {
      "cell_type": "code",
      "source": [
        "import numpy as np\n",
        "import pandas as pd\n",
        "import ast  # To parse the shopping cart tuples\n",
        "\n",
        "# Step 1: Extract item quantities from the shopping_cart column\n",
        "def parse_shopping_cart(cart):\n",
        "    \"\"\"\n",
        "    This function parses the shopping cart and returns a list of tuples with (item, quantity).\n",
        "    Example cart: [('item1', 2), ('item2', 1)] -> returns as-is\n",
        "    \"\"\"\n",
        "    try:\n",
        "        return ast.literal_eval(cart)  # Convert string representation of list of tuples to actual list of tuples\n",
        "    except:\n",
        "        return []  # Return an empty list if parsing fails\n",
        "\n",
        "# Apply the parsing function to the shopping_cart column\n",
        "missing_data['shopping_cart_parsed'] = missing_data['shopping_cart'].apply(parse_shopping_cart)\n",
        "\n",
        "# Step 2: Set up a system of equations for known order prices\n",
        "# Create a dictionary to store the total quantities of each item for orders with known prices\n",
        "item_quantities = {}\n",
        "item_names = set()  # To store all unique item names\n",
        "\n",
        "for index, row in missing_data[~missing_data['order_price'].isnull()].iterrows():\n",
        "    cart = row['shopping_cart_parsed']\n",
        "    for item, quantity in cart:\n",
        "        if item not in item_quantities:\n",
        "            item_quantities[item] = []\n",
        "        item_quantities[item].append((index, quantity))\n",
        "        item_names.add(item)\n",
        "\n",
        "# Now we have item quantities per order, let's build the system of equations\n",
        "item_names = list(item_names)  # Convert to list for easier indexing\n",
        "\n",
        "# Step 3: Prepare the coefficient matrix and the order price vector\n",
        "num_orders = len(missing_data[~missing_data['order_price'].isnull()])  # Only consider orders with known prices\n",
        "num_items = len(item_names)\n",
        "\n",
        "A = np.zeros((num_orders, num_items))  # Coefficient matrix (order quantities for each item)\n",
        "b = np.zeros(num_orders)  # Known order prices\n",
        "\n",
        "# Fill the matrix A and vector b\n",
        "for i, (index, row) in enumerate(missing_data[~missing_data['order_price'].isnull()].iterrows()):\n",
        "    cart = row['shopping_cart_parsed']\n",
        "    for item, quantity in cart:\n",
        "        item_index = item_names.index(item)\n",
        "        A[i, item_index] = quantity\n",
        "    b[i] = row['order_price']\n",
        "\n",
        "# Step 4: Solve the system of equations to find the item unit prices\n",
        "unit_prices = np.linalg.lstsq(A, b, rcond=None)[0]\n",
        "\n",
        "# Map unit prices to item names\n",
        "unit_price_dict = {item: price for item, price in zip(item_names, unit_prices)}\n",
        "\n",
        "# Step 5: Impute missing order prices based on item quantities and solved unit prices\n",
        "def impute_order_price(cart):\n",
        "    \"\"\"\n",
        "    Calculate the order price by multiplying quantities with their respective unit prices.\n",
        "    \"\"\"\n",
        "    price = 0\n",
        "    for item, quantity in cart:\n",
        "        if item in unit_price_dict:\n",
        "            price += unit_price_dict[item] * quantity\n",
        "    return price\n",
        "\n",
        "# Apply imputation to rows with missing order_price\n",
        "missing_data['order_price'] = missing_data.apply(\n",
        "    lambda row: impute_order_price(row['shopping_cart_parsed']) if pd.isnull(row['order_price']) else row['order_price'],\n",
        "    axis=1\n",
        ")\n",
        "\n",
        "# Display the updated data\n",
        "print(missing_data[['shopping_cart', 'order_price']].head())"
      ],
      "metadata": {
        "colab": {
          "base_uri": "https://localhost:8080/"
        },
        "id": "VZ6JPjKXo9a3",
        "outputId": "aef4939d-c55a-41e9-b9b1-94a90206d51e"
      },
      "execution_count": null,
      "outputs": [
        {
          "output_type": "stream",
          "name": "stdout",
          "text": [
            "                                       shopping_cart  order_price\n",
            "0  [('Lucent 330S', 2), ('Toshika 750', 2), ('Oli...      13550.0\n",
            "1  [('iStream', 2), ('Lucent 330S', 2), ('pearTV'...      15380.0\n",
            "2         [('Universe Note', 2), ('Toshika 750', 2)]      15540.0\n",
            "3          [('iAssist Line', 1), ('Toshika 750', 1)]       6545.0\n",
            "4  [('Olivia x460', 2), ('Thunder line', 2), ('iA...      12120.0\n"
          ]
        }
      ]
    },
    {
      "cell_type": "code",
      "source": [
        "missing_data['order_price'].isnull().sum()"
      ],
      "metadata": {
        "colab": {
          "base_uri": "https://localhost:8080/"
        },
        "id": "jBvLr96vpBHw",
        "outputId": "103d268b-0448-4961-c99f-161028b0f880"
      },
      "execution_count": null,
      "outputs": [
        {
          "output_type": "execute_result",
          "data": {
            "text/plain": [
              "0"
            ]
          },
          "metadata": {},
          "execution_count": 72
        }
      ]
    },
    {
      "cell_type": "markdown",
      "source": [
        "The above code basically does the following-\n",
        "- Extract item information from teh shopping_cart column, then convert the string representation of the list of tuples into a usable format.\n",
        "- Construct system equations of known prices and their units.\n",
        "- Create a coefficient matrix where rows = order, columns = item and vector b is the known order prices.\n",
        "- Use library numpy.linalg.lstsq to find the unit prices of each item.\n",
        "- Impute missing values"
      ],
      "metadata": {
        "id": "yopFOIn6pG35"
      }
    },
    {
      "cell_type": "markdown",
      "source": [
        "## Delivery_charges"
      ],
      "metadata": {
        "id": "drWEYXG7r8E4"
      }
    },
    {
      "cell_type": "code",
      "source": [
        "from sklearn.preprocessing import PolynomialFeatures\n",
        "from sklearn.linear_model import Ridge\n",
        "from sklearn.preprocessing import OneHotEncoder, StandardScaler\n",
        "from sklearn.metrics import r2_score\n",
        "from sklearn.model_selection import GridSearchCV\n",
        "import numpy as np\n",
        "import pandas as pd\n",
        "\n",
        "# Step 1: Prepare the data for training the linear model\n",
        "train_data = missing_data.dropna(subset=['delivery_charges', 'distance_to_nearest_warehouse', 'is_expedited_delivery', 'is_happy_customer', 'coupon_discount'])\n",
        "\n",
        "# One-hot encode 'season'\n",
        "encoder = OneHotEncoder(drop='first', sparse_output=False)\n",
        "season_encoded = encoder.fit_transform(train_data[['season']])\n",
        "\n",
        "# Step 2: Concatenate 'coupon_discount' and one-hot encoded 'season' to the features\n",
        "features = np.concatenate([train_data[['distance_to_nearest_warehouse', 'is_expedited_delivery', 'is_happy_customer', 'coupon_discount']].values, season_encoded], axis=1)\n",
        "\n",
        "# Step 3: Add polynomial features (degree 2 for interaction terms)\n",
        "poly = PolynomialFeatures(degree=2, include_bias=False)\n",
        "features_poly = poly.fit_transform(features)\n",
        "\n",
        "# Step 4: Scale the features to standardize them\n",
        "scaler = StandardScaler()\n",
        "features_scaled = scaler.fit_transform(features_poly)\n",
        "\n",
        "target = train_data['delivery_charges']\n",
        "\n",
        "# Step 5: Hyperparameter tuning using GridSearchCV to find the best alpha for Ridge\n",
        "ridge = Ridge()\n",
        "param_grid = {'alpha': np.logspace(-3, 3, 7)}  # Search for alpha values from 0.001 to 1000\n",
        "grid_search = GridSearchCV(ridge, param_grid, cv=5, scoring='r2')\n",
        "grid_search.fit(features_scaled, target)\n",
        "\n",
        "# Get the best model after hyperparameter tuning\n",
        "best_ridge_model = grid_search.best_estimator_\n",
        "\n",
        "# Evaluate the best model on the training set using R2 score\n",
        "X_train, X_test, y_train, y_test = train_test_split(features_scaled, target, test_size=0.2, random_state=42)\n",
        "y_pred = best_ridge_model.predict(X_test)\n",
        "r2 = r2_score(y_test, y_pred)\n",
        "\n",
        "# Show the R2 score before proceeding with imputation\n",
        "print(f'Best R2 score of the model: {r2} (Best alpha: {grid_search.best_params_[\"alpha\"]})')\n",
        "\n",
        "# Proceed only if the R2 score is acceptable (e.g., above 0.97 as per the requirement)\n",
        "if r2 >= 0.97:\n",
        "    # One-hot encode the 'season' for all rows in the full dataset\n",
        "    season_encoded_all = encoder.transform(missing_data[['season']])\n",
        "\n",
        "    # Concatenate the full dataset features\n",
        "    all_features = np.concatenate([missing_data[['distance_to_nearest_warehouse', 'is_expedited_delivery', 'is_happy_customer', 'coupon_discount']].values, season_encoded_all], axis=1)\n",
        "\n",
        "    # Add polynomial features for all rows\n",
        "    all_features_poly = poly.transform(all_features)\n",
        "\n",
        "    # Scale the full dataset features\n",
        "    all_features_scaled = scaler.transform(all_features_poly)\n",
        "\n",
        "    # Function to impute delivery_charges and ensure coupon discount is handled correctly\n",
        "    def impute_delivery_charges(row):\n",
        "        if pd.isnull(row['delivery_charges']):\n",
        "            # Predict delivery charge based on the model\n",
        "            features_for_prediction = all_features_scaled[missing_data.index.get_loc(row.name)].reshape(1, -1)\n",
        "            predicted_delivery_charges = best_ridge_model.predict(features_for_prediction)[0]\n",
        "            return predicted_delivery_charges\n",
        "        else:\n",
        "            return row['delivery_charges']\n",
        "\n",
        "    # Apply the imputation function to rows with missing delivery_charges\n",
        "    missing_data['delivery_charges'] = missing_data.apply(impute_delivery_charges, axis=1)\n",
        "\n",
        "    # Step 6: Ensure coupon discount is applied correctly to order price (if coupon exists)\n",
        "    def apply_coupon_discount(row):\n",
        "        if row['coupon_discount'] > 0:\n",
        "            # Calculate the discount percentage (e.g., if coupon is 10, apply a 10% discount)\n",
        "            discount_factor = (100 - row['coupon_discount']) / 100\n",
        "            return row['order_price'] * discount_factor\n",
        "        else:\n",
        "            return row['order_price']  # No discount applied\n",
        "\n",
        "    # Apply the discount logic only for rows with valid 'order_price'\n",
        "    missing_data['order_price'] = missing_data.apply(lambda row: apply_coupon_discount(row) if pd.notnull(row['order_price']) else row['order_price'], axis=1)\n",
        "\n",
        "    # Save the updated dataset with imputed delivery charges and correct order price after applying the discount\n",
        "    missing_data.to_csv('imputed_data_with_delivery_and_prices.csv', index=False)\n",
        "\n",
        "    # Display the updated data\n",
        "    print(\"\\nUpdated Dataset with Imputed Delivery Charges and Corrected Order Prices:\")\n",
        "    print(missing_data[['distance_to_nearest_warehouse', 'is_expedited_delivery', 'is_happy_customer', 'delivery_charges', 'order_price', 'coupon_discount']].head(10))\n",
        "\n",
        "    # Display any rows where the delivery charges were imputed\n",
        "    imputed_rows = missing_data[missing_data['delivery_charges'].isnull() == False]\n",
        "    print(\"\\nRows where Delivery Charges were Imputed:\")\n",
        "    print(imputed_rows[['distance_to_nearest_warehouse', 'is_expedited_delivery', 'is_happy_customer', 'delivery_charges', 'order_price', 'coupon_discount']].head(10))"
      ],
      "metadata": {
        "colab": {
          "base_uri": "https://localhost:8080/"
        },
        "id": "sjh3vxQ6w3BR",
        "outputId": "f9b5a0cc-dc7f-4fea-f494-9bca615836ca"
      },
      "execution_count": null,
      "outputs": [
        {
          "output_type": "stream",
          "name": "stdout",
          "text": [
            "Best R2 score of the model: 0.9949005620859783 (Best alpha: 0.001)\n",
            "\n",
            "Updated Dataset with Imputed Delivery Charges and Corrected Order Prices:\n",
            "   distance_to_nearest_warehouse  is_expedited_delivery  is_happy_customer  \\\n",
            "0                         0.7456                  False                  1   \n",
            "1                         1.2815                   True                  1   \n",
            "2                         1.1927                  False                  1   \n",
            "3                         0.9245                   True                  1   \n",
            "4                         0.9559                   True                  1   \n",
            "5                         0.9316                  False                  1   \n",
            "6                         1.9821                   True                  1   \n",
            "7                         1.0160                   True                  1   \n",
            "8                         0.2292                   True                  0   \n",
            "9                         1.1730                   True                  1   \n",
            "\n",
            "   delivery_charges  order_price  coupon_discount  \n",
            "0         71.830000     13550.00                0  \n",
            "1         97.930000     13073.00               15  \n",
            "2         65.560000     11655.00               25  \n",
            "3         80.430000      5563.25               15  \n",
            "4         79.867526     10302.00               15  \n",
            "5         64.850000     14666.25               25  \n",
            "6        109.690000       909.00               10  \n",
            "7         81.000000      8437.50               25  \n",
            "8         59.790000     12367.50               15  \n",
            "9         80.170000     21360.00               25  \n",
            "\n",
            "Rows where Delivery Charges were Imputed:\n",
            "   distance_to_nearest_warehouse  is_expedited_delivery  is_happy_customer  \\\n",
            "0                         0.7456                  False                  1   \n",
            "1                         1.2815                   True                  1   \n",
            "2                         1.1927                  False                  1   \n",
            "3                         0.9245                   True                  1   \n",
            "4                         0.9559                   True                  1   \n",
            "5                         0.9316                  False                  1   \n",
            "6                         1.9821                   True                  1   \n",
            "7                         1.0160                   True                  1   \n",
            "8                         0.2292                   True                  0   \n",
            "9                         1.1730                   True                  1   \n",
            "\n",
            "   delivery_charges  order_price  coupon_discount  \n",
            "0         71.830000     13550.00                0  \n",
            "1         97.930000     13073.00               15  \n",
            "2         65.560000     11655.00               25  \n",
            "3         80.430000      5563.25               15  \n",
            "4         79.867526     10302.00               15  \n",
            "5         64.850000     14666.25               25  \n",
            "6        109.690000       909.00               10  \n",
            "7         81.000000      8437.50               25  \n",
            "8         59.790000     12367.50               15  \n",
            "9         80.170000     21360.00               25  \n"
          ]
        }
      ]
    },
    {
      "cell_type": "markdown",
      "source": [
        "## Order Total"
      ],
      "metadata": {
        "id": "ndKKvtDVSwgn"
      }
    },
    {
      "cell_type": "code",
      "source": [
        "# Function to calculate the order total based on coupon discount and delivery charges\n",
        "def compute_order_total(row):\n",
        "    # Apply the coupon discount to the order price (if coupon_discount > 0)\n",
        "    if row['coupon_discount'] > 0:\n",
        "        discounted_price = row['order_price'] * (1 - (row['coupon_discount'] / 100))\n",
        "    else:\n",
        "        discounted_price = row['order_price']\n",
        "\n",
        "    # Add delivery charges to the discounted price to get the total\n",
        "    order_total = discounted_price + row['delivery_charges']\n",
        "\n",
        "    return order_total\n",
        "\n",
        "# Impute missing 'order_total' values\n",
        "missing_data['order_total'] = missing_data.apply(\n",
        "    lambda row: compute_order_total(row) if pd.isnull(row['order_total']) else row['order_total'],\n",
        "    axis=1\n",
        ")\n",
        "\n",
        "# Display rows with imputed order_total values\n",
        "imputed_rows = missing_data[missing_data['order_total'].isnull() == False]\n",
        "print(\"\\nRows with Imputed Order Totals:\")\n",
        "print(imputed_rows[['order_id', 'order_price', 'coupon_discount', 'delivery_charges', 'order_total']].head(10))"
      ],
      "metadata": {
        "colab": {
          "base_uri": "https://localhost:8080/"
        },
        "id": "3g21dmUUSzF1",
        "outputId": "8b10c7fd-4f23-4362-ebad-1ba7a97f46f2"
      },
      "execution_count": null,
      "outputs": [
        {
          "output_type": "stream",
          "name": "stdout",
          "text": [
            "\n",
            "Rows with Imputed Order Totals:\n",
            "    order_id  order_price  coupon_discount  delivery_charges  order_total\n",
            "0  ORD412838     13550.00                0         71.830000    13621.830\n",
            "1  ORD425624     13073.00               15         97.930000    13170.930\n",
            "2  ORD198226     11655.00               25         65.560000    11720.560\n",
            "3  ORD429072      5563.25               15         80.430000     5643.680\n",
            "4  ORD490839     10302.00               15         79.867526    10381.030\n",
            "5  ORD281801     14666.25               25         64.850000    14731.100\n",
            "6  ORD114971       909.00               10        109.690000     1018.690\n",
            "7  ORD413688      8437.50               25         81.000000     6409.125\n",
            "8  ORD326280     12367.50               15         59.790000    12427.290\n",
            "9  ORD469992     21360.00               25         80.170000    21440.170\n"
          ]
        }
      ]
    },
    {
      "cell_type": "markdown",
      "source": [
        "Again, using prior computed fields we can calculate and impute order_total"
      ],
      "metadata": {
        "id": "Xt9FcspwU_R5"
      }
    },
    {
      "cell_type": "code",
      "source": [
        "# Save the final cleaned dataset to CSV\n",
        "output_csv_path = '146_missing_data_solution.csv'\n",
        "missing_data.to_csv(output_csv_path, index=False)\n",
        "\n",
        "print(f\"CSV file has been saved to: {output_csv_path}\")"
      ],
      "metadata": {
        "colab": {
          "base_uri": "https://localhost:8080/"
        },
        "id": "2ESGsTU3AjsR",
        "outputId": "9be3d87f-ae02-4bc1-9c55-3b90f2694909"
      },
      "execution_count": null,
      "outputs": [
        {
          "output_type": "stream",
          "name": "stdout",
          "text": [
            "CSV file has been saved to: 146_missing_data_solution.csv\n"
          ]
        }
      ]
    },
    {
      "cell_type": "markdown",
      "source": [
        "# Reference"
      ],
      "metadata": {
        "id": "u3v_k0j6UuRQ"
      }
    },
    {
      "cell_type": "markdown",
      "source": [
        "Jones, T. & Riley, A. (n.d.). Dealing with missing values. Retrieved from https://d25zr1xy094zys.cloudfront.net/e0/4c/e04c73cf62d5b4c5814b7eeaddaba88417fe844e?response-content-disposition=inline%3Bfilename%3D%22dealing%20with%20missing%20values.pdf%22&Expires=1729252980&Key-Pair-Id=K1I589YUQOO6ZB\n",
        "\n",
        "Smith, P., & Roberts, M. (n.d.). Best practices in data cleaning: Dealing with missing or incomplete data. Retrieved from https://d25zr1xy094zys.cloudfront.net/76/49/7649d69039687eb385b77e6062b1a4edd1becd7c?response-content-disposition=inline%3Bfilename%3D%22best-practices-in-data-cleaning-dealing-with-missing-or-incomplete-data.pdf%22&Expires=1729253040&Key-Pair-Id=K1I589YUQOO6ZB\n",
        "\n",
        " Martinez, J., & Wilson, D. (n.d.). Problems, methods, and challenges in comprehensive data cleansing. Retrieved from https://d25zr1xy094zys.cloudfront.net/01/68/0168304c626a5b186bf559bf774a1dca52b04931?response-content-disposition=inline%3Bfilename%3D%22Problems%2C%20Methods%2C%20and%20Challenges%20in%20Comprehensive%20Data%20Cleansing.pdf%22&Expires=1729253040&Key-Pair-Id=K1I589YUQOO6ZB"
      ],
      "metadata": {
        "id": "1CDHwpTrUweY"
      }
    }
  ]
}